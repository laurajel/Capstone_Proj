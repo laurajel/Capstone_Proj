{
 "cells": [
  {
   "cell_type": "markdown",
   "metadata": {},
   "source": [
    "# Creating CSVs for Viz "
   ]
  },
  {
   "cell_type": "code",
   "execution_count": 1,
   "metadata": {},
   "outputs": [],
   "source": [
    "#### Import\n",
    "\n",
    "import pandas as pd\n",
    "import numpy as np\n",
    "import seaborn as sns\n",
    "import matplotlib.pyplot as plt\n",
    "\n",
    "%matplotlib inline\n",
    "sns.set_style('ticks')\n",
    "\n",
    "import warnings\n",
    "\n",
    "warnings.filterwarnings('ignore')"
   ]
  },
  {
   "cell_type": "markdown",
   "metadata": {},
   "source": [
    "## All Data"
   ]
  },
  {
   "cell_type": "code",
   "execution_count": 2,
   "metadata": {
    "scrolled": true
   },
   "outputs": [],
   "source": [
    "cdc_data = pd.read_csv('../DATA/XXHq_2017.csv')\n",
    "weighted = pd.read_csv(\"../DATA/weighted_2017.csv\")"
   ]
  },
  {
   "cell_type": "code",
   "execution_count": 3,
   "metadata": {},
   "outputs": [
    {
     "data": {
      "text/plain": [
       "(14765, 109)"
      ]
     },
     "execution_count": 3,
     "metadata": {},
     "output_type": "execute_result"
    }
   ],
   "source": [
    "cdc_data.shape"
   ]
  },
  {
   "cell_type": "code",
   "execution_count": 4,
   "metadata": {},
   "outputs": [
    {
     "data": {
      "text/html": [
       "<div>\n",
       "<style scoped>\n",
       "    .dataframe tbody tr th:only-of-type {\n",
       "        vertical-align: middle;\n",
       "    }\n",
       "\n",
       "    .dataframe tbody tr th {\n",
       "        vertical-align: top;\n",
       "    }\n",
       "\n",
       "    .dataframe thead th {\n",
       "        text-align: right;\n",
       "    }\n",
       "</style>\n",
       "<table border=\"1\" class=\"dataframe\">\n",
       "  <thead>\n",
       "    <tr style=\"text-align: right;\">\n",
       "      <th></th>\n",
       "      <th>site</th>\n",
       "      <th>raceeth</th>\n",
       "      <th>q6orig</th>\n",
       "      <th>q7orig</th>\n",
       "      <th>record</th>\n",
       "      <th>orig_rec</th>\n",
       "      <th>q1</th>\n",
       "      <th>q2</th>\n",
       "      <th>q3</th>\n",
       "      <th>q4</th>\n",
       "      <th>...</th>\n",
       "      <th>q94</th>\n",
       "      <th>q95</th>\n",
       "      <th>q96</th>\n",
       "      <th>q97</th>\n",
       "      <th>q98</th>\n",
       "      <th>q99</th>\n",
       "      <th>BMIPCT</th>\n",
       "      <th>weight</th>\n",
       "      <th>stratum</th>\n",
       "      <th>psu</th>\n",
       "    </tr>\n",
       "  </thead>\n",
       "  <tbody>\n",
       "    <tr>\n",
       "      <th>0</th>\n",
       "      <td>XX</td>\n",
       "      <td>5.0</td>\n",
       "      <td>603</td>\n",
       "      <td>240</td>\n",
       "      <td>1</td>\n",
       "      <td>NaN</td>\n",
       "      <td>5.0</td>\n",
       "      <td>2.0</td>\n",
       "      <td>3.0</td>\n",
       "      <td>2.0</td>\n",
       "      <td>...</td>\n",
       "      <td>2.0</td>\n",
       "      <td>3.0</td>\n",
       "      <td>1.0</td>\n",
       "      <td>1.0</td>\n",
       "      <td>2.0</td>\n",
       "      <td>1.0</td>\n",
       "      <td>97.435947</td>\n",
       "      <td>0.5497</td>\n",
       "      <td>101</td>\n",
       "      <td>11170</td>\n",
       "    </tr>\n",
       "    <tr>\n",
       "      <th>1</th>\n",
       "      <td>XX</td>\n",
       "      <td>6.0</td>\n",
       "      <td>503</td>\n",
       "      <td>130</td>\n",
       "      <td>2</td>\n",
       "      <td>NaN</td>\n",
       "      <td>7.0</td>\n",
       "      <td>2.0</td>\n",
       "      <td>3.0</td>\n",
       "      <td>1.0</td>\n",
       "      <td>...</td>\n",
       "      <td>2.0</td>\n",
       "      <td>1.0</td>\n",
       "      <td>1.0</td>\n",
       "      <td>1.0</td>\n",
       "      <td>2.0</td>\n",
       "      <td>2.0</td>\n",
       "      <td>60.882561</td>\n",
       "      <td>0.3811</td>\n",
       "      <td>101</td>\n",
       "      <td>11170</td>\n",
       "    </tr>\n",
       "    <tr>\n",
       "      <th>2</th>\n",
       "      <td>XX</td>\n",
       "      <td>7.0</td>\n",
       "      <td>505</td>\n",
       "      <td>142</td>\n",
       "      <td>3</td>\n",
       "      <td>NaN</td>\n",
       "      <td>5.0</td>\n",
       "      <td>1.0</td>\n",
       "      <td>3.0</td>\n",
       "      <td>1.0</td>\n",
       "      <td>...</td>\n",
       "      <td>NaN</td>\n",
       "      <td>3.0</td>\n",
       "      <td>1.0</td>\n",
       "      <td>1.0</td>\n",
       "      <td>2.0</td>\n",
       "      <td>1.0</td>\n",
       "      <td>78.495112</td>\n",
       "      <td>0.4238</td>\n",
       "      <td>101</td>\n",
       "      <td>11170</td>\n",
       "    </tr>\n",
       "    <tr>\n",
       "      <th>3</th>\n",
       "      <td>XX</td>\n",
       "      <td>6.0</td>\n",
       "      <td>503</td>\n",
       "      <td>143</td>\n",
       "      <td>4</td>\n",
       "      <td>NaN</td>\n",
       "      <td>6.0</td>\n",
       "      <td>1.0</td>\n",
       "      <td>3.0</td>\n",
       "      <td>1.0</td>\n",
       "      <td>...</td>\n",
       "      <td>2.0</td>\n",
       "      <td>4.0</td>\n",
       "      <td>1.0</td>\n",
       "      <td>2.0</td>\n",
       "      <td>1.0</td>\n",
       "      <td>1.0</td>\n",
       "      <td>84.614440</td>\n",
       "      <td>0.4238</td>\n",
       "      <td>101</td>\n",
       "      <td>11170</td>\n",
       "    </tr>\n",
       "    <tr>\n",
       "      <th>4</th>\n",
       "      <td>XX</td>\n",
       "      <td>5.0</td>\n",
       "      <td>509</td>\n",
       "      <td>145</td>\n",
       "      <td>5</td>\n",
       "      <td>NaN</td>\n",
       "      <td>7.0</td>\n",
       "      <td>2.0</td>\n",
       "      <td>3.0</td>\n",
       "      <td>2.0</td>\n",
       "      <td>...</td>\n",
       "      <td>2.0</td>\n",
       "      <td>3.0</td>\n",
       "      <td>1.0</td>\n",
       "      <td>1.0</td>\n",
       "      <td>1.0</td>\n",
       "      <td>1.0</td>\n",
       "      <td>40.075252</td>\n",
       "      <td>0.5497</td>\n",
       "      <td>101</td>\n",
       "      <td>11170</td>\n",
       "    </tr>\n",
       "  </tbody>\n",
       "</table>\n",
       "<p>5 rows × 109 columns</p>\n",
       "</div>"
      ],
      "text/plain": [
       "  site  raceeth q6orig q7orig  record  orig_rec   q1   q2   q3   q4  ...  q94  \\\n",
       "0   XX      5.0    603    240       1       NaN  5.0  2.0  3.0  2.0  ...  2.0   \n",
       "1   XX      6.0    503    130       2       NaN  7.0  2.0  3.0  1.0  ...  2.0   \n",
       "2   XX      7.0    505    142       3       NaN  5.0  1.0  3.0  1.0  ...  NaN   \n",
       "3   XX      6.0    503    143       4       NaN  6.0  1.0  3.0  1.0  ...  2.0   \n",
       "4   XX      5.0    509    145       5       NaN  7.0  2.0  3.0  2.0  ...  2.0   \n",
       "\n",
       "   q95  q96  q97  q98  q99     BMIPCT  weight  stratum    psu  \n",
       "0  3.0  1.0  1.0  2.0  1.0  97.435947  0.5497      101  11170  \n",
       "1  1.0  1.0  1.0  2.0  2.0  60.882561  0.3811      101  11170  \n",
       "2  3.0  1.0  1.0  2.0  1.0  78.495112  0.4238      101  11170  \n",
       "3  4.0  1.0  2.0  1.0  1.0  84.614440  0.4238      101  11170  \n",
       "4  3.0  1.0  1.0  1.0  1.0  40.075252  0.5497      101  11170  \n",
       "\n",
       "[5 rows x 109 columns]"
      ]
     },
     "execution_count": 4,
     "metadata": {},
     "output_type": "execute_result"
    }
   ],
   "source": [
    "cdc_data.head()"
   ]
  },
  {
   "cell_type": "code",
   "execution_count": 5,
   "metadata": {},
   "outputs": [],
   "source": [
    "cdc_data.drop(['q5','site','q6orig', 'q7orig', 'record', 'orig_rec' \n",
    "               ], axis = 1, inplace = True)"
   ]
  },
  {
   "cell_type": "code",
   "execution_count": 6,
   "metadata": {
    "scrolled": true
   },
   "outputs": [
    {
     "data": {
      "text/plain": [
       "(14765, 103)"
      ]
     },
     "execution_count": 6,
     "metadata": {},
     "output_type": "execute_result"
    }
   ],
   "source": [
    "cdc_data.shape"
   ]
  },
  {
   "cell_type": "code",
   "execution_count": 7,
   "metadata": {
    "scrolled": true
   },
   "outputs": [
    {
     "data": {
      "text/plain": [
       "raceeth    float64\n",
       "q1         float64\n",
       "q2         float64\n",
       "q3         float64\n",
       "q4         float64\n",
       "q6         float64\n",
       "q7         float64\n",
       "q8         float64\n",
       "q9         float64\n",
       "q10        float64\n",
       "q11        float64\n",
       "q12        float64\n",
       "q13        float64\n",
       "q14        float64\n",
       "q15        float64\n",
       "q16        float64\n",
       "q17        float64\n",
       "q18        float64\n",
       "q19        float64\n",
       "q20        float64\n",
       "q21        float64\n",
       "q22        float64\n",
       "q23        float64\n",
       "q24        float64\n",
       "q25        float64\n",
       "q26        float64\n",
       "q27        float64\n",
       "q28        float64\n",
       "q29        float64\n",
       "q30        float64\n",
       "            ...   \n",
       "q74        float64\n",
       "q75        float64\n",
       "q76        float64\n",
       "q77        float64\n",
       "q78        float64\n",
       "q79        float64\n",
       "q80        float64\n",
       "q81        float64\n",
       "q82        float64\n",
       "q83        float64\n",
       "q84        float64\n",
       "q85        float64\n",
       "q86        float64\n",
       "q87        float64\n",
       "q88        float64\n",
       "q89        float64\n",
       "q90        float64\n",
       "q91        float64\n",
       "q92        float64\n",
       "q93        float64\n",
       "q94        float64\n",
       "q95        float64\n",
       "q96        float64\n",
       "q97        float64\n",
       "q98        float64\n",
       "q99        float64\n",
       "BMIPCT     float64\n",
       "weight     float64\n",
       "stratum      int64\n",
       "psu          int64\n",
       "Length: 103, dtype: object"
      ]
     },
     "execution_count": 7,
     "metadata": {},
     "output_type": "execute_result"
    }
   ],
   "source": [
    "cdc_data.dtypes"
   ]
  },
  {
   "cell_type": "markdown",
   "metadata": {},
   "source": [
    "## Sexual Identity"
   ]
  },
  {
   "cell_type": "code",
   "execution_count": 8,
   "metadata": {
    "scrolled": true
   },
   "outputs": [
    {
     "data": {
      "text/plain": [
       "Heterosexual      12012\n",
       "Bisexual           1137\n",
       "Unsure              602\n",
       "Gay or Lesbian      357\n",
       "Name: sex_id, dtype: int64"
      ]
     },
     "execution_count": 8,
     "metadata": {},
     "output_type": "execute_result"
    }
   ],
   "source": [
    "cdc_data['q67'] = cdc_data['q67'].apply(lambda x: \"Heterosexual\" if x == 1.0 else x)\n",
    "cdc_data['q67'] = cdc_data['q67'].apply(lambda x: \"Gay or Lesbian\" if x == 2.0 else x)\n",
    "cdc_data['q67'] = cdc_data['q67'].apply(lambda x: \"Bisexual\" if x == 3.0 else x)                                              \n",
    "cdc_data['q67'] = cdc_data['q67'].apply(lambda x: \"Unsure\" if x == 4.0 else x) \n",
    "\n",
    "cdc_data['sex_id'] = cdc_data['q67']\n",
    "cdc_data['sex_id'].value_counts()"
   ]
  },
  {
   "cell_type": "markdown",
   "metadata": {},
   "source": [
    "## Age "
   ]
  },
  {
   "cell_type": "code",
   "execution_count": 9,
   "metadata": {},
   "outputs": [
    {
     "data": {
      "text/plain": [
       "16 years old     3688\n",
       "17 years old     3611\n",
       "15 years old     3586\n",
       "14 years old     1922\n",
       "18 or older      1796\n",
       "12 or younger      59\n",
       "13 years old       22\n",
       "Name: age, dtype: int64"
      ]
     },
     "execution_count": 9,
     "metadata": {},
     "output_type": "execute_result"
    }
   ],
   "source": [
    "cdc_data['q1'] = cdc_data['q1'].apply(lambda x: \"12 or younger\" if x == 1.0 else x)\n",
    "cdc_data['q1'] = cdc_data['q1'].apply(lambda x: \"13 years old\" if x == 2.0 else x)\n",
    "cdc_data['q1'] = cdc_data['q1'].apply(lambda x: \"14 years old\" if x == 3.0 else x)                                              \n",
    "cdc_data['q1'] = cdc_data['q1'].apply(lambda x: \"15 years old\" if x == 4.0 else x)  \n",
    "cdc_data['q1'] = cdc_data['q1'].apply(lambda x: \"16 years old\" if x == 5.0 else x)\n",
    "cdc_data['q1'] = cdc_data['q1'].apply(lambda x: \"17 years old\" if x == 6.0 else x)  \n",
    "cdc_data['q1'] = cdc_data['q1'].apply(lambda x: \"18 or older\" if x == 7.0 else x)\n",
    "\n",
    "cdc_data['age'] = cdc_data['q1']\n",
    "cdc_data['age'].value_counts()"
   ]
  },
  {
   "cell_type": "markdown",
   "metadata": {},
   "source": [
    "## Grade"
   ]
  },
  {
   "cell_type": "code",
   "execution_count": 10,
   "metadata": {},
   "outputs": [
    {
     "data": {
      "text/plain": [
       "9th grade            3921\n",
       "10th grade           3715\n",
       "11th grade           3602\n",
       "12th grade           3383\n",
       "Ungraded or other      30\n",
       "Name: grade, dtype: int64"
      ]
     },
     "execution_count": 10,
     "metadata": {},
     "output_type": "execute_result"
    }
   ],
   "source": [
    "cdc_data['q3'] = cdc_data['q3'].apply(lambda x: \"9th grade\" if x == 1.0 else x)\n",
    "cdc_data['q3'] = cdc_data['q3'].apply(lambda x: \"10th grade\" if x == 2.0 else x)\n",
    "cdc_data['q3'] = cdc_data['q3'].apply(lambda x: \"11th grade\" if x == 3.0 else x)                                              \n",
    "cdc_data['q3'] = cdc_data['q3'].apply(lambda x: \"12th grade\" if x == 4.0 else x)  \n",
    "cdc_data['q3'] = cdc_data['q3'].apply(lambda x: \"Ungraded or other\" if x == 5.0 else x)\n",
    "\n",
    "cdc_data['grade'] = cdc_data['q3'].astype('object')\n",
    "cdc_data['grade'].value_counts()"
   ]
  },
  {
   "cell_type": "markdown",
   "metadata": {},
   "source": [
    "## Sex"
   ]
  },
  {
   "cell_type": "code",
   "execution_count": 11,
   "metadata": {},
   "outputs": [
    {
     "data": {
      "text/plain": [
       "M    7653\n",
       "F    7112\n",
       "Name: Sex, dtype: int64"
      ]
     },
     "execution_count": 11,
     "metadata": {},
     "output_type": "execute_result"
    }
   ],
   "source": [
    "cdc_data['Sex'] = cdc_data['q2'].apply(lambda x: \"F\" if x == 2.0 else \"M\")\n",
    "cdc_data['Sex'].value_counts()"
   ]
  },
  {
   "cell_type": "markdown",
   "metadata": {},
   "source": [
    "## Race Eth"
   ]
  },
  {
   "cell_type": "code",
   "execution_count": 12,
   "metadata": {},
   "outputs": [
    {
     "data": {
      "text/plain": [
       "White                                 6261\n",
       "African American                      2796\n",
       "Multiple Hispanic/Latino              2104\n",
       "Hispanic/Latino                       1543\n",
       "Multiple non-Hispanic/Latino           823\n",
       "Asian                                  648\n",
       "American Indian/Alaska Native          137\n",
       "Native Hawaiian/Other Pacific Isld     116\n",
       "Name: raceeth, dtype: int64"
      ]
     },
     "execution_count": 12,
     "metadata": {},
     "output_type": "execute_result"
    }
   ],
   "source": [
    "cdc_data['raceeth'] = cdc_data['raceeth'].apply(lambda x: \"American Indian/Alaska Native\" if x == 1.0 else x)\n",
    "cdc_data['raceeth'] = cdc_data['raceeth'].apply(lambda x: \"Asian\" if x == 2.0 else x)\n",
    "cdc_data['raceeth'] = cdc_data['raceeth'].apply(lambda x: \"African American\" if x == 3.0 else x)\n",
    "cdc_data['raceeth'] = cdc_data['raceeth'].apply(lambda x: \"Native Hawaiian/Other Pacific Isld\" if x == 4.0 else x)                                              \n",
    "cdc_data['raceeth'] = cdc_data['raceeth'].apply(lambda x: \"White\" if x == 5.0 else x)                                             \n",
    "cdc_data['raceeth'] = cdc_data['raceeth'].apply(lambda x: \"Hispanic/Latino\" if x == 6.0 else x)\n",
    "cdc_data['raceeth'] = cdc_data['raceeth'].apply(lambda x: \"Multiple Hispanic/Latino\" if x == 7.0 else x)\n",
    "cdc_data['raceeth'] = cdc_data['raceeth'].apply(lambda x: \"Multiple non-Hispanic/Latino\" if x == 8.0 else x)\n",
    "\n",
    "cdc_data['raceeth'].value_counts()"
   ]
  },
  {
   "cell_type": "code",
   "execution_count": 13,
   "metadata": {
    "scrolled": true
   },
   "outputs": [
    {
     "data": {
      "text/html": [
       "<div>\n",
       "<style scoped>\n",
       "    .dataframe tbody tr th:only-of-type {\n",
       "        vertical-align: middle;\n",
       "    }\n",
       "\n",
       "    .dataframe tbody tr th {\n",
       "        vertical-align: top;\n",
       "    }\n",
       "\n",
       "    .dataframe thead th {\n",
       "        text-align: right;\n",
       "    }\n",
       "</style>\n",
       "<table border=\"1\" class=\"dataframe\">\n",
       "  <thead>\n",
       "    <tr style=\"text-align: right;\">\n",
       "      <th></th>\n",
       "      <th>raceeth</th>\n",
       "      <th>q1</th>\n",
       "      <th>q2</th>\n",
       "      <th>q3</th>\n",
       "      <th>q4</th>\n",
       "      <th>q6</th>\n",
       "      <th>q7</th>\n",
       "      <th>q8</th>\n",
       "      <th>q9</th>\n",
       "      <th>q10</th>\n",
       "      <th>...</th>\n",
       "      <th>q98</th>\n",
       "      <th>q99</th>\n",
       "      <th>BMIPCT</th>\n",
       "      <th>weight</th>\n",
       "      <th>stratum</th>\n",
       "      <th>psu</th>\n",
       "      <th>sex_id</th>\n",
       "      <th>age</th>\n",
       "      <th>grade</th>\n",
       "      <th>Sex</th>\n",
       "    </tr>\n",
       "  </thead>\n",
       "  <tbody>\n",
       "    <tr>\n",
       "      <th>0</th>\n",
       "      <td>White</td>\n",
       "      <td>16 years old</td>\n",
       "      <td>2.0</td>\n",
       "      <td>11th grade</td>\n",
       "      <td>2.0</td>\n",
       "      <td>1.90</td>\n",
       "      <td>108.86</td>\n",
       "      <td>4.0</td>\n",
       "      <td>1.0</td>\n",
       "      <td>2.0</td>\n",
       "      <td>...</td>\n",
       "      <td>2.0</td>\n",
       "      <td>1.0</td>\n",
       "      <td>97.435947</td>\n",
       "      <td>0.5497</td>\n",
       "      <td>101</td>\n",
       "      <td>11170</td>\n",
       "      <td>Heterosexual</td>\n",
       "      <td>16 years old</td>\n",
       "      <td>11th grade</td>\n",
       "      <td>F</td>\n",
       "    </tr>\n",
       "    <tr>\n",
       "      <th>1</th>\n",
       "      <td>Hispanic/Latino</td>\n",
       "      <td>18 or older</td>\n",
       "      <td>2.0</td>\n",
       "      <td>11th grade</td>\n",
       "      <td>1.0</td>\n",
       "      <td>1.60</td>\n",
       "      <td>58.97</td>\n",
       "      <td>5.0</td>\n",
       "      <td>1.0</td>\n",
       "      <td>2.0</td>\n",
       "      <td>...</td>\n",
       "      <td>2.0</td>\n",
       "      <td>2.0</td>\n",
       "      <td>60.882561</td>\n",
       "      <td>0.3811</td>\n",
       "      <td>101</td>\n",
       "      <td>11170</td>\n",
       "      <td>Heterosexual</td>\n",
       "      <td>18 or older</td>\n",
       "      <td>11th grade</td>\n",
       "      <td>F</td>\n",
       "    </tr>\n",
       "    <tr>\n",
       "      <th>2</th>\n",
       "      <td>Multiple Hispanic/Latino</td>\n",
       "      <td>16 years old</td>\n",
       "      <td>1.0</td>\n",
       "      <td>11th grade</td>\n",
       "      <td>1.0</td>\n",
       "      <td>1.65</td>\n",
       "      <td>64.41</td>\n",
       "      <td>5.0</td>\n",
       "      <td>1.0</td>\n",
       "      <td>2.0</td>\n",
       "      <td>...</td>\n",
       "      <td>2.0</td>\n",
       "      <td>1.0</td>\n",
       "      <td>78.495112</td>\n",
       "      <td>0.4238</td>\n",
       "      <td>101</td>\n",
       "      <td>11170</td>\n",
       "      <td>Heterosexual</td>\n",
       "      <td>16 years old</td>\n",
       "      <td>11th grade</td>\n",
       "      <td>M</td>\n",
       "    </tr>\n",
       "    <tr>\n",
       "      <th>3</th>\n",
       "      <td>Hispanic/Latino</td>\n",
       "      <td>17 years old</td>\n",
       "      <td>1.0</td>\n",
       "      <td>11th grade</td>\n",
       "      <td>1.0</td>\n",
       "      <td>1.60</td>\n",
       "      <td>64.86</td>\n",
       "      <td>4.0</td>\n",
       "      <td>1.0</td>\n",
       "      <td>2.0</td>\n",
       "      <td>...</td>\n",
       "      <td>1.0</td>\n",
       "      <td>1.0</td>\n",
       "      <td>84.614440</td>\n",
       "      <td>0.4238</td>\n",
       "      <td>101</td>\n",
       "      <td>11170</td>\n",
       "      <td>Heterosexual</td>\n",
       "      <td>17 years old</td>\n",
       "      <td>11th grade</td>\n",
       "      <td>M</td>\n",
       "    </tr>\n",
       "    <tr>\n",
       "      <th>4</th>\n",
       "      <td>White</td>\n",
       "      <td>18 or older</td>\n",
       "      <td>2.0</td>\n",
       "      <td>11th grade</td>\n",
       "      <td>2.0</td>\n",
       "      <td>1.75</td>\n",
       "      <td>65.77</td>\n",
       "      <td>5.0</td>\n",
       "      <td>1.0</td>\n",
       "      <td>2.0</td>\n",
       "      <td>...</td>\n",
       "      <td>1.0</td>\n",
       "      <td>1.0</td>\n",
       "      <td>40.075252</td>\n",
       "      <td>0.5497</td>\n",
       "      <td>101</td>\n",
       "      <td>11170</td>\n",
       "      <td>Heterosexual</td>\n",
       "      <td>18 or older</td>\n",
       "      <td>11th grade</td>\n",
       "      <td>F</td>\n",
       "    </tr>\n",
       "  </tbody>\n",
       "</table>\n",
       "<p>5 rows × 107 columns</p>\n",
       "</div>"
      ],
      "text/plain": [
       "                    raceeth            q1   q2          q3   q4    q6      q7  \\\n",
       "0                     White  16 years old  2.0  11th grade  2.0  1.90  108.86   \n",
       "1           Hispanic/Latino   18 or older  2.0  11th grade  1.0  1.60   58.97   \n",
       "2  Multiple Hispanic/Latino  16 years old  1.0  11th grade  1.0  1.65   64.41   \n",
       "3           Hispanic/Latino  17 years old  1.0  11th grade  1.0  1.60   64.86   \n",
       "4                     White   18 or older  2.0  11th grade  2.0  1.75   65.77   \n",
       "\n",
       "    q8   q9  q10  ...  q98  q99     BMIPCT  weight  stratum    psu  \\\n",
       "0  4.0  1.0  2.0  ...  2.0  1.0  97.435947  0.5497      101  11170   \n",
       "1  5.0  1.0  2.0  ...  2.0  2.0  60.882561  0.3811      101  11170   \n",
       "2  5.0  1.0  2.0  ...  2.0  1.0  78.495112  0.4238      101  11170   \n",
       "3  4.0  1.0  2.0  ...  1.0  1.0  84.614440  0.4238      101  11170   \n",
       "4  5.0  1.0  2.0  ...  1.0  1.0  40.075252  0.5497      101  11170   \n",
       "\n",
       "         sex_id           age       grade  Sex  \n",
       "0  Heterosexual  16 years old  11th grade    F  \n",
       "1  Heterosexual   18 or older  11th grade    F  \n",
       "2  Heterosexual  16 years old  11th grade    M  \n",
       "3  Heterosexual  17 years old  11th grade    M  \n",
       "4  Heterosexual   18 or older  11th grade    F  \n",
       "\n",
       "[5 rows x 107 columns]"
      ]
     },
     "execution_count": 13,
     "metadata": {},
     "output_type": "execute_result"
    }
   ],
   "source": [
    "cdc_data.head()"
   ]
  },
  {
   "cell_type": "code",
   "execution_count": 14,
   "metadata": {},
   "outputs": [],
   "source": [
    "cdc_data.drop(['q1', 'q3', 'q67'], axis =1, inplace = True)"
   ]
  },
  {
   "cell_type": "markdown",
   "metadata": {},
   "source": [
    "## Groups"
   ]
  },
  {
   "cell_type": "code",
   "execution_count": 398,
   "metadata": {},
   "outputs": [],
   "source": [
    "Demo13 = pd.DataFrame(cdc_data[['raceeth', 'sex_id', 'age', 'grade', 'Sex', 'q13']])"
   ]
  },
  {
   "cell_type": "code",
   "execution_count": 401,
   "metadata": {
    "collapsed": true
   },
   "outputs": [
    {
     "data": {
      "text/html": [
       "<div>\n",
       "<style scoped>\n",
       "    .dataframe tbody tr th:only-of-type {\n",
       "        vertical-align: middle;\n",
       "    }\n",
       "\n",
       "    .dataframe tbody tr th {\n",
       "        vertical-align: top;\n",
       "    }\n",
       "\n",
       "    .dataframe thead th {\n",
       "        text-align: right;\n",
       "    }\n",
       "</style>\n",
       "<table border=\"1\" class=\"dataframe\">\n",
       "  <thead>\n",
       "    <tr style=\"text-align: right;\">\n",
       "      <th></th>\n",
       "      <th></th>\n",
       "      <th>raceeth</th>\n",
       "      <th>sex_id</th>\n",
       "      <th>grade</th>\n",
       "      <th>Sex</th>\n",
       "    </tr>\n",
       "    <tr>\n",
       "      <th>q13</th>\n",
       "      <th>age</th>\n",
       "      <th></th>\n",
       "      <th></th>\n",
       "      <th></th>\n",
       "      <th></th>\n",
       "    </tr>\n",
       "  </thead>\n",
       "  <tbody>\n",
       "    <tr>\n",
       "      <th rowspan=\"7\" valign=\"top\">1.0</th>\n",
       "      <th>12 or younger</th>\n",
       "      <td>25</td>\n",
       "      <td>22</td>\n",
       "      <td>25</td>\n",
       "      <td>26</td>\n",
       "    </tr>\n",
       "    <tr>\n",
       "      <th>13 years old</th>\n",
       "      <td>17</td>\n",
       "      <td>17</td>\n",
       "      <td>18</td>\n",
       "      <td>18</td>\n",
       "    </tr>\n",
       "    <tr>\n",
       "      <th>14 years old</th>\n",
       "      <td>1804</td>\n",
       "      <td>1737</td>\n",
       "      <td>1840</td>\n",
       "      <td>1845</td>\n",
       "    </tr>\n",
       "    <tr>\n",
       "      <th>15 years old</th>\n",
       "      <td>3370</td>\n",
       "      <td>3251</td>\n",
       "      <td>3424</td>\n",
       "      <td>3434</td>\n",
       "    </tr>\n",
       "    <tr>\n",
       "      <th>16 years old</th>\n",
       "      <td>3420</td>\n",
       "      <td>3355</td>\n",
       "      <td>3471</td>\n",
       "      <td>3480</td>\n",
       "    </tr>\n",
       "    <tr>\n",
       "      <th>17 years old</th>\n",
       "      <td>3331</td>\n",
       "      <td>3244</td>\n",
       "      <td>3357</td>\n",
       "      <td>3364</td>\n",
       "    </tr>\n",
       "    <tr>\n",
       "      <th>18 or older</th>\n",
       "      <td>1646</td>\n",
       "      <td>1613</td>\n",
       "      <td>1665</td>\n",
       "      <td>1668</td>\n",
       "    </tr>\n",
       "    <tr>\n",
       "      <th rowspan=\"7\" valign=\"top\">2.0</th>\n",
       "      <th>12 or younger</th>\n",
       "      <td>7</td>\n",
       "      <td>8</td>\n",
       "      <td>7</td>\n",
       "      <td>8</td>\n",
       "    </tr>\n",
       "    <tr>\n",
       "      <th>13 years old</th>\n",
       "      <td>1</td>\n",
       "      <td>2</td>\n",
       "      <td>3</td>\n",
       "      <td>3</td>\n",
       "    </tr>\n",
       "    <tr>\n",
       "      <th>14 years old</th>\n",
       "      <td>23</td>\n",
       "      <td>23</td>\n",
       "      <td>24</td>\n",
       "      <td>24</td>\n",
       "    </tr>\n",
       "    <tr>\n",
       "      <th>15 years old</th>\n",
       "      <td>38</td>\n",
       "      <td>33</td>\n",
       "      <td>39</td>\n",
       "      <td>39</td>\n",
       "    </tr>\n",
       "    <tr>\n",
       "      <th>16 years old</th>\n",
       "      <td>37</td>\n",
       "      <td>36</td>\n",
       "      <td>37</td>\n",
       "      <td>39</td>\n",
       "    </tr>\n",
       "    <tr>\n",
       "      <th>17 years old</th>\n",
       "      <td>46</td>\n",
       "      <td>44</td>\n",
       "      <td>45</td>\n",
       "      <td>46</td>\n",
       "    </tr>\n",
       "    <tr>\n",
       "      <th>18 or older</th>\n",
       "      <td>10</td>\n",
       "      <td>11</td>\n",
       "      <td>11</td>\n",
       "      <td>11</td>\n",
       "    </tr>\n",
       "    <tr>\n",
       "      <th rowspan=\"7\" valign=\"top\">3.0</th>\n",
       "      <th>12 or younger</th>\n",
       "      <td>3</td>\n",
       "      <td>5</td>\n",
       "      <td>5</td>\n",
       "      <td>5</td>\n",
       "    </tr>\n",
       "    <tr>\n",
       "      <th>13 years old</th>\n",
       "      <td>0</td>\n",
       "      <td>1</td>\n",
       "      <td>1</td>\n",
       "      <td>1</td>\n",
       "    </tr>\n",
       "    <tr>\n",
       "      <th>14 years old</th>\n",
       "      <td>11</td>\n",
       "      <td>9</td>\n",
       "      <td>12</td>\n",
       "      <td>12</td>\n",
       "    </tr>\n",
       "    <tr>\n",
       "      <th>15 years old</th>\n",
       "      <td>15</td>\n",
       "      <td>14</td>\n",
       "      <td>15</td>\n",
       "      <td>15</td>\n",
       "    </tr>\n",
       "    <tr>\n",
       "      <th>16 years old</th>\n",
       "      <td>28</td>\n",
       "      <td>32</td>\n",
       "      <td>31</td>\n",
       "      <td>32</td>\n",
       "    </tr>\n",
       "    <tr>\n",
       "      <th>17 years old</th>\n",
       "      <td>32</td>\n",
       "      <td>31</td>\n",
       "      <td>33</td>\n",
       "      <td>34</td>\n",
       "    </tr>\n",
       "    <tr>\n",
       "      <th>18 or older</th>\n",
       "      <td>18</td>\n",
       "      <td>18</td>\n",
       "      <td>18</td>\n",
       "      <td>18</td>\n",
       "    </tr>\n",
       "    <tr>\n",
       "      <th rowspan=\"6\" valign=\"top\">4.0</th>\n",
       "      <th>12 or younger</th>\n",
       "      <td>1</td>\n",
       "      <td>2</td>\n",
       "      <td>2</td>\n",
       "      <td>2</td>\n",
       "    </tr>\n",
       "    <tr>\n",
       "      <th>14 years old</th>\n",
       "      <td>6</td>\n",
       "      <td>6</td>\n",
       "      <td>6</td>\n",
       "      <td>6</td>\n",
       "    </tr>\n",
       "    <tr>\n",
       "      <th>15 years old</th>\n",
       "      <td>2</td>\n",
       "      <td>2</td>\n",
       "      <td>2</td>\n",
       "      <td>2</td>\n",
       "    </tr>\n",
       "    <tr>\n",
       "      <th>16 years old</th>\n",
       "      <td>8</td>\n",
       "      <td>8</td>\n",
       "      <td>7</td>\n",
       "      <td>8</td>\n",
       "    </tr>\n",
       "    <tr>\n",
       "      <th>17 years old</th>\n",
       "      <td>12</td>\n",
       "      <td>13</td>\n",
       "      <td>13</td>\n",
       "      <td>13</td>\n",
       "    </tr>\n",
       "    <tr>\n",
       "      <th>18 or older</th>\n",
       "      <td>11</td>\n",
       "      <td>10</td>\n",
       "      <td>12</td>\n",
       "      <td>12</td>\n",
       "    </tr>\n",
       "    <tr>\n",
       "      <th rowspan=\"6\" valign=\"top\">5.0</th>\n",
       "      <th>12 or younger</th>\n",
       "      <td>13</td>\n",
       "      <td>11</td>\n",
       "      <td>14</td>\n",
       "      <td>14</td>\n",
       "    </tr>\n",
       "    <tr>\n",
       "      <th>14 years old</th>\n",
       "      <td>19</td>\n",
       "      <td>17</td>\n",
       "      <td>20</td>\n",
       "      <td>20</td>\n",
       "    </tr>\n",
       "    <tr>\n",
       "      <th>15 years old</th>\n",
       "      <td>31</td>\n",
       "      <td>28</td>\n",
       "      <td>31</td>\n",
       "      <td>32</td>\n",
       "    </tr>\n",
       "    <tr>\n",
       "      <th>16 years old</th>\n",
       "      <td>62</td>\n",
       "      <td>59</td>\n",
       "      <td>62</td>\n",
       "      <td>63</td>\n",
       "    </tr>\n",
       "    <tr>\n",
       "      <th>17 years old</th>\n",
       "      <td>92</td>\n",
       "      <td>89</td>\n",
       "      <td>94</td>\n",
       "      <td>94</td>\n",
       "    </tr>\n",
       "    <tr>\n",
       "      <th>18 or older</th>\n",
       "      <td>42</td>\n",
       "      <td>42</td>\n",
       "      <td>42</td>\n",
       "      <td>44</td>\n",
       "    </tr>\n",
       "  </tbody>\n",
       "</table>\n",
       "</div>"
      ],
      "text/plain": [
       "                   raceeth  sex_id  grade   Sex\n",
       "q13 age                                        \n",
       "1.0 12 or younger       25      22     25    26\n",
       "    13 years old        17      17     18    18\n",
       "    14 years old      1804    1737   1840  1845\n",
       "    15 years old      3370    3251   3424  3434\n",
       "    16 years old      3420    3355   3471  3480\n",
       "    17 years old      3331    3244   3357  3364\n",
       "    18 or older       1646    1613   1665  1668\n",
       "2.0 12 or younger        7       8      7     8\n",
       "    13 years old         1       2      3     3\n",
       "    14 years old        23      23     24    24\n",
       "    15 years old        38      33     39    39\n",
       "    16 years old        37      36     37    39\n",
       "    17 years old        46      44     45    46\n",
       "    18 or older         10      11     11    11\n",
       "3.0 12 or younger        3       5      5     5\n",
       "    13 years old         0       1      1     1\n",
       "    14 years old        11       9     12    12\n",
       "    15 years old        15      14     15    15\n",
       "    16 years old        28      32     31    32\n",
       "    17 years old        32      31     33    34\n",
       "    18 or older         18      18     18    18\n",
       "4.0 12 or younger        1       2      2     2\n",
       "    14 years old         6       6      6     6\n",
       "    15 years old         2       2      2     2\n",
       "    16 years old         8       8      7     8\n",
       "    17 years old        12      13     13    13\n",
       "    18 or older         11      10     12    12\n",
       "5.0 12 or younger       13      11     14    14\n",
       "    14 years old        19      17     20    20\n",
       "    15 years old        31      28     31    32\n",
       "    16 years old        62      59     62    63\n",
       "    17 years old        92      89     94    94\n",
       "    18 or older         42      42     42    44"
      ]
     },
     "execution_count": 401,
     "metadata": {},
     "output_type": "execute_result"
    }
   ],
   "source": [
    "q13_age = Demo13.groupby(['q13', 'age']).agg('count')\n",
    "q13_age"
   ]
  },
  {
   "cell_type": "code",
   "execution_count": 403,
   "metadata": {
    "collapsed": true
   },
   "outputs": [
    {
     "data": {
      "text/html": [
       "<div>\n",
       "<style scoped>\n",
       "    .dataframe tbody tr th:only-of-type {\n",
       "        vertical-align: middle;\n",
       "    }\n",
       "\n",
       "    .dataframe tbody tr th {\n",
       "        vertical-align: top;\n",
       "    }\n",
       "\n",
       "    .dataframe thead th {\n",
       "        text-align: right;\n",
       "    }\n",
       "</style>\n",
       "<table border=\"1\" class=\"dataframe\">\n",
       "  <thead>\n",
       "    <tr style=\"text-align: right;\">\n",
       "      <th></th>\n",
       "      <th></th>\n",
       "      <th>sex_id</th>\n",
       "      <th>age</th>\n",
       "      <th>grade</th>\n",
       "      <th>Sex</th>\n",
       "    </tr>\n",
       "    <tr>\n",
       "      <th>q13</th>\n",
       "      <th>raceeth</th>\n",
       "      <th></th>\n",
       "      <th></th>\n",
       "      <th></th>\n",
       "      <th></th>\n",
       "    </tr>\n",
       "  </thead>\n",
       "  <tbody>\n",
       "    <tr>\n",
       "      <th rowspan=\"8\" valign=\"top\">1.0</th>\n",
       "      <th>African American</th>\n",
       "      <td>2511</td>\n",
       "      <td>2648</td>\n",
       "      <td>2647</td>\n",
       "      <td>2650</td>\n",
       "    </tr>\n",
       "    <tr>\n",
       "      <th>American Indian/Alaska Native</th>\n",
       "      <td>111</td>\n",
       "      <td>121</td>\n",
       "      <td>121</td>\n",
       "      <td>121</td>\n",
       "    </tr>\n",
       "    <tr>\n",
       "      <th>Asian</th>\n",
       "      <td>588</td>\n",
       "      <td>600</td>\n",
       "      <td>598</td>\n",
       "      <td>600</td>\n",
       "    </tr>\n",
       "    <tr>\n",
       "      <th>Hispanic/Latino</th>\n",
       "      <td>1399</td>\n",
       "      <td>1440</td>\n",
       "      <td>1438</td>\n",
       "      <td>1442</td>\n",
       "    </tr>\n",
       "    <tr>\n",
       "      <th>Multiple Hispanic/Latino</th>\n",
       "      <td>1913</td>\n",
       "      <td>1959</td>\n",
       "      <td>1953</td>\n",
       "      <td>1962</td>\n",
       "    </tr>\n",
       "    <tr>\n",
       "      <th>Multiple non-Hispanic/Latino</th>\n",
       "      <td>755</td>\n",
       "      <td>780</td>\n",
       "      <td>777</td>\n",
       "      <td>780</td>\n",
       "    </tr>\n",
       "    <tr>\n",
       "      <th>Native Hawaiian/Other Pacific Isld</th>\n",
       "      <td>96</td>\n",
       "      <td>104</td>\n",
       "      <td>104</td>\n",
       "      <td>104</td>\n",
       "    </tr>\n",
       "    <tr>\n",
       "      <th>White</th>\n",
       "      <td>5679</td>\n",
       "      <td>5961</td>\n",
       "      <td>5958</td>\n",
       "      <td>5965</td>\n",
       "    </tr>\n",
       "    <tr>\n",
       "      <th rowspan=\"8\" valign=\"top\">2.0</th>\n",
       "      <th>African American</th>\n",
       "      <td>30</td>\n",
       "      <td>36</td>\n",
       "      <td>35</td>\n",
       "      <td>36</td>\n",
       "    </tr>\n",
       "    <tr>\n",
       "      <th>American Indian/Alaska Native</th>\n",
       "      <td>6</td>\n",
       "      <td>6</td>\n",
       "      <td>6</td>\n",
       "      <td>6</td>\n",
       "    </tr>\n",
       "    <tr>\n",
       "      <th>Asian</th>\n",
       "      <td>3</td>\n",
       "      <td>3</td>\n",
       "      <td>3</td>\n",
       "      <td>3</td>\n",
       "    </tr>\n",
       "    <tr>\n",
       "      <th>Hispanic/Latino</th>\n",
       "      <td>12</td>\n",
       "      <td>13</td>\n",
       "      <td>13</td>\n",
       "      <td>13</td>\n",
       "    </tr>\n",
       "    <tr>\n",
       "      <th>Multiple Hispanic/Latino</th>\n",
       "      <td>15</td>\n",
       "      <td>19</td>\n",
       "      <td>19</td>\n",
       "      <td>19</td>\n",
       "    </tr>\n",
       "    <tr>\n",
       "      <th>Multiple non-Hispanic/Latino</th>\n",
       "      <td>11</td>\n",
       "      <td>11</td>\n",
       "      <td>11</td>\n",
       "      <td>11</td>\n",
       "    </tr>\n",
       "    <tr>\n",
       "      <th>Native Hawaiian/Other Pacific Isld</th>\n",
       "      <td>2</td>\n",
       "      <td>2</td>\n",
       "      <td>2</td>\n",
       "      <td>2</td>\n",
       "    </tr>\n",
       "    <tr>\n",
       "      <th>White</th>\n",
       "      <td>70</td>\n",
       "      <td>72</td>\n",
       "      <td>71</td>\n",
       "      <td>72</td>\n",
       "    </tr>\n",
       "    <tr>\n",
       "      <th rowspan=\"8\" valign=\"top\">3.0</th>\n",
       "      <th>African American</th>\n",
       "      <td>30</td>\n",
       "      <td>31</td>\n",
       "      <td>31</td>\n",
       "      <td>31</td>\n",
       "    </tr>\n",
       "    <tr>\n",
       "      <th>American Indian/Alaska Native</th>\n",
       "      <td>3</td>\n",
       "      <td>3</td>\n",
       "      <td>3</td>\n",
       "      <td>3</td>\n",
       "    </tr>\n",
       "    <tr>\n",
       "      <th>Asian</th>\n",
       "      <td>2</td>\n",
       "      <td>2</td>\n",
       "      <td>2</td>\n",
       "      <td>2</td>\n",
       "    </tr>\n",
       "    <tr>\n",
       "      <th>Hispanic/Latino</th>\n",
       "      <td>9</td>\n",
       "      <td>9</td>\n",
       "      <td>9</td>\n",
       "      <td>9</td>\n",
       "    </tr>\n",
       "    <tr>\n",
       "      <th>Multiple Hispanic/Latino</th>\n",
       "      <td>10</td>\n",
       "      <td>13</td>\n",
       "      <td>13</td>\n",
       "      <td>13</td>\n",
       "    </tr>\n",
       "    <tr>\n",
       "      <th>Multiple non-Hispanic/Latino</th>\n",
       "      <td>7</td>\n",
       "      <td>7</td>\n",
       "      <td>7</td>\n",
       "      <td>7</td>\n",
       "    </tr>\n",
       "    <tr>\n",
       "      <th>Native Hawaiian/Other Pacific Isld</th>\n",
       "      <td>0</td>\n",
       "      <td>1</td>\n",
       "      <td>1</td>\n",
       "      <td>1</td>\n",
       "    </tr>\n",
       "    <tr>\n",
       "      <th>White</th>\n",
       "      <td>39</td>\n",
       "      <td>41</td>\n",
       "      <td>40</td>\n",
       "      <td>41</td>\n",
       "    </tr>\n",
       "    <tr>\n",
       "      <th rowspan=\"7\" valign=\"top\">4.0</th>\n",
       "      <th>African American</th>\n",
       "      <td>10</td>\n",
       "      <td>10</td>\n",
       "      <td>10</td>\n",
       "      <td>10</td>\n",
       "    </tr>\n",
       "    <tr>\n",
       "      <th>Asian</th>\n",
       "      <td>1</td>\n",
       "      <td>1</td>\n",
       "      <td>1</td>\n",
       "      <td>1</td>\n",
       "    </tr>\n",
       "    <tr>\n",
       "      <th>Hispanic/Latino</th>\n",
       "      <td>4</td>\n",
       "      <td>5</td>\n",
       "      <td>5</td>\n",
       "      <td>5</td>\n",
       "    </tr>\n",
       "    <tr>\n",
       "      <th>Multiple Hispanic/Latino</th>\n",
       "      <td>7</td>\n",
       "      <td>7</td>\n",
       "      <td>6</td>\n",
       "      <td>7</td>\n",
       "    </tr>\n",
       "    <tr>\n",
       "      <th>Multiple non-Hispanic/Latino</th>\n",
       "      <td>3</td>\n",
       "      <td>3</td>\n",
       "      <td>3</td>\n",
       "      <td>3</td>\n",
       "    </tr>\n",
       "    <tr>\n",
       "      <th>Native Hawaiian/Other Pacific Isld</th>\n",
       "      <td>2</td>\n",
       "      <td>2</td>\n",
       "      <td>2</td>\n",
       "      <td>2</td>\n",
       "    </tr>\n",
       "    <tr>\n",
       "      <th>White</th>\n",
       "      <td>11</td>\n",
       "      <td>12</td>\n",
       "      <td>12</td>\n",
       "      <td>12</td>\n",
       "    </tr>\n",
       "    <tr>\n",
       "      <th rowspan=\"8\" valign=\"top\">5.0</th>\n",
       "      <th>African American</th>\n",
       "      <td>28</td>\n",
       "      <td>33</td>\n",
       "      <td>32</td>\n",
       "      <td>33</td>\n",
       "    </tr>\n",
       "    <tr>\n",
       "      <th>American Indian/Alaska Native</th>\n",
       "      <td>3</td>\n",
       "      <td>3</td>\n",
       "      <td>3</td>\n",
       "      <td>3</td>\n",
       "    </tr>\n",
       "    <tr>\n",
       "      <th>Asian</th>\n",
       "      <td>4</td>\n",
       "      <td>5</td>\n",
       "      <td>5</td>\n",
       "      <td>5</td>\n",
       "    </tr>\n",
       "    <tr>\n",
       "      <th>Hispanic/Latino</th>\n",
       "      <td>12</td>\n",
       "      <td>12</td>\n",
       "      <td>12</td>\n",
       "      <td>12</td>\n",
       "    </tr>\n",
       "    <tr>\n",
       "      <th>Multiple Hispanic/Latino</th>\n",
       "      <td>55</td>\n",
       "      <td>60</td>\n",
       "      <td>60</td>\n",
       "      <td>60</td>\n",
       "    </tr>\n",
       "    <tr>\n",
       "      <th>Multiple non-Hispanic/Latino</th>\n",
       "      <td>15</td>\n",
       "      <td>16</td>\n",
       "      <td>16</td>\n",
       "      <td>16</td>\n",
       "    </tr>\n",
       "    <tr>\n",
       "      <th>Native Hawaiian/Other Pacific Isld</th>\n",
       "      <td>3</td>\n",
       "      <td>3</td>\n",
       "      <td>3</td>\n",
       "      <td>3</td>\n",
       "    </tr>\n",
       "    <tr>\n",
       "      <th>White</th>\n",
       "      <td>120</td>\n",
       "      <td>127</td>\n",
       "      <td>127</td>\n",
       "      <td>128</td>\n",
       "    </tr>\n",
       "  </tbody>\n",
       "</table>\n",
       "</div>"
      ],
      "text/plain": [
       "                                        sex_id   age  grade   Sex\n",
       "q13 raceeth                                                      \n",
       "1.0 African American                      2511  2648   2647  2650\n",
       "    American Indian/Alaska Native          111   121    121   121\n",
       "    Asian                                  588   600    598   600\n",
       "    Hispanic/Latino                       1399  1440   1438  1442\n",
       "    Multiple Hispanic/Latino              1913  1959   1953  1962\n",
       "    Multiple non-Hispanic/Latino           755   780    777   780\n",
       "    Native Hawaiian/Other Pacific Isld      96   104    104   104\n",
       "    White                                 5679  5961   5958  5965\n",
       "2.0 African American                        30    36     35    36\n",
       "    American Indian/Alaska Native            6     6      6     6\n",
       "    Asian                                    3     3      3     3\n",
       "    Hispanic/Latino                         12    13     13    13\n",
       "    Multiple Hispanic/Latino                15    19     19    19\n",
       "    Multiple non-Hispanic/Latino            11    11     11    11\n",
       "    Native Hawaiian/Other Pacific Isld       2     2      2     2\n",
       "    White                                   70    72     71    72\n",
       "3.0 African American                        30    31     31    31\n",
       "    American Indian/Alaska Native            3     3      3     3\n",
       "    Asian                                    2     2      2     2\n",
       "    Hispanic/Latino                          9     9      9     9\n",
       "    Multiple Hispanic/Latino                10    13     13    13\n",
       "    Multiple non-Hispanic/Latino             7     7      7     7\n",
       "    Native Hawaiian/Other Pacific Isld       0     1      1     1\n",
       "    White                                   39    41     40    41\n",
       "4.0 African American                        10    10     10    10\n",
       "    Asian                                    1     1      1     1\n",
       "    Hispanic/Latino                          4     5      5     5\n",
       "    Multiple Hispanic/Latino                 7     7      6     7\n",
       "    Multiple non-Hispanic/Latino             3     3      3     3\n",
       "    Native Hawaiian/Other Pacific Isld       2     2      2     2\n",
       "    White                                   11    12     12    12\n",
       "5.0 African American                        28    33     32    33\n",
       "    American Indian/Alaska Native            3     3      3     3\n",
       "    Asian                                    4     5      5     5\n",
       "    Hispanic/Latino                         12    12     12    12\n",
       "    Multiple Hispanic/Latino                55    60     60    60\n",
       "    Multiple non-Hispanic/Latino            15    16     16    16\n",
       "    Native Hawaiian/Other Pacific Isld       3     3      3     3\n",
       "    White                                  120   127    127   128"
      ]
     },
     "execution_count": 403,
     "metadata": {},
     "output_type": "execute_result"
    }
   ],
   "source": [
    "q13_raceeth = Demo13.groupby(['q13', 'raceeth']).agg('count')\n",
    "q13_raceeth"
   ]
  },
  {
   "cell_type": "code",
   "execution_count": 405,
   "metadata": {
    "collapsed": true
   },
   "outputs": [
    {
     "data": {
      "text/html": [
       "<div>\n",
       "<style scoped>\n",
       "    .dataframe tbody tr th:only-of-type {\n",
       "        vertical-align: middle;\n",
       "    }\n",
       "\n",
       "    .dataframe tbody tr th {\n",
       "        vertical-align: top;\n",
       "    }\n",
       "\n",
       "    .dataframe thead th {\n",
       "        text-align: right;\n",
       "    }\n",
       "</style>\n",
       "<table border=\"1\" class=\"dataframe\">\n",
       "  <thead>\n",
       "    <tr style=\"text-align: right;\">\n",
       "      <th></th>\n",
       "      <th></th>\n",
       "      <th>raceeth</th>\n",
       "      <th>age</th>\n",
       "      <th>grade</th>\n",
       "      <th>Sex</th>\n",
       "    </tr>\n",
       "    <tr>\n",
       "      <th>q13</th>\n",
       "      <th>sex_id</th>\n",
       "      <th></th>\n",
       "      <th></th>\n",
       "      <th></th>\n",
       "      <th></th>\n",
       "    </tr>\n",
       "  </thead>\n",
       "  <tbody>\n",
       "    <tr>\n",
       "      <th rowspan=\"4\" valign=\"top\">1.0</th>\n",
       "      <th>Bisexual</th>\n",
       "      <td>1021</td>\n",
       "      <td>1033</td>\n",
       "      <td>1032</td>\n",
       "      <td>1040</td>\n",
       "    </tr>\n",
       "    <tr>\n",
       "      <th>Gay or Lesbian</th>\n",
       "      <td>296</td>\n",
       "      <td>304</td>\n",
       "      <td>303</td>\n",
       "      <td>305</td>\n",
       "    </tr>\n",
       "    <tr>\n",
       "      <th>Heterosexual</th>\n",
       "      <td>11203</td>\n",
       "      <td>11356</td>\n",
       "      <td>11339</td>\n",
       "      <td>11410</td>\n",
       "    </tr>\n",
       "    <tr>\n",
       "      <th>Unsure</th>\n",
       "      <td>532</td>\n",
       "      <td>546</td>\n",
       "      <td>545</td>\n",
       "      <td>549</td>\n",
       "    </tr>\n",
       "    <tr>\n",
       "      <th rowspan=\"4\" valign=\"top\">2.0</th>\n",
       "      <th>Bisexual</th>\n",
       "      <td>15</td>\n",
       "      <td>16</td>\n",
       "      <td>16</td>\n",
       "      <td>16</td>\n",
       "    </tr>\n",
       "    <tr>\n",
       "      <th>Gay or Lesbian</th>\n",
       "      <td>14</td>\n",
       "      <td>15</td>\n",
       "      <td>15</td>\n",
       "      <td>15</td>\n",
       "    </tr>\n",
       "    <tr>\n",
       "      <th>Heterosexual</th>\n",
       "      <td>109</td>\n",
       "      <td>114</td>\n",
       "      <td>110</td>\n",
       "      <td>114</td>\n",
       "    </tr>\n",
       "    <tr>\n",
       "      <th>Unsure</th>\n",
       "      <td>11</td>\n",
       "      <td>12</td>\n",
       "      <td>12</td>\n",
       "      <td>12</td>\n",
       "    </tr>\n",
       "    <tr>\n",
       "      <th rowspan=\"4\" valign=\"top\">3.0</th>\n",
       "      <th>Bisexual</th>\n",
       "      <td>14</td>\n",
       "      <td>17</td>\n",
       "      <td>17</td>\n",
       "      <td>18</td>\n",
       "    </tr>\n",
       "    <tr>\n",
       "      <th>Gay or Lesbian</th>\n",
       "      <td>9</td>\n",
       "      <td>10</td>\n",
       "      <td>10</td>\n",
       "      <td>10</td>\n",
       "    </tr>\n",
       "    <tr>\n",
       "      <th>Heterosexual</th>\n",
       "      <td>71</td>\n",
       "      <td>76</td>\n",
       "      <td>75</td>\n",
       "      <td>77</td>\n",
       "    </tr>\n",
       "    <tr>\n",
       "      <th>Unsure</th>\n",
       "      <td>6</td>\n",
       "      <td>7</td>\n",
       "      <td>7</td>\n",
       "      <td>7</td>\n",
       "    </tr>\n",
       "    <tr>\n",
       "      <th rowspan=\"4\" valign=\"top\">4.0</th>\n",
       "      <th>Bisexual</th>\n",
       "      <td>5</td>\n",
       "      <td>6</td>\n",
       "      <td>6</td>\n",
       "      <td>6</td>\n",
       "    </tr>\n",
       "    <tr>\n",
       "      <th>Gay or Lesbian</th>\n",
       "      <td>5</td>\n",
       "      <td>6</td>\n",
       "      <td>5</td>\n",
       "      <td>6</td>\n",
       "    </tr>\n",
       "    <tr>\n",
       "      <th>Heterosexual</th>\n",
       "      <td>27</td>\n",
       "      <td>28</td>\n",
       "      <td>28</td>\n",
       "      <td>28</td>\n",
       "    </tr>\n",
       "    <tr>\n",
       "      <th>Unsure</th>\n",
       "      <td>1</td>\n",
       "      <td>1</td>\n",
       "      <td>1</td>\n",
       "      <td>1</td>\n",
       "    </tr>\n",
       "    <tr>\n",
       "      <th rowspan=\"4\" valign=\"top\">5.0</th>\n",
       "      <th>Bisexual</th>\n",
       "      <td>25</td>\n",
       "      <td>25</td>\n",
       "      <td>25</td>\n",
       "      <td>25</td>\n",
       "    </tr>\n",
       "    <tr>\n",
       "      <th>Gay or Lesbian</th>\n",
       "      <td>6</td>\n",
       "      <td>7</td>\n",
       "      <td>7</td>\n",
       "      <td>8</td>\n",
       "    </tr>\n",
       "    <tr>\n",
       "      <th>Heterosexual</th>\n",
       "      <td>195</td>\n",
       "      <td>199</td>\n",
       "      <td>197</td>\n",
       "      <td>201</td>\n",
       "    </tr>\n",
       "    <tr>\n",
       "      <th>Unsure</th>\n",
       "      <td>14</td>\n",
       "      <td>15</td>\n",
       "      <td>14</td>\n",
       "      <td>16</td>\n",
       "    </tr>\n",
       "  </tbody>\n",
       "</table>\n",
       "</div>"
      ],
      "text/plain": [
       "                    raceeth    age  grade    Sex\n",
       "q13 sex_id                                      \n",
       "1.0 Bisexual           1021   1033   1032   1040\n",
       "    Gay or Lesbian      296    304    303    305\n",
       "    Heterosexual      11203  11356  11339  11410\n",
       "    Unsure              532    546    545    549\n",
       "2.0 Bisexual             15     16     16     16\n",
       "    Gay or Lesbian       14     15     15     15\n",
       "    Heterosexual        109    114    110    114\n",
       "    Unsure               11     12     12     12\n",
       "3.0 Bisexual             14     17     17     18\n",
       "    Gay or Lesbian        9     10     10     10\n",
       "    Heterosexual         71     76     75     77\n",
       "    Unsure                6      7      7      7\n",
       "4.0 Bisexual              5      6      6      6\n",
       "    Gay or Lesbian        5      6      5      6\n",
       "    Heterosexual         27     28     28     28\n",
       "    Unsure                1      1      1      1\n",
       "5.0 Bisexual             25     25     25     25\n",
       "    Gay or Lesbian        6      7      7      8\n",
       "    Heterosexual        195    199    197    201\n",
       "    Unsure               14     15     14     16"
      ]
     },
     "execution_count": 405,
     "metadata": {},
     "output_type": "execute_result"
    }
   ],
   "source": [
    "q13_sex_id = Demo13.groupby(['q13', 'sex_id']).agg('count')\n",
    "q13_sex_id"
   ]
  },
  {
   "cell_type": "code",
   "execution_count": 407,
   "metadata": {
    "collapsed": true
   },
   "outputs": [
    {
     "data": {
      "text/html": [
       "<div>\n",
       "<style scoped>\n",
       "    .dataframe tbody tr th:only-of-type {\n",
       "        vertical-align: middle;\n",
       "    }\n",
       "\n",
       "    .dataframe tbody tr th {\n",
       "        vertical-align: top;\n",
       "    }\n",
       "\n",
       "    .dataframe thead th {\n",
       "        text-align: right;\n",
       "    }\n",
       "</style>\n",
       "<table border=\"1\" class=\"dataframe\">\n",
       "  <thead>\n",
       "    <tr style=\"text-align: right;\">\n",
       "      <th></th>\n",
       "      <th></th>\n",
       "      <th>raceeth</th>\n",
       "      <th>sex_id</th>\n",
       "      <th>age</th>\n",
       "      <th>Sex</th>\n",
       "    </tr>\n",
       "    <tr>\n",
       "      <th>q13</th>\n",
       "      <th>grade</th>\n",
       "      <th></th>\n",
       "      <th></th>\n",
       "      <th></th>\n",
       "      <th></th>\n",
       "    </tr>\n",
       "  </thead>\n",
       "  <tbody>\n",
       "    <tr>\n",
       "      <th rowspan=\"5\" valign=\"top\">1.0</th>\n",
       "      <th>10th grade</th>\n",
       "      <td>3436</td>\n",
       "      <td>3359</td>\n",
       "      <td>3504</td>\n",
       "      <td>3508</td>\n",
       "    </tr>\n",
       "    <tr>\n",
       "      <th>11th grade</th>\n",
       "      <td>3341</td>\n",
       "      <td>3284</td>\n",
       "      <td>3387</td>\n",
       "      <td>3387</td>\n",
       "    </tr>\n",
       "    <tr>\n",
       "      <th>12th grade</th>\n",
       "      <td>3122</td>\n",
       "      <td>3031</td>\n",
       "      <td>3142</td>\n",
       "      <td>3147</td>\n",
       "    </tr>\n",
       "    <tr>\n",
       "      <th>9th grade</th>\n",
       "      <td>3684</td>\n",
       "      <td>3535</td>\n",
       "      <td>3754</td>\n",
       "      <td>3757</td>\n",
       "    </tr>\n",
       "    <tr>\n",
       "      <th>Ungraded or other</th>\n",
       "      <td>13</td>\n",
       "      <td>10</td>\n",
       "      <td>13</td>\n",
       "      <td>13</td>\n",
       "    </tr>\n",
       "    <tr>\n",
       "      <th rowspan=\"5\" valign=\"top\">2.0</th>\n",
       "      <th>10th grade</th>\n",
       "      <td>40</td>\n",
       "      <td>38</td>\n",
       "      <td>42</td>\n",
       "      <td>42</td>\n",
       "    </tr>\n",
       "    <tr>\n",
       "      <th>11th grade</th>\n",
       "      <td>40</td>\n",
       "      <td>39</td>\n",
       "      <td>41</td>\n",
       "      <td>41</td>\n",
       "    </tr>\n",
       "    <tr>\n",
       "      <th>12th grade</th>\n",
       "      <td>26</td>\n",
       "      <td>26</td>\n",
       "      <td>26</td>\n",
       "      <td>26</td>\n",
       "    </tr>\n",
       "    <tr>\n",
       "      <th>9th grade</th>\n",
       "      <td>53</td>\n",
       "      <td>49</td>\n",
       "      <td>56</td>\n",
       "      <td>56</td>\n",
       "    </tr>\n",
       "    <tr>\n",
       "      <th>Ungraded or other</th>\n",
       "      <td>1</td>\n",
       "      <td>1</td>\n",
       "      <td>1</td>\n",
       "      <td>1</td>\n",
       "    </tr>\n",
       "    <tr>\n",
       "      <th rowspan=\"5\" valign=\"top\">3.0</th>\n",
       "      <th>10th grade</th>\n",
       "      <td>25</td>\n",
       "      <td>25</td>\n",
       "      <td>26</td>\n",
       "      <td>26</td>\n",
       "    </tr>\n",
       "    <tr>\n",
       "      <th>11th grade</th>\n",
       "      <td>37</td>\n",
       "      <td>38</td>\n",
       "      <td>39</td>\n",
       "      <td>39</td>\n",
       "    </tr>\n",
       "    <tr>\n",
       "      <th>12th grade</th>\n",
       "      <td>29</td>\n",
       "      <td>30</td>\n",
       "      <td>32</td>\n",
       "      <td>32</td>\n",
       "    </tr>\n",
       "    <tr>\n",
       "      <th>9th grade</th>\n",
       "      <td>15</td>\n",
       "      <td>14</td>\n",
       "      <td>17</td>\n",
       "      <td>17</td>\n",
       "    </tr>\n",
       "    <tr>\n",
       "      <th>Ungraded or other</th>\n",
       "      <td>0</td>\n",
       "      <td>2</td>\n",
       "      <td>1</td>\n",
       "      <td>2</td>\n",
       "    </tr>\n",
       "    <tr>\n",
       "      <th rowspan=\"4\" valign=\"top\">4.0</th>\n",
       "      <th>10th grade</th>\n",
       "      <td>1</td>\n",
       "      <td>1</td>\n",
       "      <td>1</td>\n",
       "      <td>1</td>\n",
       "    </tr>\n",
       "    <tr>\n",
       "      <th>11th grade</th>\n",
       "      <td>9</td>\n",
       "      <td>9</td>\n",
       "      <td>10</td>\n",
       "      <td>10</td>\n",
       "    </tr>\n",
       "    <tr>\n",
       "      <th>12th grade</th>\n",
       "      <td>21</td>\n",
       "      <td>22</td>\n",
       "      <td>23</td>\n",
       "      <td>23</td>\n",
       "    </tr>\n",
       "    <tr>\n",
       "      <th>9th grade</th>\n",
       "      <td>8</td>\n",
       "      <td>8</td>\n",
       "      <td>8</td>\n",
       "      <td>8</td>\n",
       "    </tr>\n",
       "    <tr>\n",
       "      <th rowspan=\"5\" valign=\"top\">5.0</th>\n",
       "      <th>10th grade</th>\n",
       "      <td>45</td>\n",
       "      <td>42</td>\n",
       "      <td>46</td>\n",
       "      <td>46</td>\n",
       "    </tr>\n",
       "    <tr>\n",
       "      <th>11th grade</th>\n",
       "      <td>78</td>\n",
       "      <td>77</td>\n",
       "      <td>81</td>\n",
       "      <td>83</td>\n",
       "    </tr>\n",
       "    <tr>\n",
       "      <th>12th grade</th>\n",
       "      <td>83</td>\n",
       "      <td>80</td>\n",
       "      <td>83</td>\n",
       "      <td>83</td>\n",
       "    </tr>\n",
       "    <tr>\n",
       "      <th>9th grade</th>\n",
       "      <td>40</td>\n",
       "      <td>33</td>\n",
       "      <td>41</td>\n",
       "      <td>41</td>\n",
       "    </tr>\n",
       "    <tr>\n",
       "      <th>Ungraded or other</th>\n",
       "      <td>12</td>\n",
       "      <td>11</td>\n",
       "      <td>12</td>\n",
       "      <td>12</td>\n",
       "    </tr>\n",
       "  </tbody>\n",
       "</table>\n",
       "</div>"
      ],
      "text/plain": [
       "                       raceeth  sex_id   age   Sex\n",
       "q13 grade                                         \n",
       "1.0 10th grade            3436    3359  3504  3508\n",
       "    11th grade            3341    3284  3387  3387\n",
       "    12th grade            3122    3031  3142  3147\n",
       "    9th grade             3684    3535  3754  3757\n",
       "    Ungraded or other       13      10    13    13\n",
       "2.0 10th grade              40      38    42    42\n",
       "    11th grade              40      39    41    41\n",
       "    12th grade              26      26    26    26\n",
       "    9th grade               53      49    56    56\n",
       "    Ungraded or other        1       1     1     1\n",
       "3.0 10th grade              25      25    26    26\n",
       "    11th grade              37      38    39    39\n",
       "    12th grade              29      30    32    32\n",
       "    9th grade               15      14    17    17\n",
       "    Ungraded or other        0       2     1     2\n",
       "4.0 10th grade               1       1     1     1\n",
       "    11th grade               9       9    10    10\n",
       "    12th grade              21      22    23    23\n",
       "    9th grade                8       8     8     8\n",
       "5.0 10th grade              45      42    46    46\n",
       "    11th grade              78      77    81    83\n",
       "    12th grade              83      80    83    83\n",
       "    9th grade               40      33    41    41\n",
       "    Ungraded or other       12      11    12    12"
      ]
     },
     "execution_count": 407,
     "metadata": {},
     "output_type": "execute_result"
    }
   ],
   "source": [
    "q13_grade = Demo13.groupby(['q13', 'grade']).agg('count')\n",
    "q13_grade "
   ]
  },
  {
   "cell_type": "code",
   "execution_count": 409,
   "metadata": {
    "collapsed": true
   },
   "outputs": [
    {
     "data": {
      "text/html": [
       "<div>\n",
       "<style scoped>\n",
       "    .dataframe tbody tr th:only-of-type {\n",
       "        vertical-align: middle;\n",
       "    }\n",
       "\n",
       "    .dataframe tbody tr th {\n",
       "        vertical-align: top;\n",
       "    }\n",
       "\n",
       "    .dataframe thead th {\n",
       "        text-align: right;\n",
       "    }\n",
       "</style>\n",
       "<table border=\"1\" class=\"dataframe\">\n",
       "  <thead>\n",
       "    <tr style=\"text-align: right;\">\n",
       "      <th></th>\n",
       "      <th></th>\n",
       "      <th>raceeth</th>\n",
       "      <th>sex_id</th>\n",
       "      <th>age</th>\n",
       "      <th>grade</th>\n",
       "    </tr>\n",
       "    <tr>\n",
       "      <th>q13</th>\n",
       "      <th>Sex</th>\n",
       "      <th></th>\n",
       "      <th></th>\n",
       "      <th></th>\n",
       "      <th></th>\n",
       "    </tr>\n",
       "  </thead>\n",
       "  <tbody>\n",
       "    <tr>\n",
       "      <th rowspan=\"2\" valign=\"top\">1.0</th>\n",
       "      <th>F</th>\n",
       "      <td>6448</td>\n",
       "      <td>6274</td>\n",
       "      <td>6556</td>\n",
       "      <td>6541</td>\n",
       "    </tr>\n",
       "    <tr>\n",
       "      <th>M</th>\n",
       "      <td>7176</td>\n",
       "      <td>7030</td>\n",
       "      <td>7279</td>\n",
       "      <td>7271</td>\n",
       "    </tr>\n",
       "    <tr>\n",
       "      <th rowspan=\"2\" valign=\"top\">2.0</th>\n",
       "      <th>F</th>\n",
       "      <td>113</td>\n",
       "      <td>109</td>\n",
       "      <td>118</td>\n",
       "      <td>116</td>\n",
       "    </tr>\n",
       "    <tr>\n",
       "      <th>M</th>\n",
       "      <td>49</td>\n",
       "      <td>48</td>\n",
       "      <td>52</td>\n",
       "      <td>50</td>\n",
       "    </tr>\n",
       "    <tr>\n",
       "      <th rowspan=\"2\" valign=\"top\">3.0</th>\n",
       "      <th>F</th>\n",
       "      <td>71</td>\n",
       "      <td>73</td>\n",
       "      <td>77</td>\n",
       "      <td>75</td>\n",
       "    </tr>\n",
       "    <tr>\n",
       "      <th>M</th>\n",
       "      <td>36</td>\n",
       "      <td>39</td>\n",
       "      <td>40</td>\n",
       "      <td>41</td>\n",
       "    </tr>\n",
       "    <tr>\n",
       "      <th rowspan=\"2\" valign=\"top\">4.0</th>\n",
       "      <th>F</th>\n",
       "      <td>30</td>\n",
       "      <td>30</td>\n",
       "      <td>32</td>\n",
       "      <td>31</td>\n",
       "    </tr>\n",
       "    <tr>\n",
       "      <th>M</th>\n",
       "      <td>10</td>\n",
       "      <td>11</td>\n",
       "      <td>11</td>\n",
       "      <td>11</td>\n",
       "    </tr>\n",
       "    <tr>\n",
       "      <th rowspan=\"2\" valign=\"top\">5.0</th>\n",
       "      <th>F</th>\n",
       "      <td>193</td>\n",
       "      <td>178</td>\n",
       "      <td>195</td>\n",
       "      <td>196</td>\n",
       "    </tr>\n",
       "    <tr>\n",
       "      <th>M</th>\n",
       "      <td>67</td>\n",
       "      <td>72</td>\n",
       "      <td>72</td>\n",
       "      <td>69</td>\n",
       "    </tr>\n",
       "  </tbody>\n",
       "</table>\n",
       "</div>"
      ],
      "text/plain": [
       "         raceeth  sex_id   age  grade\n",
       "q13 Sex                              \n",
       "1.0 F       6448    6274  6556   6541\n",
       "    M       7176    7030  7279   7271\n",
       "2.0 F        113     109   118    116\n",
       "    M         49      48    52     50\n",
       "3.0 F         71      73    77     75\n",
       "    M         36      39    40     41\n",
       "4.0 F         30      30    32     31\n",
       "    M         10      11    11     11\n",
       "5.0 F        193     178   195    196\n",
       "    M         67      72    72     69"
      ]
     },
     "execution_count": 409,
     "metadata": {},
     "output_type": "execute_result"
    }
   ],
   "source": [
    "q13_sex = Demo13.groupby(['q13', 'Sex']).agg('count')\n",
    "q13_sex"
   ]
  },
  {
   "cell_type": "markdown",
   "metadata": {},
   "source": [
    "## Demo Viz"
   ]
  },
  {
   "cell_type": "code",
   "execution_count": 418,
   "metadata": {
    "scrolled": true
   },
   "outputs": [
    {
     "data": {
      "text/plain": [
       "<seaborn.axisgrid.FacetGrid at 0x1a2b47d358>"
      ]
     },
     "execution_count": 418,
     "metadata": {},
     "output_type": "execute_result"
    },
    {
     "data": {
      "image/png": "[encoded data removed]",
      "text/plain": [
       "<Figure size 1455.57x288 with 7 Axes>"
      ]
     },
     "metadata": {},
     "output_type": "display_data"
    }
   ],
   "source": [
    "### AGE\n",
    "sns.catplot(x=\"q13\", hue=\"Sex\", col=\"age\",\n",
    "            data=cdc_data, kind=\"count\",\n",
    "            height=4, aspect=.7)"
   ]
  },
  {
   "cell_type": "code",
   "execution_count": 419,
   "metadata": {},
   "outputs": [
    {
     "data": {
      "image/png": "[encoded data removed]",
      "text/plain": [
       "<Figure size 1052.38x288 with 5 Axes>"
      ]
     },
     "metadata": {},
     "output_type": "display_data"
    }
   ],
   "source": [
    "## Grade\n",
    "sns.catplot(x=\"q13\", hue=\"Sex\", col=\"grade\",\n",
    "...                 data=cdc_data, kind=\"count\",\n",
    "...                 height=4, aspect=.7);"
   ]
  },
  {
   "cell_type": "code",
   "execution_count": 420,
   "metadata": {},
   "outputs": [
    {
     "data": {
      "image/png": "[encoded data removed]",
      "text/plain": [
       "<Figure size 1657.17x288 with 8 Axes>"
      ]
     },
     "metadata": {},
     "output_type": "display_data"
    }
   ],
   "source": [
    "## Race\n",
    "sns.catplot(x=\"q13\", hue=\"Sex\", col=\"raceeth\",\n",
    "...                 data=cdc_data, kind=\"count\",\n",
    "...                 height=4, aspect=.7);"
   ]
  },
  {
   "cell_type": "code",
   "execution_count": 421,
   "metadata": {},
   "outputs": [
    {
     "data": {
      "image/png": "[encoded data removed]",
      "text/plain": [
       "<Figure size 850.775x288 with 4 Axes>"
      ]
     },
     "metadata": {},
     "output_type": "display_data"
    }
   ],
   "source": [
    "sns.catplot(x=\"q13\", hue=\"Sex\", col=\"sex_id\",\n",
    "...                 data=cdc_data, kind=\"count\",\n",
    "...                 height=4, aspect=.7);"
   ]
  },
  {
   "cell_type": "markdown",
   "metadata": {},
   "source": [
    "# Missing"
   ]
  },
  {
   "cell_type": "code",
   "execution_count": 5,
   "metadata": {
    "scrolled": true
   },
   "outputs": [
    {
     "data": {
      "text/html": [
       "<div>\n",
       "<style scoped>\n",
       "    .dataframe tbody tr th:only-of-type {\n",
       "        vertical-align: middle;\n",
       "    }\n",
       "\n",
       "    .dataframe tbody tr th {\n",
       "        vertical-align: top;\n",
       "    }\n",
       "\n",
       "    .dataframe thead th {\n",
       "        text-align: right;\n",
       "    }\n",
       "</style>\n",
       "<table border=\"1\" class=\"dataframe\">\n",
       "  <thead>\n",
       "    <tr style=\"text-align: right;\">\n",
       "      <th></th>\n",
       "      <th>Perc</th>\n",
       "      <th>Sum</th>\n",
       "    </tr>\n",
       "  </thead>\n",
       "  <tbody>\n",
       "    <tr>\n",
       "      <th>orig_rec</th>\n",
       "      <td>1.000000</td>\n",
       "      <td>14765</td>\n",
       "    </tr>\n",
       "    <tr>\n",
       "      <th>q45</th>\n",
       "      <td>0.314121</td>\n",
       "      <td>4638</td>\n",
       "    </tr>\n",
       "    <tr>\n",
       "      <th>q39</th>\n",
       "      <td>0.302201</td>\n",
       "      <td>4462</td>\n",
       "    </tr>\n",
       "    <tr>\n",
       "      <th>q43</th>\n",
       "      <td>0.296309</td>\n",
       "      <td>4375</td>\n",
       "    </tr>\n",
       "    <tr>\n",
       "      <th>q29</th>\n",
       "      <td>0.280731</td>\n",
       "      <td>4145</td>\n",
       "    </tr>\n",
       "    <tr>\n",
       "      <th>q98</th>\n",
       "      <td>0.277481</td>\n",
       "      <td>4097</td>\n",
       "    </tr>\n",
       "    <tr>\n",
       "      <th>q28</th>\n",
       "      <td>0.276261</td>\n",
       "      <td>4079</td>\n",
       "    </tr>\n",
       "    <tr>\n",
       "      <th>q93</th>\n",
       "      <td>0.275449</td>\n",
       "      <td>4067</td>\n",
       "    </tr>\n",
       "    <tr>\n",
       "      <th>q94</th>\n",
       "      <td>0.275042</td>\n",
       "      <td>4061</td>\n",
       "    </tr>\n",
       "    <tr>\n",
       "      <th>q97</th>\n",
       "      <td>0.274704</td>\n",
       "      <td>4056</td>\n",
       "    </tr>\n",
       "    <tr>\n",
       "      <th>q99</th>\n",
       "      <td>0.274568</td>\n",
       "      <td>4054</td>\n",
       "    </tr>\n",
       "    <tr>\n",
       "      <th>q95</th>\n",
       "      <td>0.274433</td>\n",
       "      <td>4052</td>\n",
       "    </tr>\n",
       "    <tr>\n",
       "      <th>q91</th>\n",
       "      <td>0.263529</td>\n",
       "      <td>3891</td>\n",
       "    </tr>\n",
       "    <tr>\n",
       "      <th>q92</th>\n",
       "      <td>0.262580</td>\n",
       "      <td>3877</td>\n",
       "    </tr>\n",
       "    <tr>\n",
       "      <th>q90</th>\n",
       "      <td>0.237724</td>\n",
       "      <td>3510</td>\n",
       "    </tr>\n",
       "    <tr>\n",
       "      <th>q66</th>\n",
       "      <td>0.228107</td>\n",
       "      <td>3368</td>\n",
       "    </tr>\n",
       "    <tr>\n",
       "      <th>q69</th>\n",
       "      <td>0.218354</td>\n",
       "      <td>3224</td>\n",
       "    </tr>\n",
       "    <tr>\n",
       "      <th>q89</th>\n",
       "      <td>0.209346</td>\n",
       "      <td>3091</td>\n",
       "    </tr>\n",
       "    <tr>\n",
       "      <th>q33</th>\n",
       "      <td>0.208534</td>\n",
       "      <td>3079</td>\n",
       "    </tr>\n",
       "    <tr>\n",
       "      <th>q83</th>\n",
       "      <td>0.206231</td>\n",
       "      <td>3045</td>\n",
       "    </tr>\n",
       "    <tr>\n",
       "      <th>q12</th>\n",
       "      <td>0.205012</td>\n",
       "      <td>3027</td>\n",
       "    </tr>\n",
       "    <tr>\n",
       "      <th>q88</th>\n",
       "      <td>0.200068</td>\n",
       "      <td>2954</td>\n",
       "    </tr>\n",
       "    <tr>\n",
       "      <th>q77</th>\n",
       "      <td>0.196749</td>\n",
       "      <td>2905</td>\n",
       "    </tr>\n",
       "    <tr>\n",
       "      <th>q8</th>\n",
       "      <td>0.195801</td>\n",
       "      <td>2891</td>\n",
       "    </tr>\n",
       "    <tr>\n",
       "      <th>q30</th>\n",
       "      <td>0.193227</td>\n",
       "      <td>2853</td>\n",
       "    </tr>\n",
       "    <tr>\n",
       "      <th>q31</th>\n",
       "      <td>0.193092</td>\n",
       "      <td>2851</td>\n",
       "    </tr>\n",
       "    <tr>\n",
       "      <th>q78</th>\n",
       "      <td>0.192821</td>\n",
       "      <td>2847</td>\n",
       "    </tr>\n",
       "    <tr>\n",
       "      <th>q50</th>\n",
       "      <td>0.190857</td>\n",
       "      <td>2818</td>\n",
       "    </tr>\n",
       "    <tr>\n",
       "      <th>q17</th>\n",
       "      <td>0.183407</td>\n",
       "      <td>2708</td>\n",
       "    </tr>\n",
       "    <tr>\n",
       "      <th>q55</th>\n",
       "      <td>0.182662</td>\n",
       "      <td>2697</td>\n",
       "    </tr>\n",
       "    <tr>\n",
       "      <th>...</th>\n",
       "      <td>...</td>\n",
       "      <td>...</td>\n",
       "    </tr>\n",
       "    <tr>\n",
       "      <th>q47</th>\n",
       "      <td>0.028920</td>\n",
       "      <td>427</td>\n",
       "    </tr>\n",
       "    <tr>\n",
       "      <th>q53</th>\n",
       "      <td>0.028039</td>\n",
       "      <td>414</td>\n",
       "    </tr>\n",
       "    <tr>\n",
       "      <th>q54</th>\n",
       "      <td>0.027362</td>\n",
       "      <td>404</td>\n",
       "    </tr>\n",
       "    <tr>\n",
       "      <th>q52</th>\n",
       "      <td>0.026211</td>\n",
       "      <td>387</td>\n",
       "    </tr>\n",
       "    <tr>\n",
       "      <th>q51</th>\n",
       "      <td>0.026075</td>\n",
       "      <td>385</td>\n",
       "    </tr>\n",
       "    <tr>\n",
       "      <th>q48</th>\n",
       "      <td>0.025669</td>\n",
       "      <td>379</td>\n",
       "    </tr>\n",
       "    <tr>\n",
       "      <th>q71</th>\n",
       "      <td>0.025466</td>\n",
       "      <td>376</td>\n",
       "    </tr>\n",
       "    <tr>\n",
       "      <th>q70</th>\n",
       "      <td>0.025195</td>\n",
       "      <td>372</td>\n",
       "    </tr>\n",
       "    <tr>\n",
       "      <th>q32</th>\n",
       "      <td>0.024247</td>\n",
       "      <td>358</td>\n",
       "    </tr>\n",
       "    <tr>\n",
       "      <th>q38</th>\n",
       "      <td>0.023976</td>\n",
       "      <td>354</td>\n",
       "    </tr>\n",
       "    <tr>\n",
       "      <th>raceeth</th>\n",
       "      <td>0.022824</td>\n",
       "      <td>337</td>\n",
       "    </tr>\n",
       "    <tr>\n",
       "      <th>q19</th>\n",
       "      <td>0.022012</td>\n",
       "      <td>325</td>\n",
       "    </tr>\n",
       "    <tr>\n",
       "      <th>q58</th>\n",
       "      <td>0.021470</td>\n",
       "      <td>317</td>\n",
       "    </tr>\n",
       "    <tr>\n",
       "      <th>q37</th>\n",
       "      <td>0.019912</td>\n",
       "      <td>294</td>\n",
       "    </tr>\n",
       "    <tr>\n",
       "      <th>q18</th>\n",
       "      <td>0.019438</td>\n",
       "      <td>287</td>\n",
       "    </tr>\n",
       "    <tr>\n",
       "      <th>q13</th>\n",
       "      <td>0.017474</td>\n",
       "      <td>258</td>\n",
       "    </tr>\n",
       "    <tr>\n",
       "      <th>q49</th>\n",
       "      <td>0.017406</td>\n",
       "      <td>257</td>\n",
       "    </tr>\n",
       "    <tr>\n",
       "      <th>q56</th>\n",
       "      <td>0.017271</td>\n",
       "      <td>255</td>\n",
       "    </tr>\n",
       "    <tr>\n",
       "      <th>q4</th>\n",
       "      <td>0.017271</td>\n",
       "      <td>255</td>\n",
       "    </tr>\n",
       "    <tr>\n",
       "      <th>q25</th>\n",
       "      <td>0.016119</td>\n",
       "      <td>238</td>\n",
       "    </tr>\n",
       "    <tr>\n",
       "      <th>q27</th>\n",
       "      <td>0.015171</td>\n",
       "      <td>224</td>\n",
       "    </tr>\n",
       "    <tr>\n",
       "      <th>q26</th>\n",
       "      <td>0.014358</td>\n",
       "      <td>212</td>\n",
       "    </tr>\n",
       "    <tr>\n",
       "      <th>q24</th>\n",
       "      <td>0.011514</td>\n",
       "      <td>170</td>\n",
       "    </tr>\n",
       "    <tr>\n",
       "      <th>q23</th>\n",
       "      <td>0.010769</td>\n",
       "      <td>159</td>\n",
       "    </tr>\n",
       "    <tr>\n",
       "      <th>q2</th>\n",
       "      <td>0.008601</td>\n",
       "      <td>127</td>\n",
       "    </tr>\n",
       "    <tr>\n",
       "      <th>q3</th>\n",
       "      <td>0.007721</td>\n",
       "      <td>114</td>\n",
       "    </tr>\n",
       "    <tr>\n",
       "      <th>q6orig</th>\n",
       "      <td>0.005689</td>\n",
       "      <td>84</td>\n",
       "    </tr>\n",
       "    <tr>\n",
       "      <th>q1</th>\n",
       "      <td>0.005486</td>\n",
       "      <td>81</td>\n",
       "    </tr>\n",
       "    <tr>\n",
       "      <th>q16</th>\n",
       "      <td>0.004267</td>\n",
       "      <td>63</td>\n",
       "    </tr>\n",
       "    <tr>\n",
       "      <th>q9</th>\n",
       "      <td>0.003386</td>\n",
       "      <td>50</td>\n",
       "    </tr>\n",
       "  </tbody>\n",
       "</table>\n",
       "<p>104 rows × 2 columns</p>\n",
       "</div>"
      ],
      "text/plain": [
       "              Perc    Sum\n",
       "orig_rec  1.000000  14765\n",
       "q45       0.314121   4638\n",
       "q39       0.302201   4462\n",
       "q43       0.296309   4375\n",
       "q29       0.280731   4145\n",
       "q98       0.277481   4097\n",
       "q28       0.276261   4079\n",
       "q93       0.275449   4067\n",
       "q94       0.275042   4061\n",
       "q97       0.274704   4056\n",
       "q99       0.274568   4054\n",
       "q95       0.274433   4052\n",
       "q91       0.263529   3891\n",
       "q92       0.262580   3877\n",
       "q90       0.237724   3510\n",
       "q66       0.228107   3368\n",
       "q69       0.218354   3224\n",
       "q89       0.209346   3091\n",
       "q33       0.208534   3079\n",
       "q83       0.206231   3045\n",
       "q12       0.205012   3027\n",
       "q88       0.200068   2954\n",
       "q77       0.196749   2905\n",
       "q8        0.195801   2891\n",
       "q30       0.193227   2853\n",
       "q31       0.193092   2851\n",
       "q78       0.192821   2847\n",
       "q50       0.190857   2818\n",
       "q17       0.183407   2708\n",
       "q55       0.182662   2697\n",
       "...            ...    ...\n",
       "q47       0.028920    427\n",
       "q53       0.028039    414\n",
       "q54       0.027362    404\n",
       "q52       0.026211    387\n",
       "q51       0.026075    385\n",
       "q48       0.025669    379\n",
       "q71       0.025466    376\n",
       "q70       0.025195    372\n",
       "q32       0.024247    358\n",
       "q38       0.023976    354\n",
       "raceeth   0.022824    337\n",
       "q19       0.022012    325\n",
       "q58       0.021470    317\n",
       "q37       0.019912    294\n",
       "q18       0.019438    287\n",
       "q13       0.017474    258\n",
       "q49       0.017406    257\n",
       "q56       0.017271    255\n",
       "q4        0.017271    255\n",
       "q25       0.016119    238\n",
       "q27       0.015171    224\n",
       "q26       0.014358    212\n",
       "q24       0.011514    170\n",
       "q23       0.010769    159\n",
       "q2        0.008601    127\n",
       "q3        0.007721    114\n",
       "q6orig    0.005689     84\n",
       "q1        0.005486     81\n",
       "q16       0.004267     63\n",
       "q9        0.003386     50\n",
       "\n",
       "[104 rows x 2 columns]"
      ]
     },
     "execution_count": 5,
     "metadata": {},
     "output_type": "execute_result"
    }
   ],
   "source": [
    "total = cdc_data.isna().sum()/cdc_data.isna().count()\n",
    "sum=cdc_data.isna().sum()\n",
    "\n",
    "missing=pd.concat([total,sum],axis=1,keys=['Perc','Sum']).sort_values(by='Perc',ascending=False)\n",
    "\n",
    "colstodrop = missing[missing['Sum']>0].index\n",
    "\n",
    "missing[missing['Sum']>0]"
   ]
  },
  {
   "cell_type": "code",
   "execution_count": 16,
   "metadata": {},
   "outputs": [],
   "source": [
    "for column in cdc_data.columns:\n",
    "    cdc_data[column].fillna(cdc_data[column].mode()[0], inplace=True)"
   ]
  },
  {
   "cell_type": "code",
   "execution_count": 17,
   "metadata": {},
   "outputs": [
    {
     "data": {
      "text/plain": [
       "raceeth    0\n",
       "q2         0\n",
       "q4         0\n",
       "q6         0\n",
       "q7         0\n",
       "q8         0\n",
       "q9         0\n",
       "q10        0\n",
       "q11        0\n",
       "q12        0\n",
       "q13        0\n",
       "q14        0\n",
       "q15        0\n",
       "q16        0\n",
       "q17        0\n",
       "q18        0\n",
       "q19        0\n",
       "q20        0\n",
       "q21        0\n",
       "q22        0\n",
       "q23        0\n",
       "q24        0\n",
       "q25        0\n",
       "q26        0\n",
       "q27        0\n",
       "q28        0\n",
       "q29        0\n",
       "q30        0\n",
       "q31        0\n",
       "q32        0\n",
       "          ..\n",
       "q78        0\n",
       "q79        0\n",
       "q80        0\n",
       "q81        0\n",
       "q82        0\n",
       "q83        0\n",
       "q84        0\n",
       "q85        0\n",
       "q86        0\n",
       "q87        0\n",
       "q88        0\n",
       "q89        0\n",
       "q90        0\n",
       "q91        0\n",
       "q92        0\n",
       "q93        0\n",
       "q94        0\n",
       "q95        0\n",
       "q96        0\n",
       "q97        0\n",
       "q98        0\n",
       "q99        0\n",
       "BMIPCT     0\n",
       "weight     0\n",
       "stratum    0\n",
       "psu        0\n",
       "sex_id     0\n",
       "age        0\n",
       "grade      0\n",
       "Sex        0\n",
       "Length: 104, dtype: int64"
      ]
     },
     "execution_count": 17,
     "metadata": {},
     "output_type": "execute_result"
    }
   ],
   "source": [
    "cdc_data.isna().sum()"
   ]
  },
  {
   "cell_type": "code",
   "execution_count": 18,
   "metadata": {},
   "outputs": [],
   "source": [
    "cdc_data.to_csv('cdc_data_noNA.csv')"
   ]
  },
  {
   "cell_type": "markdown",
   "metadata": {},
   "source": [
    "# Modeling"
   ]
  },
  {
   "cell_type": "code",
   "execution_count": 316,
   "metadata": {},
   "outputs": [],
   "source": [
    "import sklearn.feature_selection as fs"
   ]
  },
  {
   "cell_type": "code",
   "execution_count": 317,
   "metadata": {},
   "outputs": [],
   "source": [
    "from sklearn import linear_model\n",
    "from sklearn.linear_model import ElasticNet, Lasso, Ridge, SGDRegressor\n",
    "from sklearn.ensemble import RandomForestRegressor,  GradientBoostingRegressor\n",
    "from sklearn.kernel_ridge import KernelRidge\n",
    "from sklearn.base import BaseEstimator, TransformerMixin, RegressorMixin, clone\n",
    "from sklearn.model_selection import  train_test_split\n",
    "from sklearn.metrics import mean_squared_error, log_loss\n",
    "from sklearn.decomposition import PCA\n",
    "\n",
    "\n",
    "\n",
    "import sklearn.model_selection as ms\n",
    "\n",
    "from sklearn import ensemble\n",
    "from sklearn.ensemble import RandomForestRegressor\n",
    "from pprint import pprint\n",
    "from sklearn.svm import SVR"
   ]
  },
  {
   "cell_type": "code",
   "execution_count": 340,
   "metadata": {},
   "outputs": [],
   "source": [
    "ridge = linear_model.Ridge(alpha = 1, normalize=True, copy_X= True, fit_intercept = False)\n",
    "lasso = linear_model.Lasso(alpha= 0, normalize = False)\n",
    "elasticnet = linear_model.ElasticNet(alpha = 1, l1_ratio=0.5, normalize=False)\n",
    "clf = linear_model.SGDRegressor(max_iter=1000, tol=1e-3)\n",
    "\n",
    "gbm = ensemble.GradientBoostingRegressor()\n",
    "rf = ensemble.RandomForestRegressor(n_estimators = 500, min_samples_split=2,\n",
    "                                    min_samples_leaf = 1, max_features = 'sqrt',\n",
    "                                    max_depth = None, bootstrap = False, random_state=42)\n"
   ]
  },
  {
   "cell_type": "code",
   "execution_count": 341,
   "metadata": {},
   "outputs": [],
   "source": [
    "X_train, X_test, y_train, y_test = train_test_split(X_data, y, test_size = 0.30, random_state = 42)"
   ]
  },
  {
   "cell_type": "code",
   "execution_count": 342,
   "metadata": {},
   "outputs": [],
   "source": [
    "modelList =[ridge, lasso, elasticnet, clf, gbm, rf]\n",
    "modelSeries= pd.Series(modelList, index =[ 'Ridge', 'Lasso', 'Elasticnet', 'SGD', 'XGboost', 'Random Forest'])"
   ]
  },
  {
   "cell_type": "code",
   "execution_count": 343,
   "metadata": {},
   "outputs": [
    {
     "name": "stderr",
     "output_type": "stream",
     "text": [
      "/Users/lauraelliott/anaconda3/lib/python3.7/site-packages/ipykernel_launcher.py:1: UserWarning: With alpha=0, this algorithm does not converge well. You are advised to use the LinearRegression estimator\n",
      "  \"\"\"Entry point for launching an IPython kernel.\n",
      "/Users/lauraelliott/anaconda3/lib/python3.7/site-packages/sklearn/linear_model/coordinate_descent.py:478: UserWarning: Coordinate descent with no regularization may lead to unexpected results and is discouraged.\n",
      "  positive)\n",
      "/Users/lauraelliott/anaconda3/lib/python3.7/site-packages/sklearn/linear_model/coordinate_descent.py:492: ConvergenceWarning: Objective did not converge. You might want to increase the number of iterations. Fitting data with very small alpha may cause precision problems.\n",
      "  ConvergenceWarning)\n",
      "/Users/lauraelliott/anaconda3/lib/python3.7/site-packages/sklearn/utils/validation.py:761: DataConversionWarning: A column-vector y was passed when a 1d array was expected. Please change the shape of y to (n_samples, ), for example using ravel().\n",
      "  y = column_or_1d(y, warn=True)\n",
      "/Users/lauraelliott/anaconda3/lib/python3.7/site-packages/sklearn/utils/validation.py:761: DataConversionWarning: A column-vector y was passed when a 1d array was expected. Please change the shape of y to (n_samples, ), for example using ravel().\n",
      "  y = column_or_1d(y, warn=True)\n",
      "/Users/lauraelliott/anaconda3/lib/python3.7/site-packages/ipykernel_launcher.py:1: DataConversionWarning: A column-vector y was passed when a 1d array was expected. Please change the shape of y to (n_samples,), for example using ravel().\n",
      "  \"\"\"Entry point for launching an IPython kernel.\n"
     ]
    },
    {
     "data": {
      "text/plain": [
       "Ridge            Ridge(alpha=1, copy_X=True, fit_intercept=Fals...\n",
       "Lasso            Lasso(alpha=0, copy_X=True, fit_intercept=True...\n",
       "Elasticnet       ElasticNet(alpha=1, copy_X=True, fit_intercept...\n",
       "SGD              SGDRegressor(alpha=0.0001, average=False, earl...\n",
       "XGboost          ([DecisionTreeRegressor(criterion='friedman_ms...\n",
       "Random Forest    (DecisionTreeRegressor(criterion='mse', max_de...\n",
       "dtype: object"
      ]
     },
     "execution_count": 343,
     "metadata": {},
     "output_type": "execute_result"
    }
   ],
   "source": [
    "modelSeries.apply(lambda x:x.fit(X_train, y_train))"
   ]
  },
  {
   "cell_type": "code",
   "execution_count": 344,
   "metadata": {},
   "outputs": [
    {
     "data": {
      "text/html": [
       "<div>\n",
       "<style scoped>\n",
       "    .dataframe tbody tr th:only-of-type {\n",
       "        vertical-align: middle;\n",
       "    }\n",
       "\n",
       "    .dataframe tbody tr th {\n",
       "        vertical-align: top;\n",
       "    }\n",
       "\n",
       "    .dataframe thead th {\n",
       "        text-align: right;\n",
       "    }\n",
       "</style>\n",
       "<table border=\"1\" class=\"dataframe\">\n",
       "  <thead>\n",
       "    <tr style=\"text-align: right;\">\n",
       "      <th></th>\n",
       "      <th>train score</th>\n",
       "      <th>test score</th>\n",
       "      <th>rmse</th>\n",
       "    </tr>\n",
       "  </thead>\n",
       "  <tbody>\n",
       "    <tr>\n",
       "      <th>Ridge</th>\n",
       "      <td>3.591563e-01</td>\n",
       "      <td>2.532234e-01</td>\n",
       "      <td>5.112327e-01</td>\n",
       "    </tr>\n",
       "    <tr>\n",
       "      <th>Lasso</th>\n",
       "      <td>3.635942e-01</td>\n",
       "      <td>2.422583e-01</td>\n",
       "      <td>5.149723e-01</td>\n",
       "    </tr>\n",
       "    <tr>\n",
       "      <th>Elasticnet</th>\n",
       "      <td>0.000000e+00</td>\n",
       "      <td>-2.713038e-05</td>\n",
       "      <td>5.916014e-01</td>\n",
       "    </tr>\n",
       "    <tr>\n",
       "      <th>SGD</th>\n",
       "      <td>-4.028189e+20</td>\n",
       "      <td>-4.070988e+20</td>\n",
       "      <td>1.193640e+10</td>\n",
       "    </tr>\n",
       "    <tr>\n",
       "      <th>XGboost</th>\n",
       "      <td>4.643399e-01</td>\n",
       "      <td>3.108851e-01</td>\n",
       "      <td>4.910991e-01</td>\n",
       "    </tr>\n",
       "    <tr>\n",
       "      <th>Random Forest</th>\n",
       "      <td>1.000000e+00</td>\n",
       "      <td>2.874172e-01</td>\n",
       "      <td>4.993913e-01</td>\n",
       "    </tr>\n",
       "  </tbody>\n",
       "</table>\n",
       "</div>"
      ],
      "text/plain": [
       "                train score    test score          rmse\n",
       "Ridge          3.591563e-01  2.532234e-01  5.112327e-01\n",
       "Lasso          3.635942e-01  2.422583e-01  5.149723e-01\n",
       "Elasticnet     0.000000e+00 -2.713038e-05  5.916014e-01\n",
       "SGD           -4.028189e+20 -4.070988e+20  1.193640e+10\n",
       "XGboost        4.643399e-01  3.108851e-01  4.910991e-01\n",
       "Random Forest  1.000000e+00  2.874172e-01  4.993913e-01"
      ]
     },
     "execution_count": 344,
     "metadata": {},
     "output_type": "execute_result"
    }
   ],
   "source": [
    "ans = pd.concat([modelSeries.apply(lambda x: x.score(X_train,y_train)),modelSeries.apply(lambda x: x.score(X_test,y_test)), \n",
    "                                    modelSeries.apply(lambda x: np.sqrt(mean_squared_error(x.predict(X_test), y_test)))],axis=1)\n",
    "\n",
    "ans.columns = ['train score', 'test score', 'rmse']\n",
    "ans"
   ]
  },
  {
   "cell_type": "code",
   "execution_count": 155,
   "metadata": {},
   "outputs": [
    {
     "ename": "ValueError",
     "evalue": "Input contains NaN, infinity or a value too large for dtype('float64').",
     "output_type": "error",
     "traceback": [
      "\u001b[0;31m---------------------------------------------------------------------------\u001b[0m",
      "\u001b[0;31mValueError\u001b[0m                                Traceback (most recent call last)",
      "\u001b[0;32m<ipython-input-155-937bec8c8a1c>\u001b[0m in \u001b[0;36m<module>\u001b[0;34m\u001b[0m\n\u001b[1;32m      1\u001b[0m \u001b[0;32mfrom\u001b[0m \u001b[0msklearn\u001b[0m\u001b[0;34m.\u001b[0m\u001b[0mneighbors\u001b[0m \u001b[0;32mimport\u001b[0m \u001b[0mKNeighborsClassifier\u001b[0m\u001b[0;34m\u001b[0m\u001b[0;34m\u001b[0m\u001b[0m\n\u001b[1;32m      2\u001b[0m \u001b[0mknn\u001b[0m \u001b[0;34m=\u001b[0m \u001b[0mKNeighborsClassifier\u001b[0m\u001b[0;34m(\u001b[0m\u001b[0mn_neighbors\u001b[0m\u001b[0;34m=\u001b[0m\u001b[0;36m3\u001b[0m\u001b[0;34m)\u001b[0m\u001b[0;34m\u001b[0m\u001b[0;34m\u001b[0m\u001b[0m\n\u001b[0;32m----> 3\u001b[0;31m \u001b[0mknn\u001b[0m\u001b[0;34m.\u001b[0m\u001b[0mfit\u001b[0m\u001b[0;34m(\u001b[0m\u001b[0mX_train\u001b[0m\u001b[0;34m,\u001b[0m \u001b[0my_train\u001b[0m\u001b[0;34m)\u001b[0m\u001b[0;34m\u001b[0m\u001b[0;34m\u001b[0m\u001b[0m\n\u001b[0m",
      "\u001b[0;32m~/anaconda3/lib/python3.7/site-packages/sklearn/neighbors/base.py\u001b[0m in \u001b[0;36mfit\u001b[0;34m(self, X, y)\u001b[0m\n\u001b[1;32m    889\u001b[0m         \"\"\"\n\u001b[1;32m    890\u001b[0m         \u001b[0;32mif\u001b[0m \u001b[0;32mnot\u001b[0m \u001b[0misinstance\u001b[0m\u001b[0;34m(\u001b[0m\u001b[0mX\u001b[0m\u001b[0;34m,\u001b[0m \u001b[0;34m(\u001b[0m\u001b[0mKDTree\u001b[0m\u001b[0;34m,\u001b[0m \u001b[0mBallTree\u001b[0m\u001b[0;34m)\u001b[0m\u001b[0;34m)\u001b[0m\u001b[0;34m:\u001b[0m\u001b[0;34m\u001b[0m\u001b[0;34m\u001b[0m\u001b[0m\n\u001b[0;32m--> 891\u001b[0;31m             \u001b[0mX\u001b[0m\u001b[0;34m,\u001b[0m \u001b[0my\u001b[0m \u001b[0;34m=\u001b[0m \u001b[0mcheck_X_y\u001b[0m\u001b[0;34m(\u001b[0m\u001b[0mX\u001b[0m\u001b[0;34m,\u001b[0m \u001b[0my\u001b[0m\u001b[0;34m,\u001b[0m \u001b[0;34m\"csr\"\u001b[0m\u001b[0;34m,\u001b[0m \u001b[0mmulti_output\u001b[0m\u001b[0;34m=\u001b[0m\u001b[0;32mTrue\u001b[0m\u001b[0;34m)\u001b[0m\u001b[0;34m\u001b[0m\u001b[0;34m\u001b[0m\u001b[0m\n\u001b[0m\u001b[1;32m    892\u001b[0m \u001b[0;34m\u001b[0m\u001b[0m\n\u001b[1;32m    893\u001b[0m         \u001b[0;32mif\u001b[0m \u001b[0my\u001b[0m\u001b[0;34m.\u001b[0m\u001b[0mndim\u001b[0m \u001b[0;34m==\u001b[0m \u001b[0;36m1\u001b[0m \u001b[0;32mor\u001b[0m \u001b[0my\u001b[0m\u001b[0;34m.\u001b[0m\u001b[0mndim\u001b[0m \u001b[0;34m==\u001b[0m \u001b[0;36m2\u001b[0m \u001b[0;32mand\u001b[0m \u001b[0my\u001b[0m\u001b[0;34m.\u001b[0m\u001b[0mshape\u001b[0m\u001b[0;34m[\u001b[0m\u001b[0;36m1\u001b[0m\u001b[0;34m]\u001b[0m \u001b[0;34m==\u001b[0m \u001b[0;36m1\u001b[0m\u001b[0;34m:\u001b[0m\u001b[0;34m\u001b[0m\u001b[0;34m\u001b[0m\u001b[0m\n",
      "\u001b[0;32m~/anaconda3/lib/python3.7/site-packages/sklearn/utils/validation.py\u001b[0m in \u001b[0;36mcheck_X_y\u001b[0;34m(X, y, accept_sparse, accept_large_sparse, dtype, order, copy, force_all_finite, ensure_2d, allow_nd, multi_output, ensure_min_samples, ensure_min_features, y_numeric, warn_on_dtype, estimator)\u001b[0m\n\u001b[1;32m    754\u001b[0m                     \u001b[0mensure_min_features\u001b[0m\u001b[0;34m=\u001b[0m\u001b[0mensure_min_features\u001b[0m\u001b[0;34m,\u001b[0m\u001b[0;34m\u001b[0m\u001b[0;34m\u001b[0m\u001b[0m\n\u001b[1;32m    755\u001b[0m                     \u001b[0mwarn_on_dtype\u001b[0m\u001b[0;34m=\u001b[0m\u001b[0mwarn_on_dtype\u001b[0m\u001b[0;34m,\u001b[0m\u001b[0;34m\u001b[0m\u001b[0;34m\u001b[0m\u001b[0m\n\u001b[0;32m--> 756\u001b[0;31m                     estimator=estimator)\n\u001b[0m\u001b[1;32m    757\u001b[0m     \u001b[0;32mif\u001b[0m \u001b[0mmulti_output\u001b[0m\u001b[0;34m:\u001b[0m\u001b[0;34m\u001b[0m\u001b[0;34m\u001b[0m\u001b[0m\n\u001b[1;32m    758\u001b[0m         y = check_array(y, 'csr', force_all_finite=True, ensure_2d=False,\n",
      "\u001b[0;32m~/anaconda3/lib/python3.7/site-packages/sklearn/utils/validation.py\u001b[0m in \u001b[0;36mcheck_array\u001b[0;34m(array, accept_sparse, accept_large_sparse, dtype, order, copy, force_all_finite, ensure_2d, allow_nd, ensure_min_samples, ensure_min_features, warn_on_dtype, estimator)\u001b[0m\n\u001b[1;32m    571\u001b[0m         \u001b[0;32mif\u001b[0m \u001b[0mforce_all_finite\u001b[0m\u001b[0;34m:\u001b[0m\u001b[0;34m\u001b[0m\u001b[0;34m\u001b[0m\u001b[0m\n\u001b[1;32m    572\u001b[0m             _assert_all_finite(array,\n\u001b[0;32m--> 573\u001b[0;31m                                allow_nan=force_all_finite == 'allow-nan')\n\u001b[0m\u001b[1;32m    574\u001b[0m \u001b[0;34m\u001b[0m\u001b[0m\n\u001b[1;32m    575\u001b[0m     \u001b[0mshape_repr\u001b[0m \u001b[0;34m=\u001b[0m \u001b[0m_shape_repr\u001b[0m\u001b[0;34m(\u001b[0m\u001b[0marray\u001b[0m\u001b[0;34m.\u001b[0m\u001b[0mshape\u001b[0m\u001b[0;34m)\u001b[0m\u001b[0;34m\u001b[0m\u001b[0;34m\u001b[0m\u001b[0m\n",
      "\u001b[0;32m~/anaconda3/lib/python3.7/site-packages/sklearn/utils/validation.py\u001b[0m in \u001b[0;36m_assert_all_finite\u001b[0;34m(X, allow_nan)\u001b[0m\n\u001b[1;32m     54\u001b[0m                 not allow_nan and not np.isfinite(X).all()):\n\u001b[1;32m     55\u001b[0m             \u001b[0mtype_err\u001b[0m \u001b[0;34m=\u001b[0m \u001b[0;34m'infinity'\u001b[0m \u001b[0;32mif\u001b[0m \u001b[0mallow_nan\u001b[0m \u001b[0;32melse\u001b[0m \u001b[0;34m'NaN, infinity'\u001b[0m\u001b[0;34m\u001b[0m\u001b[0;34m\u001b[0m\u001b[0m\n\u001b[0;32m---> 56\u001b[0;31m             \u001b[0;32mraise\u001b[0m \u001b[0mValueError\u001b[0m\u001b[0;34m(\u001b[0m\u001b[0mmsg_err\u001b[0m\u001b[0;34m.\u001b[0m\u001b[0mformat\u001b[0m\u001b[0;34m(\u001b[0m\u001b[0mtype_err\u001b[0m\u001b[0;34m,\u001b[0m \u001b[0mX\u001b[0m\u001b[0;34m.\u001b[0m\u001b[0mdtype\u001b[0m\u001b[0;34m)\u001b[0m\u001b[0;34m)\u001b[0m\u001b[0;34m\u001b[0m\u001b[0;34m\u001b[0m\u001b[0m\n\u001b[0m\u001b[1;32m     57\u001b[0m \u001b[0;34m\u001b[0m\u001b[0m\n\u001b[1;32m     58\u001b[0m \u001b[0;34m\u001b[0m\u001b[0m\n",
      "\u001b[0;31mValueError\u001b[0m: Input contains NaN, infinity or a value too large for dtype('float64')."
     ]
    }
   ],
   "source": [
    "from sklearn.neighbors import KNeighborsClassifier \n",
    "knn = KNeighborsClassifier(n_neighbors=3) \n",
    "knn.fit(X_train, y_train) "
   ]
  },
  {
   "cell_type": "code",
   "execution_count": 151,
   "metadata": {},
   "outputs": [
    {
     "ename": "AttributeError",
     "evalue": "'GradientBoostingRegressor' object has no attribute '_params_'",
     "output_type": "error",
     "traceback": [
      "\u001b[0;31m---------------------------------------------------------------------------\u001b[0m",
      "\u001b[0;31mAttributeError\u001b[0m                            Traceback (most recent call last)",
      "\u001b[0;32m<ipython-input-151-ae13c8fa6e81>\u001b[0m in \u001b[0;36m<module>\u001b[0;34m\u001b[0m\n\u001b[0;32m----> 1\u001b[0;31m \u001b[0mgbm\u001b[0m\u001b[0;34m.\u001b[0m\u001b[0m_params_\u001b[0m\u001b[0;34m\u001b[0m\u001b[0;34m\u001b[0m\u001b[0m\n\u001b[0m",
      "\u001b[0;31mAttributeError\u001b[0m: 'GradientBoostingRegressor' object has no attribute '_params_'"
     ]
    }
   ],
   "source": [
    "gbm._params_"
   ]
  },
  {
   "cell_type": "code",
   "execution_count": 148,
   "metadata": {},
   "outputs": [
    {
     "ename": "ValueError",
     "evalue": "Input contains NaN, infinity or a value too large for dtype('float32').",
     "output_type": "error",
     "traceback": [
      "\u001b[0;31m---------------------------------------------------------------------------\u001b[0m",
      "\u001b[0;31mValueError\u001b[0m                                Traceback (most recent call last)",
      "\u001b[0;32m<ipython-input-148-3e991093b856>\u001b[0m in \u001b[0;36m<module>\u001b[0;34m\u001b[0m\n\u001b[0;32m----> 1\u001b[0;31m \u001b[0mgbm\u001b[0m\u001b[0;34m.\u001b[0m\u001b[0mfit\u001b[0m\u001b[0;34m(\u001b[0m\u001b[0mX_train\u001b[0m\u001b[0;34m,\u001b[0m \u001b[0my_train\u001b[0m\u001b[0;34m)\u001b[0m\u001b[0;34m\u001b[0m\u001b[0;34m\u001b[0m\u001b[0m\n\u001b[0m",
      "\u001b[0;32m~/anaconda3/lib/python3.7/site-packages/sklearn/ensemble/gradient_boosting.py\u001b[0m in \u001b[0;36mfit\u001b[0;34m(self, X, y, sample_weight, monitor)\u001b[0m\n\u001b[1;32m   1393\u001b[0m \u001b[0;34m\u001b[0m\u001b[0m\n\u001b[1;32m   1394\u001b[0m         \u001b[0;31m# Check input\u001b[0m\u001b[0;34m\u001b[0m\u001b[0;34m\u001b[0m\u001b[0;34m\u001b[0m\u001b[0m\n\u001b[0;32m-> 1395\u001b[0;31m         \u001b[0mX\u001b[0m\u001b[0;34m,\u001b[0m \u001b[0my\u001b[0m \u001b[0;34m=\u001b[0m \u001b[0mcheck_X_y\u001b[0m\u001b[0;34m(\u001b[0m\u001b[0mX\u001b[0m\u001b[0;34m,\u001b[0m \u001b[0my\u001b[0m\u001b[0;34m,\u001b[0m \u001b[0maccept_sparse\u001b[0m\u001b[0;34m=\u001b[0m\u001b[0;34m[\u001b[0m\u001b[0;34m'csr'\u001b[0m\u001b[0;34m,\u001b[0m \u001b[0;34m'csc'\u001b[0m\u001b[0;34m,\u001b[0m \u001b[0;34m'coo'\u001b[0m\u001b[0;34m]\u001b[0m\u001b[0;34m,\u001b[0m \u001b[0mdtype\u001b[0m\u001b[0;34m=\u001b[0m\u001b[0mDTYPE\u001b[0m\u001b[0;34m)\u001b[0m\u001b[0;34m\u001b[0m\u001b[0;34m\u001b[0m\u001b[0m\n\u001b[0m\u001b[1;32m   1396\u001b[0m         \u001b[0mn_samples\u001b[0m\u001b[0;34m,\u001b[0m \u001b[0mself\u001b[0m\u001b[0;34m.\u001b[0m\u001b[0mn_features_\u001b[0m \u001b[0;34m=\u001b[0m \u001b[0mX\u001b[0m\u001b[0;34m.\u001b[0m\u001b[0mshape\u001b[0m\u001b[0;34m\u001b[0m\u001b[0;34m\u001b[0m\u001b[0m\n\u001b[1;32m   1397\u001b[0m         \u001b[0;32mif\u001b[0m \u001b[0msample_weight\u001b[0m \u001b[0;32mis\u001b[0m \u001b[0;32mNone\u001b[0m\u001b[0;34m:\u001b[0m\u001b[0;34m\u001b[0m\u001b[0;34m\u001b[0m\u001b[0m\n",
      "\u001b[0;32m~/anaconda3/lib/python3.7/site-packages/sklearn/utils/validation.py\u001b[0m in \u001b[0;36mcheck_X_y\u001b[0;34m(X, y, accept_sparse, accept_large_sparse, dtype, order, copy, force_all_finite, ensure_2d, allow_nd, multi_output, ensure_min_samples, ensure_min_features, y_numeric, warn_on_dtype, estimator)\u001b[0m\n\u001b[1;32m    754\u001b[0m                     \u001b[0mensure_min_features\u001b[0m\u001b[0;34m=\u001b[0m\u001b[0mensure_min_features\u001b[0m\u001b[0;34m,\u001b[0m\u001b[0;34m\u001b[0m\u001b[0;34m\u001b[0m\u001b[0m\n\u001b[1;32m    755\u001b[0m                     \u001b[0mwarn_on_dtype\u001b[0m\u001b[0;34m=\u001b[0m\u001b[0mwarn_on_dtype\u001b[0m\u001b[0;34m,\u001b[0m\u001b[0;34m\u001b[0m\u001b[0;34m\u001b[0m\u001b[0m\n\u001b[0;32m--> 756\u001b[0;31m                     estimator=estimator)\n\u001b[0m\u001b[1;32m    757\u001b[0m     \u001b[0;32mif\u001b[0m \u001b[0mmulti_output\u001b[0m\u001b[0;34m:\u001b[0m\u001b[0;34m\u001b[0m\u001b[0;34m\u001b[0m\u001b[0m\n\u001b[1;32m    758\u001b[0m         y = check_array(y, 'csr', force_all_finite=True, ensure_2d=False,\n",
      "\u001b[0;32m~/anaconda3/lib/python3.7/site-packages/sklearn/utils/validation.py\u001b[0m in \u001b[0;36mcheck_array\u001b[0;34m(array, accept_sparse, accept_large_sparse, dtype, order, copy, force_all_finite, ensure_2d, allow_nd, ensure_min_samples, ensure_min_features, warn_on_dtype, estimator)\u001b[0m\n\u001b[1;32m    571\u001b[0m         \u001b[0;32mif\u001b[0m \u001b[0mforce_all_finite\u001b[0m\u001b[0;34m:\u001b[0m\u001b[0;34m\u001b[0m\u001b[0;34m\u001b[0m\u001b[0m\n\u001b[1;32m    572\u001b[0m             _assert_all_finite(array,\n\u001b[0;32m--> 573\u001b[0;31m                                allow_nan=force_all_finite == 'allow-nan')\n\u001b[0m\u001b[1;32m    574\u001b[0m \u001b[0;34m\u001b[0m\u001b[0m\n\u001b[1;32m    575\u001b[0m     \u001b[0mshape_repr\u001b[0m \u001b[0;34m=\u001b[0m \u001b[0m_shape_repr\u001b[0m\u001b[0;34m(\u001b[0m\u001b[0marray\u001b[0m\u001b[0;34m.\u001b[0m\u001b[0mshape\u001b[0m\u001b[0;34m)\u001b[0m\u001b[0;34m\u001b[0m\u001b[0;34m\u001b[0m\u001b[0m\n",
      "\u001b[0;32m~/anaconda3/lib/python3.7/site-packages/sklearn/utils/validation.py\u001b[0m in \u001b[0;36m_assert_all_finite\u001b[0;34m(X, allow_nan)\u001b[0m\n\u001b[1;32m     54\u001b[0m                 not allow_nan and not np.isfinite(X).all()):\n\u001b[1;32m     55\u001b[0m             \u001b[0mtype_err\u001b[0m \u001b[0;34m=\u001b[0m \u001b[0;34m'infinity'\u001b[0m \u001b[0;32mif\u001b[0m \u001b[0mallow_nan\u001b[0m \u001b[0;32melse\u001b[0m \u001b[0;34m'NaN, infinity'\u001b[0m\u001b[0;34m\u001b[0m\u001b[0;34m\u001b[0m\u001b[0m\n\u001b[0;32m---> 56\u001b[0;31m             \u001b[0;32mraise\u001b[0m \u001b[0mValueError\u001b[0m\u001b[0;34m(\u001b[0m\u001b[0mmsg_err\u001b[0m\u001b[0;34m.\u001b[0m\u001b[0mformat\u001b[0m\u001b[0;34m(\u001b[0m\u001b[0mtype_err\u001b[0m\u001b[0;34m,\u001b[0m \u001b[0mX\u001b[0m\u001b[0;34m.\u001b[0m\u001b[0mdtype\u001b[0m\u001b[0;34m)\u001b[0m\u001b[0;34m)\u001b[0m\u001b[0;34m\u001b[0m\u001b[0;34m\u001b[0m\u001b[0m\n\u001b[0m\u001b[1;32m     57\u001b[0m \u001b[0;34m\u001b[0m\u001b[0m\n\u001b[1;32m     58\u001b[0m \u001b[0;34m\u001b[0m\u001b[0m\n",
      "\u001b[0;31mValueError\u001b[0m: Input contains NaN, infinity or a value too large for dtype('float32')."
     ]
    }
   ],
   "source": [
    "gbm.fit(X_train, y_train)"
   ]
  },
  {
   "cell_type": "markdown",
   "metadata": {},
   "source": [
    "### Imputation"
   ]
  },
  {
   "cell_type": "code",
   "execution_count": 127,
   "metadata": {
    "scrolled": false
   },
   "outputs": [
    {
     "data": {
      "text/plain": [
       "1.0    7317\n",
       "6.0    1324\n",
       "5.0     582\n",
       "8.0     571\n",
       "7.0     388\n",
       "2.0     143\n",
       "3.0      41\n",
       "4.0      24\n",
       "Name: q43, dtype: int64"
      ]
     },
     "execution_count": 127,
     "metadata": {},
     "output_type": "execute_result"
    }
   ],
   "source": [
    "cdc_data.q43.value_counts()"
   ]
  },
  {
   "cell_type": "code",
   "execution_count": 128,
   "metadata": {},
   "outputs": [],
   "source": [
    "from sklearn.impute import SimpleImputer\n",
    "imp_mean = SimpleImputer( strategy='most_frequent')\n",
    "imp_mean.fit(cdc_data)\n",
    "imputed_train_df = imp_mean.transform(cdc_data)"
   ]
  },
  {
   "cell_type": "code",
   "execution_count": 111,
   "metadata": {},
   "outputs": [],
   "source": [
    "impute_mode = cdc_data.loc[:,:]\n",
    "\n",
    "for i in impute_mode.columns:\n",
    "    cdc_data[i].fillna(cdc_data[i].mode(), inplace =True)"
   ]
  },
  {
   "cell_type": "code",
   "execution_count": 129,
   "metadata": {},
   "outputs": [
    {
     "data": {
      "text/plain": [
       "raceeth     337\n",
       "q1           81\n",
       "q2          127\n",
       "q3          114\n",
       "q4          255\n",
       "q6         1619\n",
       "q7         1619\n",
       "q8         2891\n",
       "q9           50\n",
       "q10        1070\n",
       "q11         963\n",
       "q12        3027\n",
       "q14         570\n",
       "q15        2594\n",
       "q16          63\n",
       "q17        2708\n",
       "q18         287\n",
       "q19         325\n",
       "q20         620\n",
       "q21         993\n",
       "q22         680\n",
       "q23         159\n",
       "q24         170\n",
       "q25         238\n",
       "q26         212\n",
       "q27         224\n",
       "q28        4079\n",
       "q29        4145\n",
       "q30        2853\n",
       "q31        2851\n",
       "           ... \n",
       "q72         740\n",
       "q73         738\n",
       "q74         776\n",
       "q75         830\n",
       "q76         461\n",
       "q77        2905\n",
       "q78        2847\n",
       "q79         527\n",
       "q80         898\n",
       "q81         926\n",
       "q82         614\n",
       "q83        3045\n",
       "q84         628\n",
       "q85         624\n",
       "q86         564\n",
       "q87         940\n",
       "q88        2954\n",
       "q89        3091\n",
       "q90        3510\n",
       "q91        3891\n",
       "q92        3877\n",
       "q93        4067\n",
       "q94        4061\n",
       "q95        4052\n",
       "q96        1751\n",
       "q97        4056\n",
       "q98        4097\n",
       "q99        4054\n",
       "BMIPCT     1619\n",
       "weight        0\n",
       "Length: 100, dtype: int64"
      ]
     },
     "execution_count": 129,
     "metadata": {},
     "output_type": "execute_result"
    }
   ],
   "source": [
    "cdc_data.isna().sum()"
   ]
  },
  {
   "cell_type": "code",
   "execution_count": 130,
   "metadata": {},
   "outputs": [
    {
     "ename": "KeyError",
     "evalue": "'q13'",
     "output_type": "error",
     "traceback": [
      "\u001b[0;31m---------------------------------------------------------------------------\u001b[0m",
      "\u001b[0;31mKeyError\u001b[0m                                  Traceback (most recent call last)",
      "\u001b[0;32m~/anaconda3/lib/python3.7/site-packages/pandas/core/indexes/base.py\u001b[0m in \u001b[0;36mget_loc\u001b[0;34m(self, key, method, tolerance)\u001b[0m\n\u001b[1;32m   2656\u001b[0m             \u001b[0;32mtry\u001b[0m\u001b[0;34m:\u001b[0m\u001b[0;34m\u001b[0m\u001b[0;34m\u001b[0m\u001b[0m\n\u001b[0;32m-> 2657\u001b[0;31m                 \u001b[0;32mreturn\u001b[0m \u001b[0mself\u001b[0m\u001b[0;34m.\u001b[0m\u001b[0m_engine\u001b[0m\u001b[0;34m.\u001b[0m\u001b[0mget_loc\u001b[0m\u001b[0;34m(\u001b[0m\u001b[0mkey\u001b[0m\u001b[0;34m)\u001b[0m\u001b[0;34m\u001b[0m\u001b[0;34m\u001b[0m\u001b[0m\n\u001b[0m\u001b[1;32m   2658\u001b[0m             \u001b[0;32mexcept\u001b[0m \u001b[0mKeyError\u001b[0m\u001b[0;34m:\u001b[0m\u001b[0;34m\u001b[0m\u001b[0;34m\u001b[0m\u001b[0m\n",
      "\u001b[0;32mpandas/_libs/index.pyx\u001b[0m in \u001b[0;36mpandas._libs.index.IndexEngine.get_loc\u001b[0;34m()\u001b[0m\n",
      "\u001b[0;32mpandas/_libs/index.pyx\u001b[0m in \u001b[0;36mpandas._libs.index.IndexEngine.get_loc\u001b[0;34m()\u001b[0m\n",
      "\u001b[0;32mpandas/_libs/hashtable_class_helper.pxi\u001b[0m in \u001b[0;36mpandas._libs.hashtable.PyObjectHashTable.get_item\u001b[0;34m()\u001b[0m\n",
      "\u001b[0;32mpandas/_libs/hashtable_class_helper.pxi\u001b[0m in \u001b[0;36mpandas._libs.hashtable.PyObjectHashTable.get_item\u001b[0;34m()\u001b[0m\n",
      "\u001b[0;31mKeyError\u001b[0m: 'q13'",
      "\nDuring handling of the above exception, another exception occurred:\n",
      "\u001b[0;31mKeyError\u001b[0m                                  Traceback (most recent call last)",
      "\u001b[0;32m<ipython-input-130-db8981ac11b1>\u001b[0m in \u001b[0;36m<module>\u001b[0;34m\u001b[0m\n\u001b[0;32m----> 1\u001b[0;31m \u001b[0my\u001b[0m \u001b[0;34m=\u001b[0m \u001b[0mcdc_data\u001b[0m\u001b[0;34m[\u001b[0m\u001b[0;34m'q13'\u001b[0m\u001b[0;34m]\u001b[0m\u001b[0;34m\u001b[0m\u001b[0;34m\u001b[0m\u001b[0m\n\u001b[0m\u001b[1;32m      2\u001b[0m \u001b[0mcdc_data\u001b[0m\u001b[0;34m.\u001b[0m\u001b[0mdrop\u001b[0m\u001b[0;34m(\u001b[0m\u001b[0;34m[\u001b[0m\u001b[0;34m'q13'\u001b[0m\u001b[0;34m]\u001b[0m\u001b[0;34m,\u001b[0m \u001b[0maxis\u001b[0m\u001b[0;34m=\u001b[0m\u001b[0;36m1\u001b[0m\u001b[0;34m,\u001b[0m \u001b[0minplace\u001b[0m \u001b[0;34m=\u001b[0m \u001b[0;32mTrue\u001b[0m\u001b[0;34m)\u001b[0m\u001b[0;34m\u001b[0m\u001b[0;34m\u001b[0m\u001b[0m\n",
      "\u001b[0;32m~/anaconda3/lib/python3.7/site-packages/pandas/core/frame.py\u001b[0m in \u001b[0;36m__getitem__\u001b[0;34m(self, key)\u001b[0m\n\u001b[1;32m   2925\u001b[0m             \u001b[0;32mif\u001b[0m \u001b[0mself\u001b[0m\u001b[0;34m.\u001b[0m\u001b[0mcolumns\u001b[0m\u001b[0;34m.\u001b[0m\u001b[0mnlevels\u001b[0m \u001b[0;34m>\u001b[0m \u001b[0;36m1\u001b[0m\u001b[0;34m:\u001b[0m\u001b[0;34m\u001b[0m\u001b[0;34m\u001b[0m\u001b[0m\n\u001b[1;32m   2926\u001b[0m                 \u001b[0;32mreturn\u001b[0m \u001b[0mself\u001b[0m\u001b[0;34m.\u001b[0m\u001b[0m_getitem_multilevel\u001b[0m\u001b[0;34m(\u001b[0m\u001b[0mkey\u001b[0m\u001b[0;34m)\u001b[0m\u001b[0;34m\u001b[0m\u001b[0;34m\u001b[0m\u001b[0m\n\u001b[0;32m-> 2927\u001b[0;31m             \u001b[0mindexer\u001b[0m \u001b[0;34m=\u001b[0m \u001b[0mself\u001b[0m\u001b[0;34m.\u001b[0m\u001b[0mcolumns\u001b[0m\u001b[0;34m.\u001b[0m\u001b[0mget_loc\u001b[0m\u001b[0;34m(\u001b[0m\u001b[0mkey\u001b[0m\u001b[0;34m)\u001b[0m\u001b[0;34m\u001b[0m\u001b[0;34m\u001b[0m\u001b[0m\n\u001b[0m\u001b[1;32m   2928\u001b[0m             \u001b[0;32mif\u001b[0m \u001b[0mis_integer\u001b[0m\u001b[0;34m(\u001b[0m\u001b[0mindexer\u001b[0m\u001b[0;34m)\u001b[0m\u001b[0;34m:\u001b[0m\u001b[0;34m\u001b[0m\u001b[0;34m\u001b[0m\u001b[0m\n\u001b[1;32m   2929\u001b[0m                 \u001b[0mindexer\u001b[0m \u001b[0;34m=\u001b[0m \u001b[0;34m[\u001b[0m\u001b[0mindexer\u001b[0m\u001b[0;34m]\u001b[0m\u001b[0;34m\u001b[0m\u001b[0;34m\u001b[0m\u001b[0m\n",
      "\u001b[0;32m~/anaconda3/lib/python3.7/site-packages/pandas/core/indexes/base.py\u001b[0m in \u001b[0;36mget_loc\u001b[0;34m(self, key, method, tolerance)\u001b[0m\n\u001b[1;32m   2657\u001b[0m                 \u001b[0;32mreturn\u001b[0m \u001b[0mself\u001b[0m\u001b[0;34m.\u001b[0m\u001b[0m_engine\u001b[0m\u001b[0;34m.\u001b[0m\u001b[0mget_loc\u001b[0m\u001b[0;34m(\u001b[0m\u001b[0mkey\u001b[0m\u001b[0;34m)\u001b[0m\u001b[0;34m\u001b[0m\u001b[0;34m\u001b[0m\u001b[0m\n\u001b[1;32m   2658\u001b[0m             \u001b[0;32mexcept\u001b[0m \u001b[0mKeyError\u001b[0m\u001b[0;34m:\u001b[0m\u001b[0;34m\u001b[0m\u001b[0;34m\u001b[0m\u001b[0m\n\u001b[0;32m-> 2659\u001b[0;31m                 \u001b[0;32mreturn\u001b[0m \u001b[0mself\u001b[0m\u001b[0;34m.\u001b[0m\u001b[0m_engine\u001b[0m\u001b[0;34m.\u001b[0m\u001b[0mget_loc\u001b[0m\u001b[0;34m(\u001b[0m\u001b[0mself\u001b[0m\u001b[0;34m.\u001b[0m\u001b[0m_maybe_cast_indexer\u001b[0m\u001b[0;34m(\u001b[0m\u001b[0mkey\u001b[0m\u001b[0;34m)\u001b[0m\u001b[0;34m)\u001b[0m\u001b[0;34m\u001b[0m\u001b[0;34m\u001b[0m\u001b[0m\n\u001b[0m\u001b[1;32m   2660\u001b[0m         \u001b[0mindexer\u001b[0m \u001b[0;34m=\u001b[0m \u001b[0mself\u001b[0m\u001b[0;34m.\u001b[0m\u001b[0mget_indexer\u001b[0m\u001b[0;34m(\u001b[0m\u001b[0;34m[\u001b[0m\u001b[0mkey\u001b[0m\u001b[0;34m]\u001b[0m\u001b[0;34m,\u001b[0m \u001b[0mmethod\u001b[0m\u001b[0;34m=\u001b[0m\u001b[0mmethod\u001b[0m\u001b[0;34m,\u001b[0m \u001b[0mtolerance\u001b[0m\u001b[0;34m=\u001b[0m\u001b[0mtolerance\u001b[0m\u001b[0;34m)\u001b[0m\u001b[0;34m\u001b[0m\u001b[0;34m\u001b[0m\u001b[0m\n\u001b[1;32m   2661\u001b[0m         \u001b[0;32mif\u001b[0m \u001b[0mindexer\u001b[0m\u001b[0;34m.\u001b[0m\u001b[0mndim\u001b[0m \u001b[0;34m>\u001b[0m \u001b[0;36m1\u001b[0m \u001b[0;32mor\u001b[0m \u001b[0mindexer\u001b[0m\u001b[0;34m.\u001b[0m\u001b[0msize\u001b[0m \u001b[0;34m>\u001b[0m \u001b[0;36m1\u001b[0m\u001b[0;34m:\u001b[0m\u001b[0;34m\u001b[0m\u001b[0;34m\u001b[0m\u001b[0m\n",
      "\u001b[0;32mpandas/_libs/index.pyx\u001b[0m in \u001b[0;36mpandas._libs.index.IndexEngine.get_loc\u001b[0;34m()\u001b[0m\n",
      "\u001b[0;32mpandas/_libs/index.pyx\u001b[0m in \u001b[0;36mpandas._libs.index.IndexEngine.get_loc\u001b[0;34m()\u001b[0m\n",
      "\u001b[0;32mpandas/_libs/hashtable_class_helper.pxi\u001b[0m in \u001b[0;36mpandas._libs.hashtable.PyObjectHashTable.get_item\u001b[0;34m()\u001b[0m\n",
      "\u001b[0;32mpandas/_libs/hashtable_class_helper.pxi\u001b[0m in \u001b[0;36mpandas._libs.hashtable.PyObjectHashTable.get_item\u001b[0;34m()\u001b[0m\n",
      "\u001b[0;31mKeyError\u001b[0m: 'q13'"
     ]
    }
   ],
   "source": [
    "y = cdc_data['q13']\n"
   ]
  },
  {
   "cell_type": "markdown",
   "metadata": {},
   "source": [
    "## Feature Selection Test"
   ]
  },
  {
   "cell_type": "code",
   "execution_count": 116,
   "metadata": {},
   "outputs": [],
   "source": [
    "from scipy.stats import chisquare\n",
    "import pandas as pd\n",
    "import numpy as np\n",
    "import scipy.stats as stats\n",
    "from scipy.stats import chi2_contingency\n",
    "\n",
    "class ChiSquare:\n",
    "    def __init__(self, cdc_data):\n",
    "        self.df = cdc_data\n",
    "        self.p = None #P-Value\n",
    "        self.chi2 = None #Chi Test Statistic\n",
    "        self.dof = None\n",
    "        \n",
    "        self.dfObserved = None\n",
    "        self.dfExpected = None\n",
    "        \n",
    "    def _print_chisquare_result(self, colX, alpha):\n",
    "        result = \"\"\n",
    "        if self.p<alpha:\n",
    "            result=\"{0} is IMPORTANT for Prediction\".format(colX)\n",
    "        else:\n",
    "            result=\"{0} is NOT an important predictor. (Discard {0} from model)\".format(colX)\n",
    "\n",
    "        print(result)\n",
    "        \n",
    "    def TestIndependence(self,colX,colY, alpha=0.05):\n",
    "        X = self.df[colX].astype(str)\n",
    "        Y = self.df[colY].astype(str)\n",
    "        \n",
    "        self.dfObserved = pd.crosstab(Y,X) \n",
    "        chi2, p, dof, expected = stats.chi2_contingency(self.dfObserved.values)\n",
    "        self.p = p\n",
    "        self.chi2 = chi2\n",
    "        self.dof = dof \n",
    "        \n",
    "        self.dfExpected = pd.DataFrame(expected, columns=self.dfObserved.columns, index = self.dfObserved.index)\n",
    "        \n",
    "        self._print_chisquare_result(colX,alpha)\n",
    "\n",
    "\n"
   ]
  },
  {
   "cell_type": "code",
   "execution_count": 123,
   "metadata": {},
   "outputs": [
    {
     "name": "stdout",
     "output_type": "stream",
     "text": [
      "q1 is IMPORTANT for Prediction\n",
      "q2 is IMPORTANT for Prediction\n",
      "q3 is IMPORTANT for Prediction\n",
      "q4 is IMPORTANT for Prediction\n",
      "q5 is IMPORTANT for Prediction\n"
     ]
    }
   ],
   "source": [
    "#Demographic Features\n",
    "cT = ChiSquare(cdc_data)\n",
    "\n",
    "#Feature Selection\n",
    "testColumns = ['q1', 'q2', 'q3', 'q4', 'q5']\n",
    "for var in testColumns:\n",
    "    cT.TestIndependence(colX=var,colY=\"q13\" ) "
   ]
  },
  {
   "cell_type": "code",
   "execution_count": 124,
   "metadata": {},
   "outputs": [
    {
     "name": "stdout",
     "output_type": "stream",
     "text": [
      "q8 is IMPORTANT for Prediction\n",
      "q9 is IMPORTANT for Prediction\n",
      "q10 is IMPORTANT for Prediction\n",
      "q11 is IMPORTANT for Prediction\n"
     ]
    }
   ],
   "source": [
    "#Alcohol\n",
    "testColumns = ['q8', 'q9', 'q10', 'q11']\n",
    "for var in testColumns:\n",
    "    cT.TestIndependence(colX=var,colY=\"q13\" ) "
   ]
  },
  {
   "cell_type": "code",
   "execution_count": 127,
   "metadata": {},
   "outputs": [
    {
     "name": "stdout",
     "output_type": "stream",
     "text": [
      "q12 is IMPORTANT for Prediction\n",
      "q14 is IMPORTANT for Prediction\n",
      "q15 is IMPORTANT for Prediction\n",
      "q16 is IMPORTANT for Prediction\n",
      "q17 is IMPORTANT for Prediction\n",
      "q18 is IMPORTANT for Prediction\n",
      "q19 is IMPORTANT for Prediction\n",
      "q20 is IMPORTANT for Prediction\n",
      "q21 is IMPORTANT for Prediction\n",
      "q22 is IMPORTANT for Prediction\n",
      "q23 is IMPORTANT for Prediction\n",
      "q24 is IMPORTANT for Prediction\n",
      "q25 is IMPORTANT for Prediction\n"
     ]
    }
   ],
   "source": [
    "#Other violence, bullying\n",
    "testColumns = ['q12', 'q14', 'q15', 'q16', 'q17', 'q18',\n",
    "               'q19', 'q20', 'q21','q22', 'q23', 'q24', 'q25' ]\n",
    "for var in testColumns:\n",
    "    cT.TestIndependence(colX=var,colY=\"q13\" ) "
   ]
  },
  {
   "cell_type": "code",
   "execution_count": 128,
   "metadata": {},
   "outputs": [
    {
     "name": "stdout",
     "output_type": "stream",
     "text": [
      "q26 is IMPORTANT for Prediction\n",
      "q27 is IMPORTANT for Prediction\n",
      "q28 is IMPORTANT for Prediction\n",
      "q29 is IMPORTANT for Prediction\n"
     ]
    }
   ],
   "source": [
    "# Suicide \n",
    "testColumns = ['q26', 'q27', 'q28', 'q29' ]\n",
    "for var in testColumns:\n",
    "    cT.TestIndependence(colX=var,colY=\"q13\" ) "
   ]
  },
  {
   "cell_type": "code",
   "execution_count": null,
   "metadata": {},
   "outputs": [],
   "source": []
  },
  {
   "cell_type": "code",
   "execution_count": 336,
   "metadata": {},
   "outputs": [
    {
     "data": {
      "text/html": [
       "<div>\n",
       "<style scoped>\n",
       "    .dataframe tbody tr th:only-of-type {\n",
       "        vertical-align: middle;\n",
       "    }\n",
       "\n",
       "    .dataframe tbody tr th {\n",
       "        vertical-align: top;\n",
       "    }\n",
       "\n",
       "    .dataframe thead th {\n",
       "        text-align: right;\n",
       "    }\n",
       "</style>\n",
       "<table border=\"1\" class=\"dataframe\">\n",
       "  <thead>\n",
       "    <tr style=\"text-align: right;\">\n",
       "      <th></th>\n",
       "      <th>site</th>\n",
       "      <th>raceeth</th>\n",
       "      <th>q6orig</th>\n",
       "      <th>q7orig</th>\n",
       "      <th>record</th>\n",
       "      <th>orig_rec</th>\n",
       "      <th>q4</th>\n",
       "      <th>q5</th>\n",
       "      <th>q6</th>\n",
       "      <th>q8</th>\n",
       "      <th>...</th>\n",
       "      <th>weight</th>\n",
       "      <th>stratum</th>\n",
       "      <th>psu</th>\n",
       "      <th>suicide_consider</th>\n",
       "      <th>age</th>\n",
       "      <th>grade</th>\n",
       "      <th>Sex</th>\n",
       "      <th>wght</th>\n",
       "      <th>Gun_carry</th>\n",
       "      <th>oth_weapons</th>\n",
       "    </tr>\n",
       "  </thead>\n",
       "  <tbody>\n",
       "    <tr>\n",
       "      <th>0</th>\n",
       "      <td>XX</td>\n",
       "      <td>White</td>\n",
       "      <td>603</td>\n",
       "      <td>240</td>\n",
       "      <td>1</td>\n",
       "      <td>NaN</td>\n",
       "      <td>2.0</td>\n",
       "      <td>E</td>\n",
       "      <td>1.90</td>\n",
       "      <td>4.0</td>\n",
       "      <td>...</td>\n",
       "      <td>0.5497</td>\n",
       "      <td>101</td>\n",
       "      <td>11170</td>\n",
       "      <td>No</td>\n",
       "      <td>16 years old</td>\n",
       "      <td>11th grade</td>\n",
       "      <td>F</td>\n",
       "      <td>108.86</td>\n",
       "      <td>1</td>\n",
       "      <td>1</td>\n",
       "    </tr>\n",
       "    <tr>\n",
       "      <th>1</th>\n",
       "      <td>XX</td>\n",
       "      <td>Hispanic/Latino</td>\n",
       "      <td>503</td>\n",
       "      <td>130</td>\n",
       "      <td>2</td>\n",
       "      <td>NaN</td>\n",
       "      <td>1.0</td>\n",
       "      <td>NaN</td>\n",
       "      <td>1.60</td>\n",
       "      <td>5.0</td>\n",
       "      <td>...</td>\n",
       "      <td>0.3811</td>\n",
       "      <td>101</td>\n",
       "      <td>11170</td>\n",
       "      <td>No</td>\n",
       "      <td>18 or older</td>\n",
       "      <td>11th grade</td>\n",
       "      <td>F</td>\n",
       "      <td>58.97</td>\n",
       "      <td>1</td>\n",
       "      <td>1</td>\n",
       "    </tr>\n",
       "    <tr>\n",
       "      <th>2</th>\n",
       "      <td>XX</td>\n",
       "      <td>Multiple Hispanic/Latino</td>\n",
       "      <td>505</td>\n",
       "      <td>142</td>\n",
       "      <td>3</td>\n",
       "      <td>NaN</td>\n",
       "      <td>1.0</td>\n",
       "      <td>A</td>\n",
       "      <td>1.65</td>\n",
       "      <td>5.0</td>\n",
       "      <td>...</td>\n",
       "      <td>0.4238</td>\n",
       "      <td>101</td>\n",
       "      <td>11170</td>\n",
       "      <td>No</td>\n",
       "      <td>16 years old</td>\n",
       "      <td>11th grade</td>\n",
       "      <td>M</td>\n",
       "      <td>64.41</td>\n",
       "      <td>1</td>\n",
       "      <td>1</td>\n",
       "    </tr>\n",
       "    <tr>\n",
       "      <th>3</th>\n",
       "      <td>XX</td>\n",
       "      <td>Hispanic/Latino</td>\n",
       "      <td>503</td>\n",
       "      <td>143</td>\n",
       "      <td>4</td>\n",
       "      <td>NaN</td>\n",
       "      <td>1.0</td>\n",
       "      <td>NaN</td>\n",
       "      <td>1.60</td>\n",
       "      <td>4.0</td>\n",
       "      <td>...</td>\n",
       "      <td>0.4238</td>\n",
       "      <td>101</td>\n",
       "      <td>11170</td>\n",
       "      <td>No</td>\n",
       "      <td>17 years old</td>\n",
       "      <td>11th grade</td>\n",
       "      <td>M</td>\n",
       "      <td>64.86</td>\n",
       "      <td>1</td>\n",
       "      <td>1</td>\n",
       "    </tr>\n",
       "    <tr>\n",
       "      <th>4</th>\n",
       "      <td>XX</td>\n",
       "      <td>White</td>\n",
       "      <td>509</td>\n",
       "      <td>145</td>\n",
       "      <td>5</td>\n",
       "      <td>NaN</td>\n",
       "      <td>2.0</td>\n",
       "      <td>E</td>\n",
       "      <td>1.75</td>\n",
       "      <td>5.0</td>\n",
       "      <td>...</td>\n",
       "      <td>0.5497</td>\n",
       "      <td>101</td>\n",
       "      <td>11170</td>\n",
       "      <td>No</td>\n",
       "      <td>18 or older</td>\n",
       "      <td>11th grade</td>\n",
       "      <td>F</td>\n",
       "      <td>65.77</td>\n",
       "      <td>1</td>\n",
       "      <td>1</td>\n",
       "    </tr>\n",
       "  </tbody>\n",
       "</table>\n",
       "<p>5 rows × 109 columns</p>\n",
       "</div>"
      ],
      "text/plain": [
       "  site                   raceeth q6orig q7orig  record  orig_rec   q4   q5  \\\n",
       "0   XX                     White    603    240       1       NaN  2.0    E   \n",
       "1   XX           Hispanic/Latino    503    130       2       NaN  1.0  NaN   \n",
       "2   XX  Multiple Hispanic/Latino    505    142       3       NaN  1.0    A   \n",
       "3   XX           Hispanic/Latino    503    143       4       NaN  1.0  NaN   \n",
       "4   XX                     White    509    145       5       NaN  2.0    E   \n",
       "\n",
       "     q6   q8  ...  weight  stratum    psu  suicide_consider           age  \\\n",
       "0  1.90  4.0  ...  0.5497      101  11170                No  16 years old   \n",
       "1  1.60  5.0  ...  0.3811      101  11170                No   18 or older   \n",
       "2  1.65  5.0  ...  0.4238      101  11170                No  16 years old   \n",
       "3  1.60  4.0  ...  0.4238      101  11170                No  17 years old   \n",
       "4  1.75  5.0  ...  0.5497      101  11170                No   18 or older   \n",
       "\n",
       "        grade  Sex    wght  Gun_carry  oth_weapons  \n",
       "0  11th grade    F  108.86          1            1  \n",
       "1  11th grade    F   58.97          1            1  \n",
       "2  11th grade    M   64.41          1            1  \n",
       "3  11th grade    M   64.86          1            1  \n",
       "4  11th grade    F   65.77          1            1  \n",
       "\n",
       "[5 rows x 109 columns]"
      ]
     },
     "execution_count": 336,
     "metadata": {},
     "output_type": "execute_result"
    }
   ],
   "source": [
    "cdc_data.head()"
   ]
  },
  {
   "cell_type": "code",
   "execution_count": 187,
   "metadata": {},
   "outputs": [
    {
     "data": {
      "text/html": [
       "<div>\n",
       "<style scoped>\n",
       "    .dataframe tbody tr th:only-of-type {\n",
       "        vertical-align: middle;\n",
       "    }\n",
       "\n",
       "    .dataframe tbody tr th {\n",
       "        vertical-align: top;\n",
       "    }\n",
       "\n",
       "    .dataframe thead th {\n",
       "        text-align: right;\n",
       "    }\n",
       "</style>\n",
       "<table border=\"1\" class=\"dataframe\">\n",
       "  <thead>\n",
       "    <tr style=\"text-align: right;\">\n",
       "      <th></th>\n",
       "      <th>Q1</th>\n",
       "      <th>Q2</th>\n",
       "      <th>Q3</th>\n",
       "      <th>Q4</th>\n",
       "      <th>Q5</th>\n",
       "      <th>Q6</th>\n",
       "      <th>Q7</th>\n",
       "      <th>QN8</th>\n",
       "      <th>QN9</th>\n",
       "      <th>QN10</th>\n",
       "      <th>...</th>\n",
       "      <th>BMIPCT</th>\n",
       "      <th>RACEETH</th>\n",
       "      <th>Q6ORIG</th>\n",
       "      <th>Q7ORIG</th>\n",
       "      <th>QNDAYEVP</th>\n",
       "      <th>QNFREVP</th>\n",
       "      <th>QNDAYSKL</th>\n",
       "      <th>QNFRSKL</th>\n",
       "      <th>QNDAYCGR</th>\n",
       "      <th>QNFRCGR</th>\n",
       "    </tr>\n",
       "  </thead>\n",
       "  <tbody>\n",
       "    <tr>\n",
       "      <th>0</th>\n",
       "      <td>5.0</td>\n",
       "      <td>2.0</td>\n",
       "      <td>3.0</td>\n",
       "      <td>2.0</td>\n",
       "      <td>E</td>\n",
       "      <td>1.90</td>\n",
       "      <td>108.86</td>\n",
       "      <td>2.0</td>\n",
       "      <td>2.0</td>\n",
       "      <td>2.0</td>\n",
       "      <td>...</td>\n",
       "      <td>97.44</td>\n",
       "      <td>5.0</td>\n",
       "      <td>603</td>\n",
       "      <td>240</td>\n",
       "      <td>2.0</td>\n",
       "      <td>2.0</td>\n",
       "      <td>2.0</td>\n",
       "      <td>2.0</td>\n",
       "      <td>2.0</td>\n",
       "      <td>2.0</td>\n",
       "    </tr>\n",
       "    <tr>\n",
       "      <th>1</th>\n",
       "      <td>7.0</td>\n",
       "      <td>2.0</td>\n",
       "      <td>3.0</td>\n",
       "      <td>1.0</td>\n",
       "      <td>NaN</td>\n",
       "      <td>1.60</td>\n",
       "      <td>58.97</td>\n",
       "      <td>2.0</td>\n",
       "      <td>2.0</td>\n",
       "      <td>2.0</td>\n",
       "      <td>...</td>\n",
       "      <td>60.88</td>\n",
       "      <td>6.0</td>\n",
       "      <td>503</td>\n",
       "      <td>130</td>\n",
       "      <td>2.0</td>\n",
       "      <td>2.0</td>\n",
       "      <td>2.0</td>\n",
       "      <td>2.0</td>\n",
       "      <td>2.0</td>\n",
       "      <td>2.0</td>\n",
       "    </tr>\n",
       "    <tr>\n",
       "      <th>2</th>\n",
       "      <td>5.0</td>\n",
       "      <td>1.0</td>\n",
       "      <td>3.0</td>\n",
       "      <td>1.0</td>\n",
       "      <td>A</td>\n",
       "      <td>1.65</td>\n",
       "      <td>64.41</td>\n",
       "      <td>2.0</td>\n",
       "      <td>2.0</td>\n",
       "      <td>2.0</td>\n",
       "      <td>...</td>\n",
       "      <td>78.50</td>\n",
       "      <td>7.0</td>\n",
       "      <td>505</td>\n",
       "      <td>142</td>\n",
       "      <td>2.0</td>\n",
       "      <td>2.0</td>\n",
       "      <td>2.0</td>\n",
       "      <td>2.0</td>\n",
       "      <td>2.0</td>\n",
       "      <td>2.0</td>\n",
       "    </tr>\n",
       "    <tr>\n",
       "      <th>3</th>\n",
       "      <td>6.0</td>\n",
       "      <td>1.0</td>\n",
       "      <td>3.0</td>\n",
       "      <td>1.0</td>\n",
       "      <td>NaN</td>\n",
       "      <td>1.60</td>\n",
       "      <td>64.86</td>\n",
       "      <td>2.0</td>\n",
       "      <td>2.0</td>\n",
       "      <td>2.0</td>\n",
       "      <td>...</td>\n",
       "      <td>84.61</td>\n",
       "      <td>6.0</td>\n",
       "      <td>503</td>\n",
       "      <td>143</td>\n",
       "      <td>2.0</td>\n",
       "      <td>2.0</td>\n",
       "      <td>2.0</td>\n",
       "      <td>2.0</td>\n",
       "      <td>2.0</td>\n",
       "      <td>2.0</td>\n",
       "    </tr>\n",
       "    <tr>\n",
       "      <th>4</th>\n",
       "      <td>7.0</td>\n",
       "      <td>2.0</td>\n",
       "      <td>3.0</td>\n",
       "      <td>2.0</td>\n",
       "      <td>E</td>\n",
       "      <td>1.75</td>\n",
       "      <td>65.77</td>\n",
       "      <td>2.0</td>\n",
       "      <td>2.0</td>\n",
       "      <td>2.0</td>\n",
       "      <td>...</td>\n",
       "      <td>40.08</td>\n",
       "      <td>5.0</td>\n",
       "      <td>509</td>\n",
       "      <td>145</td>\n",
       "      <td>2.0</td>\n",
       "      <td>2.0</td>\n",
       "      <td>2.0</td>\n",
       "      <td>2.0</td>\n",
       "      <td>2.0</td>\n",
       "      <td>2.0</td>\n",
       "    </tr>\n",
       "  </tbody>\n",
       "</table>\n",
       "<p>5 rows × 150 columns</p>\n",
       "</div>"
      ],
      "text/plain": [
       "    Q1   Q2   Q3   Q4   Q5    Q6      Q7  QN8  QN9  QN10  ...  BMIPCT  \\\n",
       "0  5.0  2.0  3.0  2.0    E  1.90  108.86  2.0  2.0   2.0  ...   97.44   \n",
       "1  7.0  2.0  3.0  1.0  NaN  1.60   58.97  2.0  2.0   2.0  ...   60.88   \n",
       "2  5.0  1.0  3.0  1.0    A  1.65   64.41  2.0  2.0   2.0  ...   78.50   \n",
       "3  6.0  1.0  3.0  1.0  NaN  1.60   64.86  2.0  2.0   2.0  ...   84.61   \n",
       "4  7.0  2.0  3.0  2.0    E  1.75   65.77  2.0  2.0   2.0  ...   40.08   \n",
       "\n",
       "   RACEETH  Q6ORIG  Q7ORIG  QNDAYEVP  QNFREVP  QNDAYSKL  QNFRSKL  QNDAYCGR  \\\n",
       "0      5.0     603     240       2.0      2.0       2.0      2.0       2.0   \n",
       "1      6.0     503     130       2.0      2.0       2.0      2.0       2.0   \n",
       "2      7.0     505     142       2.0      2.0       2.0      2.0       2.0   \n",
       "3      6.0     503     143       2.0      2.0       2.0      2.0       2.0   \n",
       "4      5.0     509     145       2.0      2.0       2.0      2.0       2.0   \n",
       "\n",
       "   QNFRCGR  \n",
       "0      2.0  \n",
       "1      2.0  \n",
       "2      2.0  \n",
       "3      2.0  \n",
       "4      2.0  \n",
       "\n",
       "[5 rows x 150 columns]"
      ]
     },
     "execution_count": 187,
     "metadata": {},
     "output_type": "execute_result"
    }
   ],
   "source": [
    "weighted.head()"
   ]
  },
  {
   "cell_type": "code",
   "execution_count": 188,
   "metadata": {},
   "outputs": [
    {
     "data": {
      "text/plain": [
       "Index(['site', 'raceeth', 'q6orig', 'q7orig', 'record', 'orig_rec', 'q1', 'q2',\n",
       "       'q3', 'q4',\n",
       "       ...\n",
       "       'q94', 'q95', 'q96', 'q97', 'q98', 'q99', 'BMIPCT', 'weight', 'stratum',\n",
       "       'psu'],\n",
       "      dtype='object', length=109)"
      ]
     },
     "execution_count": 188,
     "metadata": {},
     "output_type": "execute_result"
    }
   ],
   "source": [
    "cdc_data.columns\n"
   ]
  },
  {
   "cell_type": "code",
   "execution_count": 189,
   "metadata": {
    "scrolled": true
   },
   "outputs": [
    {
     "data": {
      "text/plain": [
       "1.0    13903\n",
       "5.0      272\n",
       "2.0      170\n",
       "3.0      119\n",
       "4.0       43\n",
       "Name: q13, dtype: int64"
      ]
     },
     "execution_count": 189,
     "metadata": {},
     "output_type": "execute_result"
    }
   ],
   "source": [
    "cdc_data['q13'].astype('object')\n",
    "cdc_data['q13'].value_counts()"
   ]
  },
  {
   "cell_type": "code",
   "execution_count": 190,
   "metadata": {
    "scrolled": true
   },
   "outputs": [
    {
     "data": {
      "text/plain": [
       "1.0    13467\n",
       "5.0      289\n",
       "2.0      196\n",
       "3.0      174\n",
       "4.0       69\n",
       "Name: q14, dtype: int64"
      ]
     },
     "execution_count": 190,
     "metadata": {},
     "output_type": "execute_result"
    }
   ],
   "source": [
    "cdc_data['q14'].astype('object')\n",
    "cdc_data['q14'].value_counts()"
   ]
  },
  {
   "cell_type": "code",
   "execution_count": 191,
   "metadata": {
    "scrolled": true
   },
   "outputs": [
    {
     "data": {
      "text/plain": [
       "1.0    7526\n",
       "2.0    7112\n",
       "Name: q2, dtype: int64"
      ]
     },
     "execution_count": 191,
     "metadata": {},
     "output_type": "execute_result"
    }
   ],
   "source": [
    "cdc_data['q2'].value_counts()"
   ]
  },
  {
   "cell_type": "code",
   "execution_count": 192,
   "metadata": {
    "scrolled": false
   },
   "outputs": [
    {
     "data": {
      "text/plain": [
       "5.0    6261\n",
       "3.0    2796\n",
       "7.0    2104\n",
       "6.0    1543\n",
       "8.0     823\n",
       "2.0     648\n",
       "1.0     137\n",
       "4.0     116\n",
       "Name: raceeth, dtype: int64"
      ]
     },
     "execution_count": 192,
     "metadata": {},
     "output_type": "execute_result"
    }
   ],
   "source": [
    "cdc_data['raceeth'].value_counts()"
   ]
  },
  {
   "cell_type": "code",
   "execution_count": 193,
   "metadata": {},
   "outputs": [
    {
     "data": {
      "text/plain": [
       "1.0    3921\n",
       "2.0    3715\n",
       "3.0    3602\n",
       "4.0    3383\n",
       "5.0      30\n",
       "Name: q3, dtype: int64"
      ]
     },
     "execution_count": 193,
     "metadata": {},
     "output_type": "execute_result"
    }
   ],
   "source": [
    "cdc_data['q3'].value_counts()"
   ]
  },
  {
   "cell_type": "code",
   "execution_count": 194,
   "metadata": {},
   "outputs": [
    {
     "data": {
      "text/plain": [
       "5.0    3688\n",
       "6.0    3611\n",
       "4.0    3586\n",
       "3.0    1922\n",
       "7.0    1796\n",
       "1.0      59\n",
       "2.0      22\n",
       "Name: q1, dtype: int64"
      ]
     },
     "execution_count": 194,
     "metadata": {},
     "output_type": "execute_result"
    }
   ],
   "source": [
    "cdc_data['q1'].value_counts()"
   ]
  },
  {
   "cell_type": "code",
   "execution_count": 195,
   "metadata": {
    "scrolled": true
   },
   "outputs": [
    {
     "data": {
      "text/plain": [
       "2.0    11982\n",
       "1.0     2571\n",
       "Name: q26, dtype: int64"
      ]
     },
     "execution_count": 195,
     "metadata": {},
     "output_type": "execute_result"
    }
   ],
   "source": [
    "cdc_data['q26'].value_counts()"
   ]
  },
  {
   "cell_type": "markdown",
   "metadata": {},
   "source": [
    "### Sexual Identity"
   ]
  },
  {
   "cell_type": "code",
   "execution_count": 406,
   "metadata": {
    "scrolled": true
   },
   "outputs": [
    {
     "data": {
      "text/plain": [
       "1.0    12012\n",
       "3.0     1137\n",
       "4.0      602\n",
       "2.0      357\n",
       "Name: q67, dtype: int64"
      ]
     },
     "execution_count": 406,
     "metadata": {},
     "output_type": "execute_result"
    }
   ],
   "source": [
    "cdc_data['q67'].value_counts()"
   ]
  },
  {
   "cell_type": "code",
   "execution_count": 4,
   "metadata": {},
   "outputs": [
    {
     "data": {
      "text/plain": [
       "Heterosexual      12012\n",
       "Bisexual           1137\n",
       "Unsure              602\n",
       "Gay or Lesbian      357\n",
       "Name: sex_id, dtype: int64"
      ]
     },
     "execution_count": 4,
     "metadata": {},
     "output_type": "execute_result"
    }
   ],
   "source": [
    "cdc_data['q67'] = cdc_data['q67'].apply(lambda x: \"Heterosexual\" if x == 1.0 else x)\n",
    "cdc_data['q67'] = cdc_data['q67'].apply(lambda x: \"Gay or Lesbian\" if x == 2.0 else x)\n",
    "cdc_data['q67'] = cdc_data['q67'].apply(lambda x: \"Bisexual\" if x == 3.0 else x)                                              \n",
    "cdc_data['q67'] = cdc_data['q67'].apply(lambda x: \"Unsure\" if x == 4.0 else x) \n",
    "\n",
    "cdc_data['sex_id'] = cdc_data['q67']\n",
    "cdc_data['sex_id'].value_counts()\n"
   ]
  },
  {
   "cell_type": "markdown",
   "metadata": {},
   "source": [
    "### NW Suicide attempts last 12 mo to names"
   ]
  },
  {
   "cell_type": "code",
   "execution_count": 5,
   "metadata": {},
   "outputs": [
    {
     "data": {
      "text/plain": [
       "No     12194\n",
       "Yes     2571\n",
       "Name: suicide_consider, dtype: int64"
      ]
     },
     "execution_count": 5,
     "metadata": {},
     "output_type": "execute_result"
    }
   ],
   "source": [
    "cdc_data['suicide_consider'] = cdc_data['q26'].apply(lambda x: \"Yes\" if x == 1.0 else \"No\")\n",
    "\n",
    "#cdc_data['suicide_consider'] = cdc_data['q26']\n",
    "cdc_data['suicide_consider'].value_counts()"
   ]
  },
  {
   "cell_type": "markdown",
   "metadata": {},
   "source": [
    "### Age to names"
   ]
  },
  {
   "cell_type": "code",
   "execution_count": 6,
   "metadata": {},
   "outputs": [
    {
     "data": {
      "text/plain": [
       "16 years old     3688\n",
       "17 years old     3611\n",
       "15 years old     3586\n",
       "14 years old     1922\n",
       "18 or older      1796\n",
       "12 or younger      59\n",
       "13 years old       22\n",
       "Name: age, dtype: int64"
      ]
     },
     "execution_count": 6,
     "metadata": {},
     "output_type": "execute_result"
    }
   ],
   "source": [
    "cdc_data['q1'] = cdc_data['q1'].apply(lambda x: \"12 or younger\" if x == 1.0 else x)\n",
    "cdc_data['q1'] = cdc_data['q1'].apply(lambda x: \"13 years old\" if x == 2.0 else x)\n",
    "cdc_data['q1'] = cdc_data['q1'].apply(lambda x: \"14 years old\" if x == 3.0 else x)                                              \n",
    "cdc_data['q1'] = cdc_data['q1'].apply(lambda x: \"15 years old\" if x == 4.0 else x)  \n",
    "cdc_data['q1'] = cdc_data['q1'].apply(lambda x: \"16 years old\" if x == 5.0 else x)\n",
    "cdc_data['q1'] = cdc_data['q1'].apply(lambda x: \"17 years old\" if x == 6.0 else x)  \n",
    "cdc_data['q1'] = cdc_data['q1'].apply(lambda x: \"18 or older\" if x == 7.0 else x)\n",
    "\n",
    "cdc_data['age'] = cdc_data['q1']\n",
    "cdc_data['age'].value_counts()"
   ]
  },
  {
   "cell_type": "markdown",
   "metadata": {},
   "source": [
    "### Grade values to names"
   ]
  },
  {
   "cell_type": "code",
   "execution_count": 7,
   "metadata": {},
   "outputs": [
    {
     "data": {
      "text/plain": [
       "9th grade            3921\n",
       "10th grade           3715\n",
       "11th grade           3602\n",
       "12th grade           3383\n",
       "Ungraded or other      30\n",
       "Name: grade, dtype: int64"
      ]
     },
     "execution_count": 7,
     "metadata": {},
     "output_type": "execute_result"
    }
   ],
   "source": [
    "cdc_data['q3'] = cdc_data['q3'].apply(lambda x: \"9th grade\" if x == 1.0 else x)\n",
    "cdc_data['q3'] = cdc_data['q3'].apply(lambda x: \"10th grade\" if x == 2.0 else x)\n",
    "cdc_data['q3'] = cdc_data['q3'].apply(lambda x: \"11th grade\" if x == 3.0 else x)                                              \n",
    "cdc_data['q3'] = cdc_data['q3'].apply(lambda x: \"12th grade\" if x == 4.0 else x)  \n",
    "cdc_data['q3'] = cdc_data['q3'].apply(lambda x: \"Ungraded or other\" if x == 5.0 else x)\n",
    "\n",
    "cdc_data['grade'] = cdc_data['q3'].astype('object')\n",
    "cdc_data['grade'].value_counts()\n"
   ]
  },
  {
   "cell_type": "markdown",
   "metadata": {},
   "source": [
    "### Sex to M/F"
   ]
  },
  {
   "cell_type": "code",
   "execution_count": 8,
   "metadata": {
    "scrolled": true
   },
   "outputs": [
    {
     "data": {
      "text/plain": [
       "M    7653\n",
       "F    7112\n",
       "Name: Sex, dtype: int64"
      ]
     },
     "execution_count": 8,
     "metadata": {},
     "output_type": "execute_result"
    }
   ],
   "source": [
    "cdc_data['Sex'] = cdc_data['q2'].apply(lambda x: \"F\" if x == 2.0 else \"M\")\n",
    "cdc_data['Sex'].value_counts()"
   ]
  },
  {
   "cell_type": "markdown",
   "metadata": {},
   "source": [
    "### Race/Eth to Names"
   ]
  },
  {
   "cell_type": "code",
   "execution_count": 9,
   "metadata": {},
   "outputs": [
    {
     "data": {
      "text/plain": [
       "White                                 6261\n",
       "African American                      2796\n",
       "Multiple Hispanic/Latino              2104\n",
       "Hispanic/Latino                       1543\n",
       "Multiple non-Hispanic/Latino           823\n",
       "Asian                                  648\n",
       "American Indian/Alaska Native          137\n",
       "Native Hawaiian/Other Pacific Isld     116\n",
       "Name: raceeth, dtype: int64"
      ]
     },
     "execution_count": 9,
     "metadata": {},
     "output_type": "execute_result"
    }
   ],
   "source": [
    "cdc_data['raceeth'] = cdc_data['raceeth'].apply(lambda x: \"American Indian/Alaska Native\" if x == 1.0 else x)\n",
    "cdc_data['raceeth'] = cdc_data['raceeth'].apply(lambda x: \"Asian\" if x == 2.0 else x)\n",
    "cdc_data['raceeth'] = cdc_data['raceeth'].apply(lambda x: \"African American\" if x == 3.0 else x)\n",
    "cdc_data['raceeth'] = cdc_data['raceeth'].apply(lambda x: \"Native Hawaiian/Other Pacific Isld\" if x == 4.0 else x)                                              \n",
    "cdc_data['raceeth'] = cdc_data['raceeth'].apply(lambda x: \"White\" if x == 5.0 else x)                                             \n",
    "cdc_data['raceeth'] = cdc_data['raceeth'].apply(lambda x: \"Hispanic/Latino\" if x == 6.0 else x)\n",
    "cdc_data['raceeth'] = cdc_data['raceeth'].apply(lambda x: \"Multiple Hispanic/Latino\" if x == 7.0 else x)\n",
    "cdc_data['raceeth'] = cdc_data['raceeth'].apply(lambda x: \"Multiple non-Hispanic/Latino\" if x == 8.0 else x)\n",
    "\n",
    "cdc_data['raceeth'].value_counts()\n"
   ]
  },
  {
   "cell_type": "markdown",
   "metadata": {},
   "source": [
    "### Weight"
   ]
  },
  {
   "cell_type": "code",
   "execution_count": 10,
   "metadata": {},
   "outputs": [
    {
     "data": {
      "text/plain": [
       "count    13146.000000\n",
       "mean        67.687421\n",
       "std         17.456387\n",
       "min         24.950000\n",
       "25%         55.340000\n",
       "50%         63.500000\n",
       "75%         75.300000\n",
       "max        180.990000\n",
       "Name: wght, dtype: float64"
      ]
     },
     "execution_count": 10,
     "metadata": {},
     "output_type": "execute_result"
    }
   ],
   "source": [
    "cdc_data['q7'].describe()\n",
    "\n",
    "cdc_data['wght'] = cdc_data['q7']\n",
    "cdc_data['wght'].describe()"
   ]
  },
  {
   "cell_type": "code",
   "execution_count": 11,
   "metadata": {},
   "outputs": [],
   "source": [
    "cdc_data.drop(['q26', 'q1', 'q3', 'q2', 'q7', 'q67'], axis=1, inplace=True)\n"
   ]
  },
  {
   "cell_type": "code",
   "execution_count": 429,
   "metadata": {
    "scrolled": false
   },
   "outputs": [
    {
     "data": {
      "text/html": [
       "<div>\n",
       "<style scoped>\n",
       "    .dataframe tbody tr th:only-of-type {\n",
       "        vertical-align: middle;\n",
       "    }\n",
       "\n",
       "    .dataframe tbody tr th {\n",
       "        vertical-align: top;\n",
       "    }\n",
       "\n",
       "    .dataframe thead th {\n",
       "        text-align: right;\n",
       "    }\n",
       "</style>\n",
       "<table border=\"1\" class=\"dataframe\">\n",
       "  <thead>\n",
       "    <tr style=\"text-align: right;\">\n",
       "      <th></th>\n",
       "      <th>site</th>\n",
       "      <th>raceeth</th>\n",
       "      <th>q6orig</th>\n",
       "      <th>q7orig</th>\n",
       "      <th>record</th>\n",
       "      <th>orig_rec</th>\n",
       "      <th>q1</th>\n",
       "      <th>q2</th>\n",
       "      <th>q3</th>\n",
       "      <th>q4</th>\n",
       "      <th>...</th>\n",
       "      <th>BMIPCT</th>\n",
       "      <th>weight</th>\n",
       "      <th>stratum</th>\n",
       "      <th>psu</th>\n",
       "      <th>sex_id</th>\n",
       "      <th>suicide_consider</th>\n",
       "      <th>age</th>\n",
       "      <th>grade</th>\n",
       "      <th>Sex</th>\n",
       "      <th>wght</th>\n",
       "    </tr>\n",
       "  </thead>\n",
       "  <tbody>\n",
       "    <tr>\n",
       "      <th>0</th>\n",
       "      <td>XX</td>\n",
       "      <td>White</td>\n",
       "      <td>603</td>\n",
       "      <td>240</td>\n",
       "      <td>1</td>\n",
       "      <td>NaN</td>\n",
       "      <td>16 years old</td>\n",
       "      <td>2.0</td>\n",
       "      <td>11th grade</td>\n",
       "      <td>2.0</td>\n",
       "      <td>...</td>\n",
       "      <td>97.435947</td>\n",
       "      <td>0.5497</td>\n",
       "      <td>101</td>\n",
       "      <td>11170</td>\n",
       "      <td>Heterosexual</td>\n",
       "      <td>No</td>\n",
       "      <td>16 years old</td>\n",
       "      <td>11th grade</td>\n",
       "      <td>F</td>\n",
       "      <td>108.86</td>\n",
       "    </tr>\n",
       "    <tr>\n",
       "      <th>1</th>\n",
       "      <td>XX</td>\n",
       "      <td>Hispanic/Latino</td>\n",
       "      <td>503</td>\n",
       "      <td>130</td>\n",
       "      <td>2</td>\n",
       "      <td>NaN</td>\n",
       "      <td>18 or older</td>\n",
       "      <td>2.0</td>\n",
       "      <td>11th grade</td>\n",
       "      <td>1.0</td>\n",
       "      <td>...</td>\n",
       "      <td>60.882561</td>\n",
       "      <td>0.3811</td>\n",
       "      <td>101</td>\n",
       "      <td>11170</td>\n",
       "      <td>Heterosexual</td>\n",
       "      <td>No</td>\n",
       "      <td>18 or older</td>\n",
       "      <td>11th grade</td>\n",
       "      <td>F</td>\n",
       "      <td>58.97</td>\n",
       "    </tr>\n",
       "    <tr>\n",
       "      <th>2</th>\n",
       "      <td>XX</td>\n",
       "      <td>Multiple Hispanic/Latino</td>\n",
       "      <td>505</td>\n",
       "      <td>142</td>\n",
       "      <td>3</td>\n",
       "      <td>NaN</td>\n",
       "      <td>16 years old</td>\n",
       "      <td>1.0</td>\n",
       "      <td>11th grade</td>\n",
       "      <td>1.0</td>\n",
       "      <td>...</td>\n",
       "      <td>78.495112</td>\n",
       "      <td>0.4238</td>\n",
       "      <td>101</td>\n",
       "      <td>11170</td>\n",
       "      <td>Heterosexual</td>\n",
       "      <td>No</td>\n",
       "      <td>16 years old</td>\n",
       "      <td>11th grade</td>\n",
       "      <td>M</td>\n",
       "      <td>64.41</td>\n",
       "    </tr>\n",
       "    <tr>\n",
       "      <th>3</th>\n",
       "      <td>XX</td>\n",
       "      <td>Hispanic/Latino</td>\n",
       "      <td>503</td>\n",
       "      <td>143</td>\n",
       "      <td>4</td>\n",
       "      <td>NaN</td>\n",
       "      <td>17 years old</td>\n",
       "      <td>1.0</td>\n",
       "      <td>11th grade</td>\n",
       "      <td>1.0</td>\n",
       "      <td>...</td>\n",
       "      <td>84.614440</td>\n",
       "      <td>0.4238</td>\n",
       "      <td>101</td>\n",
       "      <td>11170</td>\n",
       "      <td>Heterosexual</td>\n",
       "      <td>No</td>\n",
       "      <td>17 years old</td>\n",
       "      <td>11th grade</td>\n",
       "      <td>M</td>\n",
       "      <td>64.86</td>\n",
       "    </tr>\n",
       "    <tr>\n",
       "      <th>4</th>\n",
       "      <td>XX</td>\n",
       "      <td>White</td>\n",
       "      <td>509</td>\n",
       "      <td>145</td>\n",
       "      <td>5</td>\n",
       "      <td>NaN</td>\n",
       "      <td>18 or older</td>\n",
       "      <td>2.0</td>\n",
       "      <td>11th grade</td>\n",
       "      <td>2.0</td>\n",
       "      <td>...</td>\n",
       "      <td>40.075252</td>\n",
       "      <td>0.5497</td>\n",
       "      <td>101</td>\n",
       "      <td>11170</td>\n",
       "      <td>Heterosexual</td>\n",
       "      <td>No</td>\n",
       "      <td>18 or older</td>\n",
       "      <td>11th grade</td>\n",
       "      <td>F</td>\n",
       "      <td>65.77</td>\n",
       "    </tr>\n",
       "  </tbody>\n",
       "</table>\n",
       "<p>5 rows × 115 columns</p>\n",
       "</div>"
      ],
      "text/plain": [
       "  site                   raceeth q6orig q7orig  record  orig_rec  \\\n",
       "0   XX                     White    603    240       1       NaN   \n",
       "1   XX           Hispanic/Latino    503    130       2       NaN   \n",
       "2   XX  Multiple Hispanic/Latino    505    142       3       NaN   \n",
       "3   XX           Hispanic/Latino    503    143       4       NaN   \n",
       "4   XX                     White    509    145       5       NaN   \n",
       "\n",
       "             q1   q2          q3   q4  ...     BMIPCT  weight  stratum    psu  \\\n",
       "0  16 years old  2.0  11th grade  2.0  ...  97.435947  0.5497      101  11170   \n",
       "1   18 or older  2.0  11th grade  1.0  ...  60.882561  0.3811      101  11170   \n",
       "2  16 years old  1.0  11th grade  1.0  ...  78.495112  0.4238      101  11170   \n",
       "3  17 years old  1.0  11th grade  1.0  ...  84.614440  0.4238      101  11170   \n",
       "4   18 or older  2.0  11th grade  2.0  ...  40.075252  0.5497      101  11170   \n",
       "\n",
       "         sex_id  suicide_consider           age       grade  Sex    wght  \n",
       "0  Heterosexual                No  16 years old  11th grade    F  108.86  \n",
       "1  Heterosexual                No   18 or older  11th grade    F   58.97  \n",
       "2  Heterosexual                No  16 years old  11th grade    M   64.41  \n",
       "3  Heterosexual                No  17 years old  11th grade    M   64.86  \n",
       "4  Heterosexual                No   18 or older  11th grade    F   65.77  \n",
       "\n",
       "[5 rows x 115 columns]"
      ]
     },
     "execution_count": 429,
     "metadata": {},
     "output_type": "execute_result"
    }
   ],
   "source": [
    "cdc_data.head()"
   ]
  },
  {
   "cell_type": "markdown",
   "metadata": {},
   "source": [
    "## Making Weighted Values"
   ]
  },
  {
   "cell_type": "markdown",
   "metadata": {},
   "source": [
    "# Q13,Q14: Weapon carry and Demographics\n",
    "\n",
    "Question 13:\n",
    "During the past 30 days, on how many days did you carry a weapon such as a gun, knife, or club on school property? \n",
    "\n",
    "* 1.0 = 0 days \n",
    "* 2.0 = 1 day \n",
    "* 3.0 = 2 or 3 days\n",
    "* 4.0 = 4 or 5 days \n",
    "* 5.0 = 6 or more days\n",
    "\n",
    "\n",
    "\n",
    "Question 14:\n",
    "\"During the past 12 months, on how many days did you carry a gun? (Do not count the days when you carried a gun only for hunting or for a sport, such as target shooting.)\"\n",
    "\n",
    "* 1.0 = 0 days (dropped just for viz purposes)\n",
    "* 2.0 = 1 day \n",
    "* 3.0 = 2 or 3 days\n",
    "* 4.0 = 4 or 5 days \n",
    "* 5.0 = 6 or more days"
   ]
  },
  {
   "cell_type": "code",
   "execution_count": 12,
   "metadata": {},
   "outputs": [],
   "source": [
    "### making new DF for gun carry and demographic variables with weights\n",
    "\n",
    "cdc_data['Gun_carry'] = cdc_data[\"q14\"].astype('object')\n",
    "cdc_data['oth_weapons'] = cdc_data[\"q13\"].astype('object')\n",
    "\n",
    "cdc_data.drop(['q14', 'q13'], axis=1, inplace=True)\n",
    "\n",
    "## DF\n",
    "Demo = pd.DataFrame(cdc_data[['Sex', 'raceeth', 'age', 'grade', 'suicide_consider', 'wght', 'weight', 'sex_id']])\n",
    "weapon_carry = pd.DataFrame(cdc_data[['Gun_carry', 'oth_weapons', 'weight']])"
   ]
  },
  {
   "cell_type": "code",
   "execution_count": 13,
   "metadata": {},
   "outputs": [],
   "source": [
    "weapon_carry = pd.merge(weapon_carry, Demo, how='outer', on='weight')"
   ]
  },
  {
   "cell_type": "code",
   "execution_count": 14,
   "metadata": {},
   "outputs": [
    {
     "data": {
      "text/html": [
       "<div>\n",
       "<style scoped>\n",
       "    .dataframe tbody tr th:only-of-type {\n",
       "        vertical-align: middle;\n",
       "    }\n",
       "\n",
       "    .dataframe tbody tr th {\n",
       "        vertical-align: top;\n",
       "    }\n",
       "\n",
       "    .dataframe thead th {\n",
       "        text-align: right;\n",
       "    }\n",
       "</style>\n",
       "<table border=\"1\" class=\"dataframe\">\n",
       "  <thead>\n",
       "    <tr style=\"text-align: right;\">\n",
       "      <th></th>\n",
       "      <th>Gun_carry</th>\n",
       "      <th>oth_weapons</th>\n",
       "      <th>weight</th>\n",
       "      <th>Sex</th>\n",
       "      <th>raceeth</th>\n",
       "      <th>age</th>\n",
       "      <th>grade</th>\n",
       "      <th>suicide_consider</th>\n",
       "      <th>wght</th>\n",
       "      <th>sex_id</th>\n",
       "    </tr>\n",
       "  </thead>\n",
       "  <tbody>\n",
       "    <tr>\n",
       "      <th>0</th>\n",
       "      <td>1</td>\n",
       "      <td>1</td>\n",
       "      <td>0.5497</td>\n",
       "      <td>F</td>\n",
       "      <td>White</td>\n",
       "      <td>16 years old</td>\n",
       "      <td>11th grade</td>\n",
       "      <td>No</td>\n",
       "      <td>108.86</td>\n",
       "      <td>Heterosexual</td>\n",
       "    </tr>\n",
       "    <tr>\n",
       "      <th>1</th>\n",
       "      <td>1</td>\n",
       "      <td>1</td>\n",
       "      <td>0.5497</td>\n",
       "      <td>F</td>\n",
       "      <td>White</td>\n",
       "      <td>18 or older</td>\n",
       "      <td>11th grade</td>\n",
       "      <td>No</td>\n",
       "      <td>65.77</td>\n",
       "      <td>Heterosexual</td>\n",
       "    </tr>\n",
       "    <tr>\n",
       "      <th>2</th>\n",
       "      <td>1</td>\n",
       "      <td>1</td>\n",
       "      <td>0.5497</td>\n",
       "      <td>F</td>\n",
       "      <td>White</td>\n",
       "      <td>16 years old</td>\n",
       "      <td>11th grade</td>\n",
       "      <td>Yes</td>\n",
       "      <td>68.04</td>\n",
       "      <td>Heterosexual</td>\n",
       "    </tr>\n",
       "    <tr>\n",
       "      <th>3</th>\n",
       "      <td>1</td>\n",
       "      <td>1</td>\n",
       "      <td>0.5497</td>\n",
       "      <td>F</td>\n",
       "      <td>White</td>\n",
       "      <td>16 years old</td>\n",
       "      <td>11th grade</td>\n",
       "      <td>No</td>\n",
       "      <td>NaN</td>\n",
       "      <td>Heterosexual</td>\n",
       "    </tr>\n",
       "    <tr>\n",
       "      <th>4</th>\n",
       "      <td>1</td>\n",
       "      <td>1</td>\n",
       "      <td>0.5497</td>\n",
       "      <td>F</td>\n",
       "      <td>White</td>\n",
       "      <td>16 years old</td>\n",
       "      <td>11th grade</td>\n",
       "      <td>No</td>\n",
       "      <td>117.94</td>\n",
       "      <td>Heterosexual</td>\n",
       "    </tr>\n",
       "  </tbody>\n",
       "</table>\n",
       "</div>"
      ],
      "text/plain": [
       "  Gun_carry oth_weapons  weight Sex raceeth           age       grade  \\\n",
       "0         1           1  0.5497   F   White  16 years old  11th grade   \n",
       "1         1           1  0.5497   F   White   18 or older  11th grade   \n",
       "2         1           1  0.5497   F   White  16 years old  11th grade   \n",
       "3         1           1  0.5497   F   White  16 years old  11th grade   \n",
       "4         1           1  0.5497   F   White  16 years old  11th grade   \n",
       "\n",
       "  suicide_consider    wght        sex_id  \n",
       "0               No  108.86  Heterosexual  \n",
       "1               No   65.77  Heterosexual  \n",
       "2              Yes   68.04  Heterosexual  \n",
       "3               No     NaN  Heterosexual  \n",
       "4               No  117.94  Heterosexual  "
      ]
     },
     "execution_count": 14,
     "metadata": {},
     "output_type": "execute_result"
    }
   ],
   "source": [
    "weapon_carry.head()"
   ]
  },
  {
   "cell_type": "markdown",
   "metadata": {},
   "source": [
    "## Missing Gun Carry"
   ]
  },
  {
   "cell_type": "code",
   "execution_count": 15,
   "metadata": {},
   "outputs": [
    {
     "data": {
      "text/html": [
       "<div>\n",
       "<style scoped>\n",
       "    .dataframe tbody tr th:only-of-type {\n",
       "        vertical-align: middle;\n",
       "    }\n",
       "\n",
       "    .dataframe tbody tr th {\n",
       "        vertical-align: top;\n",
       "    }\n",
       "\n",
       "    .dataframe thead th {\n",
       "        text-align: right;\n",
       "    }\n",
       "</style>\n",
       "<table border=\"1\" class=\"dataframe\">\n",
       "  <thead>\n",
       "    <tr style=\"text-align: right;\">\n",
       "      <th></th>\n",
       "      <th>Perc</th>\n",
       "      <th>Sum</th>\n",
       "    </tr>\n",
       "  </thead>\n",
       "  <tbody>\n",
       "    <tr>\n",
       "      <th>wght</th>\n",
       "      <td>0.093809</td>\n",
       "      <td>21472</td>\n",
       "    </tr>\n",
       "    <tr>\n",
       "      <th>sex_id</th>\n",
       "      <td>0.047110</td>\n",
       "      <td>10783</td>\n",
       "    </tr>\n",
       "    <tr>\n",
       "      <th>Gun_carry</th>\n",
       "      <td>0.026436</td>\n",
       "      <td>6051</td>\n",
       "    </tr>\n",
       "    <tr>\n",
       "      <th>raceeth</th>\n",
       "      <td>0.025977</td>\n",
       "      <td>5946</td>\n",
       "    </tr>\n",
       "    <tr>\n",
       "      <th>oth_weapons</th>\n",
       "      <td>0.015483</td>\n",
       "      <td>3544</td>\n",
       "    </tr>\n",
       "    <tr>\n",
       "      <th>grade</th>\n",
       "      <td>0.007257</td>\n",
       "      <td>1661</td>\n",
       "    </tr>\n",
       "    <tr>\n",
       "      <th>age</th>\n",
       "      <td>0.004854</td>\n",
       "      <td>1111</td>\n",
       "    </tr>\n",
       "  </tbody>\n",
       "</table>\n",
       "</div>"
      ],
      "text/plain": [
       "                 Perc    Sum\n",
       "wght         0.093809  21472\n",
       "sex_id       0.047110  10783\n",
       "Gun_carry    0.026436   6051\n",
       "raceeth      0.025977   5946\n",
       "oth_weapons  0.015483   3544\n",
       "grade        0.007257   1661\n",
       "age          0.004854   1111"
      ]
     },
     "execution_count": 15,
     "metadata": {},
     "output_type": "execute_result"
    }
   ],
   "source": [
    "################################################################################\n",
    "\n",
    "\n",
    "total = weapon_carry.isna().sum()/weapon_carry.isna().count()\n",
    "sum=weapon_carry.isna().sum()\n",
    "\n",
    "missing=pd.concat([total,sum],axis=1,keys=['Perc','Sum']).sort_values(by='Perc',ascending=False)\n",
    "\n",
    "colstodrop = missing[missing['Sum']>0].index\n",
    "\n",
    "missing[missing['Sum']>0]"
   ]
  },
  {
   "cell_type": "markdown",
   "metadata": {},
   "source": [
    "## Impute"
   ]
  },
  {
   "cell_type": "markdown",
   "metadata": {},
   "source": [
    "#### Demographics"
   ]
  },
  {
   "cell_type": "code",
   "execution_count": 43,
   "metadata": {
    "scrolled": true
   },
   "outputs": [
    {
     "data": {
      "text/plain": [
       "Sex                    0\n",
       "raceeth              337\n",
       "age                   81\n",
       "grade                114\n",
       "suicide_consider       0\n",
       "wght                1619\n",
       "weight                 0\n",
       "sex_id               657\n",
       "dtype: int64"
      ]
     },
     "execution_count": 43,
     "metadata": {},
     "output_type": "execute_result"
    }
   ],
   "source": [
    "##### DEMOGraphic SET\n",
    "\n",
    "Demo.isna().sum()"
   ]
  },
  {
   "cell_type": "code",
   "execution_count": 48,
   "metadata": {},
   "outputs": [
    {
     "name": "stdout",
     "output_type": "stream",
     "text": [
      "Raceeth unique Values:  ['White' 'Hispanic/Latino' 'Multiple Hispanic/Latino' 'African American'\n",
      " 'Asian' 'American Indian/Alaska Native' 'Multiple non-Hispanic/Latino'\n",
      " 'Native Hawaiian/Other Pacific Isld']\n",
      "Age unique Values:  ['16 years old' '18 or older' '17 years old' '14 years old' '15 years old'\n",
      " '12 or younger' '13 years old']\n",
      "Grade unique Values:  ['11th grade' '12th grade' '9th grade' '10th grade' 'Ungraded or other']\n",
      "Wght missing: 0\n",
      "Sex id unique Values:  ['Heterosexual' 'Unsure' 'Bisexual' 'Gay or Lesbian']\n"
     ]
    }
   ],
   "source": [
    "Demo['raceeth']=Demo['raceeth'].fillna('White')\n",
    "print('Raceeth unique Values: ', Demo['raceeth'].unique())\n",
    "\n",
    "Demo['age']=Demo['age'].fillna('16 years old')\n",
    "print('Age unique Values: ', Demo['age'].unique())\n",
    "\n",
    "Demo['grade']=Demo['grade'].fillna('9th grade')\n",
    "print('Grade unique Values: ', Demo['grade'].unique())\n",
    "\n",
    "Demo['wght'] = Demo['wght'].apply(lambda x: np.random.choice(Demo['wght'].dropna().values) if np.isnan(x) else x)\n",
    "print('Wght missing:', Demo['wght'].isna().sum())\n",
    "\n",
    "Demo['sex_id']=Demo['sex_id'].fillna('Heterosexual')\n",
    "print('Sex id unique Values: ', Demo['sex_id'].unique())"
   ]
  },
  {
   "cell_type": "markdown",
   "metadata": {},
   "source": [
    "#### Weapon Carry"
   ]
  },
  {
   "cell_type": "code",
   "execution_count": 21,
   "metadata": {},
   "outputs": [
    {
     "name": "stdout",
     "output_type": "stream",
     "text": [
      "Wght missing: 0\n"
     ]
    },
    {
     "data": {
      "text/plain": [
       "1.0    215018\n",
       "5.0      4087\n",
       "2.0      3544\n",
       "3.0      1910\n",
       "4.0       788\n",
       "Name: oth_weapons, dtype: int64"
      ]
     },
     "execution_count": 21,
     "metadata": {},
     "output_type": "execute_result"
    }
   ],
   "source": [
    "#### wght with random \n",
    "\n",
    "weapon_carry['wght'] = weapon_carry['wght'].apply(lambda x: np.random.choice(weapon_carry['wght'].dropna().values) if np.isnan(x) else x)\n",
    "#.fillna(housing_merge['LotFrontage'].mean(), inplace=True)\n",
    "print('Wght missing:', weapon_carry['wght'].isna().sum())\n",
    "\n",
    "weapon_carry.oth_weapons.value_counts()\n"
   ]
  },
  {
   "cell_type": "code",
   "execution_count": 23,
   "metadata": {
    "scrolled": true
   },
   "outputs": [
    {
     "name": "stdout",
     "output_type": "stream",
     "text": [
      "Oth_weapons unique Values:  [1. 5. 3. 4. 2.]\n",
      "Gun_carry unique Values:  [1. 3. 5. 4. 2.]\n",
      "Raceeth unique Values:  ['White' 'Hispanic/Latino' 'Multiple Hispanic/Latino' 'African American'\n",
      " 'Asian' 'Multiple non-Hispanic/Latino' 'American Indian/Alaska Native'\n",
      " 'Native Hawaiian/Other Pacific Isld']\n",
      "Age unique Values:  ['16 years old' '18 or older' '17 years old' '14 years old' '15 years old'\n",
      " '12 or younger' '13 years old']\n",
      "Grade unique Values:  ['11th grade' '12th grade' '9th grade' '10th grade' 'Ungraded or other']\n",
      "Sex id unique Values:  ['Heterosexual' 'Unsure' 'Bisexual' 'Gay or Lesbian']\n"
     ]
    }
   ],
   "source": [
    "#### oth_weapon, Gun_carry, raceeth, grade, age with mode\n",
    "weapon_carry['oth_weapons']=weapon_carry['oth_weapons'].fillna(1.0)\n",
    "print('Oth_weapons unique Values: ', weapon_carry['oth_weapons'].unique())\n",
    "\n",
    "weapon_carry['Gun_carry']=weapon_carry['Gun_carry'].fillna(1.0)\n",
    "print('Gun_carry unique Values: ', weapon_carry['Gun_carry'].unique())\n",
    "\n",
    "weapon_carry['raceeth']=weapon_carry['raceeth'].fillna('White')\n",
    "print('Raceeth unique Values: ', weapon_carry['raceeth'].unique())\n",
    "\n",
    "weapon_carry['age']=weapon_carry['age'].fillna('16 years old')\n",
    "print('Age unique Values: ', weapon_carry['age'].unique())\n",
    "\n",
    "weapon_carry['grade']=weapon_carry['grade'].fillna('9th grade')\n",
    "print('Grade unique Values: ', weapon_carry['grade'].unique())\n",
    "\n",
    "weapon_carry['sex_id']=weapon_carry['sex_id'].fillna('Heterosexual')\n",
    "print('Sex id unique Values: ', weapon_carry['sex_id'].unique())"
   ]
  },
  {
   "cell_type": "code",
   "execution_count": 24,
   "metadata": {},
   "outputs": [
    {
     "data": {
      "text/plain": [
       "Gun_carry           0\n",
       "oth_weapons         0\n",
       "weight              0\n",
       "Sex                 0\n",
       "raceeth             0\n",
       "age                 0\n",
       "grade               0\n",
       "suicide_consider    0\n",
       "wght                0\n",
       "sex_id              0\n",
       "dtype: int64"
      ]
     },
     "execution_count": 24,
     "metadata": {},
     "output_type": "execute_result"
    }
   ],
   "source": [
    "weapon_carry.isnull().sum()"
   ]
  },
  {
   "cell_type": "code",
   "execution_count": 27,
   "metadata": {},
   "outputs": [],
   "source": [
    "weapon_carry[['Gun_carry', 'oth_weapons']] = weapon_carry[['Gun_carry', 'oth_weapons']].astype('object')"
   ]
  },
  {
   "cell_type": "markdown",
   "metadata": {},
   "source": [
    "## Normality"
   ]
  },
  {
   "cell_type": "code",
   "execution_count": 29,
   "metadata": {
    "scrolled": true
   },
   "outputs": [
    {
     "data": {
      "text/html": [
       "<div>\n",
       "<style scoped>\n",
       "    .dataframe tbody tr th:only-of-type {\n",
       "        vertical-align: middle;\n",
       "    }\n",
       "\n",
       "    .dataframe tbody tr th {\n",
       "        vertical-align: top;\n",
       "    }\n",
       "\n",
       "    .dataframe thead th {\n",
       "        text-align: right;\n",
       "    }\n",
       "</style>\n",
       "<table border=\"1\" class=\"dataframe\">\n",
       "  <thead>\n",
       "    <tr style=\"text-align: right;\">\n",
       "      <th></th>\n",
       "      <th>Skewness</th>\n",
       "    </tr>\n",
       "  </thead>\n",
       "  <tbody>\n",
       "    <tr>\n",
       "      <th>weight</th>\n",
       "      <td>2.812862</td>\n",
       "    </tr>\n",
       "    <tr>\n",
       "      <th>wght</th>\n",
       "      <td>1.506670</td>\n",
       "    </tr>\n",
       "  </tbody>\n",
       "</table>\n",
       "</div>"
      ],
      "text/plain": [
       "        Skewness\n",
       "weight  2.812862\n",
       "wght    1.506670"
      ]
     },
     "execution_count": 29,
     "metadata": {},
     "output_type": "execute_result"
    }
   ],
   "source": [
    "skew_wep_carry = pd.DataFrame(data = weapon_carry.select_dtypes(include = ['int64', 'float64'\n",
    "]).skew(), columns=['Skewness'])\n",
    "\n",
    "skew_gun_sort = skew_wep_carry.sort_values(ascending = False, by ='Skewness')\n",
    "skew_gun_sort"
   ]
  },
  {
   "cell_type": "code",
   "execution_count": 31,
   "metadata": {},
   "outputs": [
    {
     "data": {
      "text/plain": [
       "<matplotlib.axes._subplots.AxesSubplot at 0x1100ef7b8>"
      ]
     },
     "execution_count": 31,
     "metadata": {},
     "output_type": "execute_result"
    },
    {
     "data": {
      "image/png": "[encoded data removed]",
      "text/plain": [
       "<Figure size 432x288 with 1 Axes>"
      ]
     },
     "metadata": {
      "needs_background": "light"
     },
     "output_type": "display_data"
    }
   ],
   "source": [
    "sns.distplot(weapon_carry['wght'])"
   ]
  },
  {
   "cell_type": "code",
   "execution_count": 32,
   "metadata": {},
   "outputs": [],
   "source": [
    "weapon_carry['wght'] = np.log1p(weapon_carry['wght'])"
   ]
  },
  {
   "cell_type": "code",
   "execution_count": 33,
   "metadata": {},
   "outputs": [
    {
     "data": {
      "text/plain": [
       "<matplotlib.axes._subplots.AxesSubplot at 0x1a25360390>"
      ]
     },
     "execution_count": 33,
     "metadata": {},
     "output_type": "execute_result"
    },
    {
     "data": {
      "image/png": "[encoded data removed]",
      "text/plain": [
       "<Figure size 432x288 with 1 Axes>"
      ]
     },
     "metadata": {
      "needs_background": "light"
     },
     "output_type": "display_data"
    }
   ],
   "source": [
    "sns.distplot(weapon_carry['wght'])"
   ]
  },
  {
   "cell_type": "code",
   "execution_count": 34,
   "metadata": {},
   "outputs": [
    {
     "data": {
      "text/plain": [
       "Gun_carry           0\n",
       "oth_weapons         0\n",
       "weight              0\n",
       "Sex                 0\n",
       "raceeth             0\n",
       "age                 0\n",
       "grade               0\n",
       "suicide_consider    0\n",
       "wght                0\n",
       "sex_id              0\n",
       "dtype: int64"
      ]
     },
     "execution_count": 34,
     "metadata": {},
     "output_type": "execute_result"
    }
   ],
   "source": [
    "weapon_carry.isnull().sum()"
   ]
  },
  {
   "cell_type": "code",
   "execution_count": 35,
   "metadata": {},
   "outputs": [],
   "source": [
    "### to csv\n",
    "weapon_carry.to_csv('weapon_carry.csv', index = False)"
   ]
  },
  {
   "cell_type": "markdown",
   "metadata": {},
   "source": [
    "# Q15:22 Other Violence and Demographics \n",
    "\n",
    "* Q15: During the past 30 days, on how many days did you not go to school because you felt you would be unsafe at school or on your way to or from school?\n",
    "\n",
    "* Q16: During the past 12 months, how many times has someone threatened or injured you with a weapon such as a gun, knife, or club on school property?\n",
    "\n",
    "* Q17: During the past 12 months, how many times were you in a physical fight?\n",
    "\n",
    "* Q18: During the past 12 months, how many times were you in a physical fight on school property?\n",
    "\n",
    "* Q19: Have you ever been physically forced to have sexual intercourse when you did not want to?\n",
    "\n",
    "* Q20: During the past 12 months, how many times did anyone force you to do sexual things that you did not want to do? (Count such things as kissing, touching, or being physically forced to have sexual intercourse.)\n",
    "\n",
    "* Q21: During the past 12 months, how many times did someone you were dating or going out with force you to do sexual things that you did not want to do? (Count such things as kissing, touching, or being physically forced to have sexual intercourse.)\n",
    "\n",
    "* Q22: During the past 12 months, how many times did someone you were dating or going out with physically hurt you on purpose? (Count such things as being hit, slammed into something, or injured with an object"
   ]
  },
  {
   "cell_type": "code",
   "execution_count": 49,
   "metadata": {},
   "outputs": [
    {
     "data": {
      "text/plain": [
       "1.0    11324\n",
       "2.0      461\n",
       "3.0      233\n",
       "5.0      100\n",
       "4.0       53\n",
       "Name: q15, dtype: int64"
      ]
     },
     "execution_count": 49,
     "metadata": {},
     "output_type": "execute_result"
    }
   ],
   "source": [
    "cdc_data['q15'].value_counts()"
   ]
  },
  {
   "cell_type": "code",
   "execution_count": 50,
   "metadata": {
    "scrolled": true
   },
   "outputs": [
    {
     "data": {
      "text/html": [
       "<div>\n",
       "<style scoped>\n",
       "    .dataframe tbody tr th:only-of-type {\n",
       "        vertical-align: middle;\n",
       "    }\n",
       "\n",
       "    .dataframe tbody tr th {\n",
       "        vertical-align: top;\n",
       "    }\n",
       "\n",
       "    .dataframe thead th {\n",
       "        text-align: right;\n",
       "    }\n",
       "</style>\n",
       "<table border=\"1\" class=\"dataframe\">\n",
       "  <thead>\n",
       "    <tr style=\"text-align: right;\">\n",
       "      <th></th>\n",
       "      <th>q15</th>\n",
       "      <th>q16</th>\n",
       "      <th>q17</th>\n",
       "      <th>q18</th>\n",
       "      <th>q19</th>\n",
       "      <th>q20</th>\n",
       "      <th>q21</th>\n",
       "      <th>q22</th>\n",
       "      <th>weight</th>\n",
       "    </tr>\n",
       "  </thead>\n",
       "  <tbody>\n",
       "    <tr>\n",
       "      <th>0</th>\n",
       "      <td>1.0</td>\n",
       "      <td>1.0</td>\n",
       "      <td>1.0</td>\n",
       "      <td>1.0</td>\n",
       "      <td>2.0</td>\n",
       "      <td>1.0</td>\n",
       "      <td>1.0</td>\n",
       "      <td>1.0</td>\n",
       "      <td>0.5497</td>\n",
       "    </tr>\n",
       "    <tr>\n",
       "      <th>1</th>\n",
       "      <td>1.0</td>\n",
       "      <td>1.0</td>\n",
       "      <td>1.0</td>\n",
       "      <td>1.0</td>\n",
       "      <td>2.0</td>\n",
       "      <td>1.0</td>\n",
       "      <td>2.0</td>\n",
       "      <td>2.0</td>\n",
       "      <td>0.3811</td>\n",
       "    </tr>\n",
       "    <tr>\n",
       "      <th>2</th>\n",
       "      <td>1.0</td>\n",
       "      <td>1.0</td>\n",
       "      <td>1.0</td>\n",
       "      <td>1.0</td>\n",
       "      <td>2.0</td>\n",
       "      <td>1.0</td>\n",
       "      <td>1.0</td>\n",
       "      <td>1.0</td>\n",
       "      <td>0.4238</td>\n",
       "    </tr>\n",
       "    <tr>\n",
       "      <th>3</th>\n",
       "      <td>1.0</td>\n",
       "      <td>1.0</td>\n",
       "      <td>3.0</td>\n",
       "      <td>1.0</td>\n",
       "      <td>2.0</td>\n",
       "      <td>1.0</td>\n",
       "      <td>2.0</td>\n",
       "      <td>2.0</td>\n",
       "      <td>0.4238</td>\n",
       "    </tr>\n",
       "    <tr>\n",
       "      <th>4</th>\n",
       "      <td>1.0</td>\n",
       "      <td>1.0</td>\n",
       "      <td>3.0</td>\n",
       "      <td>3.0</td>\n",
       "      <td>2.0</td>\n",
       "      <td>1.0</td>\n",
       "      <td>2.0</td>\n",
       "      <td>2.0</td>\n",
       "      <td>0.5497</td>\n",
       "    </tr>\n",
       "  </tbody>\n",
       "</table>\n",
       "</div>"
      ],
      "text/plain": [
       "   q15  q16  q17  q18  q19  q20  q21  q22  weight\n",
       "0  1.0  1.0  1.0  1.0  2.0  1.0  1.0  1.0  0.5497\n",
       "1  1.0  1.0  1.0  1.0  2.0  1.0  2.0  2.0  0.3811\n",
       "2  1.0  1.0  1.0  1.0  2.0  1.0  1.0  1.0  0.4238\n",
       "3  1.0  1.0  3.0  1.0  2.0  1.0  2.0  2.0  0.4238\n",
       "4  1.0  1.0  3.0  3.0  2.0  1.0  2.0  2.0  0.5497"
      ]
     },
     "execution_count": 50,
     "metadata": {},
     "output_type": "execute_result"
    }
   ],
   "source": [
    "violence = pd.DataFrame(cdc_data[['q15', 'q16', 'q17', 'q18', 'q19', 'q20', 'q21', 'q22', 'weight']])\n",
    "violence.head()"
   ]
  },
  {
   "cell_type": "code",
   "execution_count": 51,
   "metadata": {},
   "outputs": [
    {
     "data": {
      "text/html": [
       "<div>\n",
       "<style scoped>\n",
       "    .dataframe tbody tr th:only-of-type {\n",
       "        vertical-align: middle;\n",
       "    }\n",
       "\n",
       "    .dataframe tbody tr th {\n",
       "        vertical-align: top;\n",
       "    }\n",
       "\n",
       "    .dataframe thead th {\n",
       "        text-align: right;\n",
       "    }\n",
       "</style>\n",
       "<table border=\"1\" class=\"dataframe\">\n",
       "  <thead>\n",
       "    <tr style=\"text-align: right;\">\n",
       "      <th></th>\n",
       "      <th>q15</th>\n",
       "      <th>q16</th>\n",
       "      <th>q17</th>\n",
       "      <th>q18</th>\n",
       "      <th>q19</th>\n",
       "      <th>q20</th>\n",
       "      <th>q21</th>\n",
       "      <th>q22</th>\n",
       "      <th>weight</th>\n",
       "      <th>Sex</th>\n",
       "      <th>raceeth</th>\n",
       "      <th>age</th>\n",
       "      <th>grade</th>\n",
       "      <th>suicide_consider</th>\n",
       "      <th>wght</th>\n",
       "      <th>sex_id</th>\n",
       "    </tr>\n",
       "  </thead>\n",
       "  <tbody>\n",
       "    <tr>\n",
       "      <th>0</th>\n",
       "      <td>1.0</td>\n",
       "      <td>1.0</td>\n",
       "      <td>1.0</td>\n",
       "      <td>1.0</td>\n",
       "      <td>2.0</td>\n",
       "      <td>1.0</td>\n",
       "      <td>1.0</td>\n",
       "      <td>1.0</td>\n",
       "      <td>0.5497</td>\n",
       "      <td>F</td>\n",
       "      <td>White</td>\n",
       "      <td>16 years old</td>\n",
       "      <td>11th grade</td>\n",
       "      <td>No</td>\n",
       "      <td>108.86</td>\n",
       "      <td>Heterosexual</td>\n",
       "    </tr>\n",
       "    <tr>\n",
       "      <th>1</th>\n",
       "      <td>1.0</td>\n",
       "      <td>1.0</td>\n",
       "      <td>1.0</td>\n",
       "      <td>1.0</td>\n",
       "      <td>2.0</td>\n",
       "      <td>1.0</td>\n",
       "      <td>1.0</td>\n",
       "      <td>1.0</td>\n",
       "      <td>0.5497</td>\n",
       "      <td>F</td>\n",
       "      <td>White</td>\n",
       "      <td>18 or older</td>\n",
       "      <td>11th grade</td>\n",
       "      <td>No</td>\n",
       "      <td>65.77</td>\n",
       "      <td>Heterosexual</td>\n",
       "    </tr>\n",
       "    <tr>\n",
       "      <th>2</th>\n",
       "      <td>1.0</td>\n",
       "      <td>1.0</td>\n",
       "      <td>1.0</td>\n",
       "      <td>1.0</td>\n",
       "      <td>2.0</td>\n",
       "      <td>1.0</td>\n",
       "      <td>1.0</td>\n",
       "      <td>1.0</td>\n",
       "      <td>0.5497</td>\n",
       "      <td>F</td>\n",
       "      <td>White</td>\n",
       "      <td>16 years old</td>\n",
       "      <td>11th grade</td>\n",
       "      <td>Yes</td>\n",
       "      <td>68.04</td>\n",
       "      <td>Heterosexual</td>\n",
       "    </tr>\n",
       "    <tr>\n",
       "      <th>3</th>\n",
       "      <td>1.0</td>\n",
       "      <td>1.0</td>\n",
       "      <td>1.0</td>\n",
       "      <td>1.0</td>\n",
       "      <td>2.0</td>\n",
       "      <td>1.0</td>\n",
       "      <td>1.0</td>\n",
       "      <td>1.0</td>\n",
       "      <td>0.5497</td>\n",
       "      <td>F</td>\n",
       "      <td>White</td>\n",
       "      <td>16 years old</td>\n",
       "      <td>11th grade</td>\n",
       "      <td>No</td>\n",
       "      <td>81.65</td>\n",
       "      <td>Heterosexual</td>\n",
       "    </tr>\n",
       "    <tr>\n",
       "      <th>4</th>\n",
       "      <td>1.0</td>\n",
       "      <td>1.0</td>\n",
       "      <td>1.0</td>\n",
       "      <td>1.0</td>\n",
       "      <td>2.0</td>\n",
       "      <td>1.0</td>\n",
       "      <td>1.0</td>\n",
       "      <td>1.0</td>\n",
       "      <td>0.5497</td>\n",
       "      <td>F</td>\n",
       "      <td>White</td>\n",
       "      <td>16 years old</td>\n",
       "      <td>11th grade</td>\n",
       "      <td>No</td>\n",
       "      <td>117.94</td>\n",
       "      <td>Heterosexual</td>\n",
       "    </tr>\n",
       "  </tbody>\n",
       "</table>\n",
       "</div>"
      ],
      "text/plain": [
       "   q15  q16  q17  q18  q19  q20  q21  q22  weight Sex raceeth           age  \\\n",
       "0  1.0  1.0  1.0  1.0  2.0  1.0  1.0  1.0  0.5497   F   White  16 years old   \n",
       "1  1.0  1.0  1.0  1.0  2.0  1.0  1.0  1.0  0.5497   F   White   18 or older   \n",
       "2  1.0  1.0  1.0  1.0  2.0  1.0  1.0  1.0  0.5497   F   White  16 years old   \n",
       "3  1.0  1.0  1.0  1.0  2.0  1.0  1.0  1.0  0.5497   F   White  16 years old   \n",
       "4  1.0  1.0  1.0  1.0  2.0  1.0  1.0  1.0  0.5497   F   White  16 years old   \n",
       "\n",
       "        grade suicide_consider    wght        sex_id  \n",
       "0  11th grade               No  108.86  Heterosexual  \n",
       "1  11th grade               No   65.77  Heterosexual  \n",
       "2  11th grade              Yes   68.04  Heterosexual  \n",
       "3  11th grade               No   81.65  Heterosexual  \n",
       "4  11th grade               No  117.94  Heterosexual  "
      ]
     },
     "execution_count": 51,
     "metadata": {},
     "output_type": "execute_result"
    }
   ],
   "source": [
    "violence = pd.merge(violence, Demo, how='outer', on='weight')\n",
    "violence.head()"
   ]
  },
  {
   "cell_type": "code",
   "execution_count": 52,
   "metadata": {},
   "outputs": [],
   "source": [
    "violence['unsafe'] = violence['q15']\n",
    "violence['inj_weapon_school'] = violence['q16']\n",
    "violence['phys_fight'] = violence['q17']\n",
    "violence['phys_fight_school'] = violence['q18']\n",
    "violence['forced_sex'] = violence['q19']\n",
    "violence['forced_sex_2'] = violence['q20']\n",
    "violence['dating_viol'] = violence['q21']\n",
    "violence['dating_viol_2'] = violence['q22']\n",
    "\n",
    "violence.head()\n",
    "violence.drop(['q15','q16','q17', 'q18', 'q19', 'q20', 'q21', 'q22'], axis = 1, inplace = True)"
   ]
  },
  {
   "cell_type": "code",
   "execution_count": 53,
   "metadata": {},
   "outputs": [
    {
     "data": {
      "text/html": [
       "<div>\n",
       "<style scoped>\n",
       "    .dataframe tbody tr th:only-of-type {\n",
       "        vertical-align: middle;\n",
       "    }\n",
       "\n",
       "    .dataframe tbody tr th {\n",
       "        vertical-align: top;\n",
       "    }\n",
       "\n",
       "    .dataframe thead th {\n",
       "        text-align: right;\n",
       "    }\n",
       "</style>\n",
       "<table border=\"1\" class=\"dataframe\">\n",
       "  <thead>\n",
       "    <tr style=\"text-align: right;\">\n",
       "      <th></th>\n",
       "      <th>weight</th>\n",
       "      <th>Sex</th>\n",
       "      <th>raceeth</th>\n",
       "      <th>age</th>\n",
       "      <th>grade</th>\n",
       "      <th>suicide_consider</th>\n",
       "      <th>wght</th>\n",
       "      <th>sex_id</th>\n",
       "      <th>unsafe</th>\n",
       "      <th>inj_weapon_school</th>\n",
       "      <th>phys_fight</th>\n",
       "      <th>phys_fight_school</th>\n",
       "      <th>forced_sex</th>\n",
       "      <th>forced_sex_2</th>\n",
       "      <th>dating_viol</th>\n",
       "      <th>dating_viol_2</th>\n",
       "    </tr>\n",
       "  </thead>\n",
       "  <tbody>\n",
       "    <tr>\n",
       "      <th>0</th>\n",
       "      <td>0.5497</td>\n",
       "      <td>F</td>\n",
       "      <td>White</td>\n",
       "      <td>16 years old</td>\n",
       "      <td>11th grade</td>\n",
       "      <td>No</td>\n",
       "      <td>108.86</td>\n",
       "      <td>Heterosexual</td>\n",
       "      <td>1.0</td>\n",
       "      <td>1.0</td>\n",
       "      <td>1.0</td>\n",
       "      <td>1.0</td>\n",
       "      <td>2.0</td>\n",
       "      <td>1.0</td>\n",
       "      <td>1.0</td>\n",
       "      <td>1.0</td>\n",
       "    </tr>\n",
       "    <tr>\n",
       "      <th>1</th>\n",
       "      <td>0.5497</td>\n",
       "      <td>F</td>\n",
       "      <td>White</td>\n",
       "      <td>18 or older</td>\n",
       "      <td>11th grade</td>\n",
       "      <td>No</td>\n",
       "      <td>65.77</td>\n",
       "      <td>Heterosexual</td>\n",
       "      <td>1.0</td>\n",
       "      <td>1.0</td>\n",
       "      <td>1.0</td>\n",
       "      <td>1.0</td>\n",
       "      <td>2.0</td>\n",
       "      <td>1.0</td>\n",
       "      <td>1.0</td>\n",
       "      <td>1.0</td>\n",
       "    </tr>\n",
       "    <tr>\n",
       "      <th>2</th>\n",
       "      <td>0.5497</td>\n",
       "      <td>F</td>\n",
       "      <td>White</td>\n",
       "      <td>16 years old</td>\n",
       "      <td>11th grade</td>\n",
       "      <td>Yes</td>\n",
       "      <td>68.04</td>\n",
       "      <td>Heterosexual</td>\n",
       "      <td>1.0</td>\n",
       "      <td>1.0</td>\n",
       "      <td>1.0</td>\n",
       "      <td>1.0</td>\n",
       "      <td>2.0</td>\n",
       "      <td>1.0</td>\n",
       "      <td>1.0</td>\n",
       "      <td>1.0</td>\n",
       "    </tr>\n",
       "    <tr>\n",
       "      <th>3</th>\n",
       "      <td>0.5497</td>\n",
       "      <td>F</td>\n",
       "      <td>White</td>\n",
       "      <td>16 years old</td>\n",
       "      <td>11th grade</td>\n",
       "      <td>No</td>\n",
       "      <td>81.65</td>\n",
       "      <td>Heterosexual</td>\n",
       "      <td>1.0</td>\n",
       "      <td>1.0</td>\n",
       "      <td>1.0</td>\n",
       "      <td>1.0</td>\n",
       "      <td>2.0</td>\n",
       "      <td>1.0</td>\n",
       "      <td>1.0</td>\n",
       "      <td>1.0</td>\n",
       "    </tr>\n",
       "    <tr>\n",
       "      <th>4</th>\n",
       "      <td>0.5497</td>\n",
       "      <td>F</td>\n",
       "      <td>White</td>\n",
       "      <td>16 years old</td>\n",
       "      <td>11th grade</td>\n",
       "      <td>No</td>\n",
       "      <td>117.94</td>\n",
       "      <td>Heterosexual</td>\n",
       "      <td>1.0</td>\n",
       "      <td>1.0</td>\n",
       "      <td>1.0</td>\n",
       "      <td>1.0</td>\n",
       "      <td>2.0</td>\n",
       "      <td>1.0</td>\n",
       "      <td>1.0</td>\n",
       "      <td>1.0</td>\n",
       "    </tr>\n",
       "  </tbody>\n",
       "</table>\n",
       "</div>"
      ],
      "text/plain": [
       "   weight Sex raceeth           age       grade suicide_consider    wght  \\\n",
       "0  0.5497   F   White  16 years old  11th grade               No  108.86   \n",
       "1  0.5497   F   White   18 or older  11th grade               No   65.77   \n",
       "2  0.5497   F   White  16 years old  11th grade              Yes   68.04   \n",
       "3  0.5497   F   White  16 years old  11th grade               No   81.65   \n",
       "4  0.5497   F   White  16 years old  11th grade               No  117.94   \n",
       "\n",
       "         sex_id  unsafe  inj_weapon_school  phys_fight  phys_fight_school  \\\n",
       "0  Heterosexual     1.0                1.0         1.0                1.0   \n",
       "1  Heterosexual     1.0                1.0         1.0                1.0   \n",
       "2  Heterosexual     1.0                1.0         1.0                1.0   \n",
       "3  Heterosexual     1.0                1.0         1.0                1.0   \n",
       "4  Heterosexual     1.0                1.0         1.0                1.0   \n",
       "\n",
       "   forced_sex  forced_sex_2  dating_viol  dating_viol_2  \n",
       "0         2.0           1.0          1.0            1.0  \n",
       "1         2.0           1.0          1.0            1.0  \n",
       "2         2.0           1.0          1.0            1.0  \n",
       "3         2.0           1.0          1.0            1.0  \n",
       "4         2.0           1.0          1.0            1.0  "
      ]
     },
     "execution_count": 53,
     "metadata": {},
     "output_type": "execute_result"
    }
   ],
   "source": [
    "violence.head()"
   ]
  },
  {
   "cell_type": "markdown",
   "metadata": {},
   "source": [
    "## Missing"
   ]
  },
  {
   "cell_type": "code",
   "execution_count": 54,
   "metadata": {},
   "outputs": [
    {
     "data": {
      "text/html": [
       "<div>\n",
       "<style scoped>\n",
       "    .dataframe tbody tr th:only-of-type {\n",
       "        vertical-align: middle;\n",
       "    }\n",
       "\n",
       "    .dataframe tbody tr th {\n",
       "        vertical-align: top;\n",
       "    }\n",
       "\n",
       "    .dataframe thead th {\n",
       "        text-align: right;\n",
       "    }\n",
       "</style>\n",
       "<table border=\"1\" class=\"dataframe\">\n",
       "  <thead>\n",
       "    <tr style=\"text-align: right;\">\n",
       "      <th></th>\n",
       "      <th>Perc</th>\n",
       "      <th>Sum</th>\n",
       "    </tr>\n",
       "  </thead>\n",
       "  <tbody>\n",
       "    <tr>\n",
       "      <th>phys_fight</th>\n",
       "      <td>0.444102</td>\n",
       "      <td>101651</td>\n",
       "    </tr>\n",
       "    <tr>\n",
       "      <th>unsafe</th>\n",
       "      <td>0.439471</td>\n",
       "      <td>100591</td>\n",
       "    </tr>\n",
       "    <tr>\n",
       "      <th>dating_viol</th>\n",
       "      <td>0.068089</td>\n",
       "      <td>15585</td>\n",
       "    </tr>\n",
       "    <tr>\n",
       "      <th>dating_viol_2</th>\n",
       "      <td>0.044930</td>\n",
       "      <td>10284</td>\n",
       "    </tr>\n",
       "    <tr>\n",
       "      <th>forced_sex_2</th>\n",
       "      <td>0.039984</td>\n",
       "      <td>9152</td>\n",
       "    </tr>\n",
       "    <tr>\n",
       "      <th>forced_sex</th>\n",
       "      <td>0.024475</td>\n",
       "      <td>5602</td>\n",
       "    </tr>\n",
       "    <tr>\n",
       "      <th>phys_fight_school</th>\n",
       "      <td>0.014155</td>\n",
       "      <td>3240</td>\n",
       "    </tr>\n",
       "    <tr>\n",
       "      <th>inj_weapon_school</th>\n",
       "      <td>0.004443</td>\n",
       "      <td>1017</td>\n",
       "    </tr>\n",
       "  </tbody>\n",
       "</table>\n",
       "</div>"
      ],
      "text/plain": [
       "                       Perc     Sum\n",
       "phys_fight         0.444102  101651\n",
       "unsafe             0.439471  100591\n",
       "dating_viol        0.068089   15585\n",
       "dating_viol_2      0.044930   10284\n",
       "forced_sex_2       0.039984    9152\n",
       "forced_sex         0.024475    5602\n",
       "phys_fight_school  0.014155    3240\n",
       "inj_weapon_school  0.004443    1017"
      ]
     },
     "execution_count": 54,
     "metadata": {},
     "output_type": "execute_result"
    }
   ],
   "source": [
    "total = violence.isna().sum()/violence.isna().count()\n",
    "sum=violence.isna().sum()\n",
    "\n",
    "missing=pd.concat([total,sum],axis=1,keys=['Perc','Sum']).sort_values(by='Perc',ascending=False)\n",
    "\n",
    "colstodrop = missing[missing['Sum']>0].index\n",
    "\n",
    "missing[missing['Sum']>0]"
   ]
  },
  {
   "cell_type": "code",
   "execution_count": 67,
   "metadata": {},
   "outputs": [
    {
     "data": {
      "text/plain": [
       "1.0    214425\n",
       "2.0      6736\n",
       "3.0      3181\n",
       "8.0      1841\n",
       "4.0      1452\n",
       "5.0       923\n",
       "6.0       195\n",
       "7.0       138\n",
       "Name: inj_weapon_school, dtype: int64"
      ]
     },
     "execution_count": 67,
     "metadata": {},
     "output_type": "execute_result"
    }
   ],
   "source": [
    "violence.inj_weapon_school.value_counts()"
   ]
  },
  {
   "cell_type": "markdown",
   "metadata": {},
   "source": [
    "## Imputaion"
   ]
  },
  {
   "cell_type": "code",
   "execution_count": 66,
   "metadata": {
    "scrolled": false
   },
   "outputs": [
    {
     "name": "stdout",
     "output_type": "stream",
     "text": [
      "Dating Violence unique Values:  [1. 2. 6. 4. 3. 5.]\n",
      "Dating Violence 2 unique Values:  [1. 2. 4. 3. 6. 5.]\n",
      "Forced sex unique Values:  [1. 5. 3. 4. 2.]\n",
      "Forced sex unique Values:  [2. 1.]\n",
      "Phys fight unique Values:  [1. 3. 2. 4. 7. 5. 6. 8.]\n",
      "INj with wep unique Values:  [1. 2. 5. 3. 4. 7. 8. 6.]\n"
     ]
    }
   ],
   "source": [
    "violence['dating_viol']=violence['dating_viol'].fillna(1.0)\n",
    "print('Dating Violence unique Values: ', violence['dating_viol'].unique())\n",
    "\n",
    "violence['dating_viol_2']=violence['dating_viol_2'].fillna(2.0)\n",
    "print('Dating Violence 2 unique Values: ', violence['dating_viol_2'].unique())\n",
    "\n",
    "violence['forced_sex_2']=violence['forced_sex_2'].fillna(1.0)\n",
    "print('Forced sex unique Values: ', violence['forced_sex_2'].unique())\n",
    "\n",
    "violence['forced_sex']=violence['forced_sex'].fillna(2.0)\n",
    "print('Forced sex unique Values: ', violence['forced_sex'].unique())\n",
    "\n",
    "violence['phys_fight_school']=violence['phys_fight_school'].fillna(1.0)\n",
    "print('Phys fight unique Values: ', violence['phys_fight_school'].unique())\n",
    "\n",
    "violence['inj_weapon_school']=violence['inj_weapon_school'].fillna(1.0)\n",
    "print('INj with wep unique Values: ', violence['inj_weapon_school'].unique())\n"
   ]
  },
  {
   "cell_type": "code",
   "execution_count": 68,
   "metadata": {},
   "outputs": [
    {
     "data": {
      "text/plain": [
       "weight                    0\n",
       "Sex                       0\n",
       "raceeth                   0\n",
       "age                       0\n",
       "grade                     0\n",
       "suicide_consider          0\n",
       "wght                      0\n",
       "sex_id                    0\n",
       "unsafe               100591\n",
       "inj_weapon_school         0\n",
       "phys_fight           101651\n",
       "phys_fight_school         0\n",
       "forced_sex                0\n",
       "forced_sex_2              0\n",
       "dating_viol               0\n",
       "dating_viol_2             0\n",
       "dtype: int64"
      ]
     },
     "execution_count": 68,
     "metadata": {},
     "output_type": "execute_result"
    }
   ],
   "source": [
    "violence.isna().sum()"
   ]
  },
  {
   "cell_type": "markdown",
   "metadata": {},
   "source": [
    "## Normality"
   ]
  },
  {
   "cell_type": "code",
   "execution_count": 69,
   "metadata": {},
   "outputs": [
    {
     "data": {
      "text/plain": [
       "<matplotlib.axes._subplots.AxesSubplot at 0x1a256d0dd8>"
      ]
     },
     "execution_count": 69,
     "metadata": {},
     "output_type": "execute_result"
    },
    {
     "data": {
      "image/png": "[encoded data removed]",
      "text/plain": [
       "<Figure size 432x288 with 1 Axes>"
      ]
     },
     "metadata": {
      "needs_background": "light"
     },
     "output_type": "display_data"
    }
   ],
   "source": [
    "sns.distplot(violence['wght'])"
   ]
  },
  {
   "cell_type": "code",
   "execution_count": 70,
   "metadata": {},
   "outputs": [],
   "source": [
    "violence['wght'] = np.log1p(violence['wght'])"
   ]
  },
  {
   "cell_type": "code",
   "execution_count": 71,
   "metadata": {},
   "outputs": [],
   "source": [
    "violence.drop(['unsafe', 'phys_fight'], axis = 1, inplace = True)"
   ]
  },
  {
   "cell_type": "code",
   "execution_count": 73,
   "metadata": {},
   "outputs": [
    {
     "data": {
      "text/plain": [
       "weight               0\n",
       "Sex                  0\n",
       "raceeth              0\n",
       "age                  0\n",
       "grade                0\n",
       "suicide_consider     0\n",
       "wght                 0\n",
       "sex_id               0\n",
       "inj_weapon_school    0\n",
       "phys_fight_school    0\n",
       "forced_sex           0\n",
       "forced_sex_2         0\n",
       "dating_viol          0\n",
       "dating_viol_2        0\n",
       "dtype: int64"
      ]
     },
     "execution_count": 73,
     "metadata": {},
     "output_type": "execute_result"
    }
   ],
   "source": [
    "violence.head()\n",
    "violence.isna().sum()"
   ]
  },
  {
   "cell_type": "code",
   "execution_count": 74,
   "metadata": {},
   "outputs": [],
   "source": [
    "violence.to_csv('violence.csv', index = False)"
   ]
  },
  {
   "cell_type": "markdown",
   "metadata": {},
   "source": [
    "# Q23, Q24 : Bullying\n",
    "\n",
    "* Q23: During the past 12 months, have you ever been bullied on school property? 1.0 = Yes, 2.0 = No\n",
    "\n",
    "* Q24: During the past 12 months, have you ever been electronically bullied? (Count being bullied through texting, Instagram, Facebook, or other social media.) 1.0 = Yes, 2.0 = No"
   ]
  },
  {
   "cell_type": "code",
   "execution_count": 77,
   "metadata": {},
   "outputs": [],
   "source": [
    "bullied = pd.DataFrame(cdc_data[['q23', 'q24', 'weight']]) \n",
    "\n",
    "bullied = pd.merge(bullied, Demo, how='outer', on='weight')"
   ]
  },
  {
   "cell_type": "code",
   "execution_count": 78,
   "metadata": {},
   "outputs": [
    {
     "data": {
      "text/html": [
       "<div>\n",
       "<style scoped>\n",
       "    .dataframe tbody tr th:only-of-type {\n",
       "        vertical-align: middle;\n",
       "    }\n",
       "\n",
       "    .dataframe tbody tr th {\n",
       "        vertical-align: top;\n",
       "    }\n",
       "\n",
       "    .dataframe thead th {\n",
       "        text-align: right;\n",
       "    }\n",
       "</style>\n",
       "<table border=\"1\" class=\"dataframe\">\n",
       "  <thead>\n",
       "    <tr style=\"text-align: right;\">\n",
       "      <th></th>\n",
       "      <th>q23</th>\n",
       "      <th>q24</th>\n",
       "      <th>weight</th>\n",
       "      <th>Sex</th>\n",
       "      <th>raceeth</th>\n",
       "      <th>age</th>\n",
       "      <th>grade</th>\n",
       "      <th>suicide_consider</th>\n",
       "      <th>wght</th>\n",
       "      <th>sex_id</th>\n",
       "    </tr>\n",
       "  </thead>\n",
       "  <tbody>\n",
       "    <tr>\n",
       "      <th>0</th>\n",
       "      <td>2.0</td>\n",
       "      <td>2.0</td>\n",
       "      <td>0.5497</td>\n",
       "      <td>F</td>\n",
       "      <td>White</td>\n",
       "      <td>16 years old</td>\n",
       "      <td>11th grade</td>\n",
       "      <td>No</td>\n",
       "      <td>108.86</td>\n",
       "      <td>Heterosexual</td>\n",
       "    </tr>\n",
       "    <tr>\n",
       "      <th>1</th>\n",
       "      <td>2.0</td>\n",
       "      <td>2.0</td>\n",
       "      <td>0.5497</td>\n",
       "      <td>F</td>\n",
       "      <td>White</td>\n",
       "      <td>18 or older</td>\n",
       "      <td>11th grade</td>\n",
       "      <td>No</td>\n",
       "      <td>65.77</td>\n",
       "      <td>Heterosexual</td>\n",
       "    </tr>\n",
       "    <tr>\n",
       "      <th>2</th>\n",
       "      <td>2.0</td>\n",
       "      <td>2.0</td>\n",
       "      <td>0.5497</td>\n",
       "      <td>F</td>\n",
       "      <td>White</td>\n",
       "      <td>16 years old</td>\n",
       "      <td>11th grade</td>\n",
       "      <td>Yes</td>\n",
       "      <td>68.04</td>\n",
       "      <td>Heterosexual</td>\n",
       "    </tr>\n",
       "    <tr>\n",
       "      <th>3</th>\n",
       "      <td>2.0</td>\n",
       "      <td>2.0</td>\n",
       "      <td>0.5497</td>\n",
       "      <td>F</td>\n",
       "      <td>White</td>\n",
       "      <td>16 years old</td>\n",
       "      <td>11th grade</td>\n",
       "      <td>No</td>\n",
       "      <td>81.65</td>\n",
       "      <td>Heterosexual</td>\n",
       "    </tr>\n",
       "    <tr>\n",
       "      <th>4</th>\n",
       "      <td>2.0</td>\n",
       "      <td>2.0</td>\n",
       "      <td>0.5497</td>\n",
       "      <td>F</td>\n",
       "      <td>White</td>\n",
       "      <td>16 years old</td>\n",
       "      <td>11th grade</td>\n",
       "      <td>No</td>\n",
       "      <td>117.94</td>\n",
       "      <td>Heterosexual</td>\n",
       "    </tr>\n",
       "  </tbody>\n",
       "</table>\n",
       "</div>"
      ],
      "text/plain": [
       "   q23  q24  weight Sex raceeth           age       grade suicide_consider  \\\n",
       "0  2.0  2.0  0.5497   F   White  16 years old  11th grade               No   \n",
       "1  2.0  2.0  0.5497   F   White   18 or older  11th grade               No   \n",
       "2  2.0  2.0  0.5497   F   White  16 years old  11th grade              Yes   \n",
       "3  2.0  2.0  0.5497   F   White  16 years old  11th grade               No   \n",
       "4  2.0  2.0  0.5497   F   White  16 years old  11th grade               No   \n",
       "\n",
       "     wght        sex_id  \n",
       "0  108.86  Heterosexual  \n",
       "1   65.77  Heterosexual  \n",
       "2   68.04  Heterosexual  \n",
       "3   81.65  Heterosexual  \n",
       "4  117.94  Heterosexual  "
      ]
     },
     "execution_count": 78,
     "metadata": {},
     "output_type": "execute_result"
    }
   ],
   "source": [
    "bullied.head()"
   ]
  },
  {
   "cell_type": "code",
   "execution_count": 80,
   "metadata": {},
   "outputs": [],
   "source": [
    "bullied['bullied_school'] = bullied['q23']\n",
    "bullied['bullied_electronic'] = bullied['q24']"
   ]
  },
  {
   "cell_type": "code",
   "execution_count": 81,
   "metadata": {},
   "outputs": [
    {
     "data": {
      "text/plain": [
       "Index(['q23', 'q24', 'weight', 'Sex', 'raceeth', 'age', 'grade',\n",
       "       'suicide_consider', 'wght', 'sex_id', 'bullied_school',\n",
       "       'bullied_electronic'],\n",
       "      dtype='object')"
      ]
     },
     "execution_count": 81,
     "metadata": {},
     "output_type": "execute_result"
    }
   ],
   "source": [
    "bullied.columns"
   ]
  },
  {
   "cell_type": "code",
   "execution_count": 82,
   "metadata": {},
   "outputs": [],
   "source": [
    "bullied.drop(['q23', 'q24'], axis = 1, inplace = True)"
   ]
  },
  {
   "cell_type": "markdown",
   "metadata": {},
   "source": [
    "## Missing"
   ]
  },
  {
   "cell_type": "code",
   "execution_count": 84,
   "metadata": {},
   "outputs": [
    {
     "data": {
      "text/html": [
       "<div>\n",
       "<style scoped>\n",
       "    .dataframe tbody tr th:only-of-type {\n",
       "        vertical-align: middle;\n",
       "    }\n",
       "\n",
       "    .dataframe tbody tr th {\n",
       "        vertical-align: top;\n",
       "    }\n",
       "\n",
       "    .dataframe thead th {\n",
       "        text-align: right;\n",
       "    }\n",
       "</style>\n",
       "<table border=\"1\" class=\"dataframe\">\n",
       "  <thead>\n",
       "    <tr style=\"text-align: right;\">\n",
       "      <th></th>\n",
       "      <th>Perc</th>\n",
       "      <th>Sum</th>\n",
       "    </tr>\n",
       "  </thead>\n",
       "  <tbody>\n",
       "    <tr>\n",
       "      <th>bullied_electronic</th>\n",
       "      <td>0.010857</td>\n",
       "      <td>2485</td>\n",
       "    </tr>\n",
       "    <tr>\n",
       "      <th>bullied_school</th>\n",
       "      <td>0.009917</td>\n",
       "      <td>2270</td>\n",
       "    </tr>\n",
       "  </tbody>\n",
       "</table>\n",
       "</div>"
      ],
      "text/plain": [
       "                        Perc   Sum\n",
       "bullied_electronic  0.010857  2485\n",
       "bullied_school      0.009917  2270"
      ]
     },
     "execution_count": 84,
     "metadata": {},
     "output_type": "execute_result"
    }
   ],
   "source": [
    "total = bullied.isna().sum()/bullied.isna().count()\n",
    "sum=bullied.isna().sum()\n",
    "\n",
    "missing=pd.concat([total,sum],axis=1,keys=['Perc','Sum']).sort_values(by='Perc',ascending=False)\n",
    "\n",
    "colstodrop = missing[missing['Sum']>0].index\n",
    "\n",
    "missing[missing['Sum']>0]"
   ]
  },
  {
   "cell_type": "code",
   "execution_count": 87,
   "metadata": {},
   "outputs": [
    {
     "data": {
      "text/plain": [
       "2.0    182746\n",
       "1.0     43875\n",
       "Name: bullied_school, dtype: int64"
      ]
     },
     "execution_count": 87,
     "metadata": {},
     "output_type": "execute_result"
    }
   ],
   "source": [
    "bullied.bullied_school.value_counts()"
   ]
  },
  {
   "cell_type": "code",
   "execution_count": 88,
   "metadata": {},
   "outputs": [
    {
     "name": "stdout",
     "output_type": "stream",
     "text": [
      "Elec Bully unique Values:  [2. 1.]\n",
      "bullied_school unique Values:  [2. 1.]\n"
     ]
    }
   ],
   "source": [
    "bullied['bullied_electronic']=bullied['bullied_electronic'].fillna(2.0)\n",
    "print('Elec Bully unique Values: ', bullied['bullied_electronic'].unique())\n",
    "\n",
    "bullied['bullied_school']=bullied['bullied_school'].fillna(2.0)\n",
    "print('bullied_school unique Values: ', bullied['bullied_school'].unique())\n"
   ]
  },
  {
   "cell_type": "code",
   "execution_count": 89,
   "metadata": {},
   "outputs": [
    {
     "data": {
      "text/plain": [
       "weight                0\n",
       "Sex                   0\n",
       "raceeth               0\n",
       "age                   0\n",
       "grade                 0\n",
       "suicide_consider      0\n",
       "wght                  0\n",
       "sex_id                0\n",
       "bullied_school        0\n",
       "bullied_electronic    0\n",
       "dtype: int64"
      ]
     },
     "execution_count": 89,
     "metadata": {},
     "output_type": "execute_result"
    }
   ],
   "source": [
    "bullied.isna().sum()"
   ]
  },
  {
   "cell_type": "code",
   "execution_count": 90,
   "metadata": {},
   "outputs": [
    {
     "data": {
      "text/plain": [
       "<matplotlib.axes._subplots.AxesSubplot at 0x1a253602e8>"
      ]
     },
     "execution_count": 90,
     "metadata": {},
     "output_type": "execute_result"
    },
    {
     "data": {
      "image/png": "[encoded data removed]",
      "text/plain": [
       "<Figure size 432x288 with 1 Axes>"
      ]
     },
     "metadata": {
      "needs_background": "light"
     },
     "output_type": "display_data"
    }
   ],
   "source": [
    "sns.distplot(bullied['wght'])"
   ]
  },
  {
   "cell_type": "code",
   "execution_count": 91,
   "metadata": {},
   "outputs": [],
   "source": [
    "bullied['wght'] = np.log1p(bullied['wght'])"
   ]
  },
  {
   "cell_type": "code",
   "execution_count": 92,
   "metadata": {},
   "outputs": [],
   "source": [
    "bullied.to_csv('bullied.csv', index = False)"
   ]
  }
 ],
 "metadata": {
  "kernelspec": {
   "display_name": "Python 3",
   "language": "python",
   "name": "python3"
  },
  "language_info": {
   "codemirror_mode": {
    "name": "ipython",
    "version": 3
   },
   "file_extension": ".py",
   "mimetype": "text/x-python",
   "name": "python",
   "nbconvert_exporter": "python",
   "pygments_lexer": "ipython3",
   "version": "3.7.3"
  }
 },
 "nbformat": 4,
 "nbformat_minor": 2
}
