{
 "cells": [
  {
   "cell_type": "markdown",
   "metadata": {},
   "source": [
    "# Creating CSVs for Viz "
   ]
  },
  {
   "cell_type": "code",
   "execution_count": 2,
   "metadata": {},
   "outputs": [],
   "source": [
    "#### Import\n",
    "\n",
    "import pandas as pd\n",
    "import numpy as np\n",
    "import seaborn as sns\n",
    "import matplotlib.pyplot as plt"
   ]
  },
  {
   "cell_type": "code",
   "execution_count": 3,
   "metadata": {},
   "outputs": [
    {
     "name": "stderr",
     "output_type": "stream",
     "text": [
      "/Users/lauraelliott/anaconda3/lib/python3.7/site-packages/IPython/core/interactiveshell.py:3049: DtypeWarning: Columns (3) have mixed types. Specify dtype option on import or set low_memory=False.\n",
      "  interactivity=interactivity, compiler=compiler, result=result)\n",
      "/Users/lauraelliott/anaconda3/lib/python3.7/site-packages/IPython/core/interactiveshell.py:3049: DtypeWarning: Columns (142,143) have mixed types. Specify dtype option on import or set low_memory=False.\n",
      "  interactivity=interactivity, compiler=compiler, result=result)\n"
     ]
    }
   ],
   "source": [
    "cdc_data = pd.read_csv('../DATA/XXHq_2017.csv')\n",
    "weighted = pd.read_csv(\"../DATA/weighted_2017.csv\")"
   ]
  },
  {
   "cell_type": "code",
   "execution_count": 336,
   "metadata": {},
   "outputs": [
    {
     "data": {
      "text/html": [
       "<div>\n",
       "<style scoped>\n",
       "    .dataframe tbody tr th:only-of-type {\n",
       "        vertical-align: middle;\n",
       "    }\n",
       "\n",
       "    .dataframe tbody tr th {\n",
       "        vertical-align: top;\n",
       "    }\n",
       "\n",
       "    .dataframe thead th {\n",
       "        text-align: right;\n",
       "    }\n",
       "</style>\n",
       "<table border=\"1\" class=\"dataframe\">\n",
       "  <thead>\n",
       "    <tr style=\"text-align: right;\">\n",
       "      <th></th>\n",
       "      <th>site</th>\n",
       "      <th>raceeth</th>\n",
       "      <th>q6orig</th>\n",
       "      <th>q7orig</th>\n",
       "      <th>record</th>\n",
       "      <th>orig_rec</th>\n",
       "      <th>q4</th>\n",
       "      <th>q5</th>\n",
       "      <th>q6</th>\n",
       "      <th>q8</th>\n",
       "      <th>...</th>\n",
       "      <th>weight</th>\n",
       "      <th>stratum</th>\n",
       "      <th>psu</th>\n",
       "      <th>suicide_consider</th>\n",
       "      <th>age</th>\n",
       "      <th>grade</th>\n",
       "      <th>Sex</th>\n",
       "      <th>wght</th>\n",
       "      <th>Gun_carry</th>\n",
       "      <th>oth_weapons</th>\n",
       "    </tr>\n",
       "  </thead>\n",
       "  <tbody>\n",
       "    <tr>\n",
       "      <th>0</th>\n",
       "      <td>XX</td>\n",
       "      <td>White</td>\n",
       "      <td>603</td>\n",
       "      <td>240</td>\n",
       "      <td>1</td>\n",
       "      <td>NaN</td>\n",
       "      <td>2.0</td>\n",
       "      <td>E</td>\n",
       "      <td>1.90</td>\n",
       "      <td>4.0</td>\n",
       "      <td>...</td>\n",
       "      <td>0.5497</td>\n",
       "      <td>101</td>\n",
       "      <td>11170</td>\n",
       "      <td>No</td>\n",
       "      <td>16 years old</td>\n",
       "      <td>11th grade</td>\n",
       "      <td>F</td>\n",
       "      <td>108.86</td>\n",
       "      <td>1</td>\n",
       "      <td>1</td>\n",
       "    </tr>\n",
       "    <tr>\n",
       "      <th>1</th>\n",
       "      <td>XX</td>\n",
       "      <td>Hispanic/Latino</td>\n",
       "      <td>503</td>\n",
       "      <td>130</td>\n",
       "      <td>2</td>\n",
       "      <td>NaN</td>\n",
       "      <td>1.0</td>\n",
       "      <td>NaN</td>\n",
       "      <td>1.60</td>\n",
       "      <td>5.0</td>\n",
       "      <td>...</td>\n",
       "      <td>0.3811</td>\n",
       "      <td>101</td>\n",
       "      <td>11170</td>\n",
       "      <td>No</td>\n",
       "      <td>18 or older</td>\n",
       "      <td>11th grade</td>\n",
       "      <td>F</td>\n",
       "      <td>58.97</td>\n",
       "      <td>1</td>\n",
       "      <td>1</td>\n",
       "    </tr>\n",
       "    <tr>\n",
       "      <th>2</th>\n",
       "      <td>XX</td>\n",
       "      <td>Multiple Hispanic/Latino</td>\n",
       "      <td>505</td>\n",
       "      <td>142</td>\n",
       "      <td>3</td>\n",
       "      <td>NaN</td>\n",
       "      <td>1.0</td>\n",
       "      <td>A</td>\n",
       "      <td>1.65</td>\n",
       "      <td>5.0</td>\n",
       "      <td>...</td>\n",
       "      <td>0.4238</td>\n",
       "      <td>101</td>\n",
       "      <td>11170</td>\n",
       "      <td>No</td>\n",
       "      <td>16 years old</td>\n",
       "      <td>11th grade</td>\n",
       "      <td>M</td>\n",
       "      <td>64.41</td>\n",
       "      <td>1</td>\n",
       "      <td>1</td>\n",
       "    </tr>\n",
       "    <tr>\n",
       "      <th>3</th>\n",
       "      <td>XX</td>\n",
       "      <td>Hispanic/Latino</td>\n",
       "      <td>503</td>\n",
       "      <td>143</td>\n",
       "      <td>4</td>\n",
       "      <td>NaN</td>\n",
       "      <td>1.0</td>\n",
       "      <td>NaN</td>\n",
       "      <td>1.60</td>\n",
       "      <td>4.0</td>\n",
       "      <td>...</td>\n",
       "      <td>0.4238</td>\n",
       "      <td>101</td>\n",
       "      <td>11170</td>\n",
       "      <td>No</td>\n",
       "      <td>17 years old</td>\n",
       "      <td>11th grade</td>\n",
       "      <td>M</td>\n",
       "      <td>64.86</td>\n",
       "      <td>1</td>\n",
       "      <td>1</td>\n",
       "    </tr>\n",
       "    <tr>\n",
       "      <th>4</th>\n",
       "      <td>XX</td>\n",
       "      <td>White</td>\n",
       "      <td>509</td>\n",
       "      <td>145</td>\n",
       "      <td>5</td>\n",
       "      <td>NaN</td>\n",
       "      <td>2.0</td>\n",
       "      <td>E</td>\n",
       "      <td>1.75</td>\n",
       "      <td>5.0</td>\n",
       "      <td>...</td>\n",
       "      <td>0.5497</td>\n",
       "      <td>101</td>\n",
       "      <td>11170</td>\n",
       "      <td>No</td>\n",
       "      <td>18 or older</td>\n",
       "      <td>11th grade</td>\n",
       "      <td>F</td>\n",
       "      <td>65.77</td>\n",
       "      <td>1</td>\n",
       "      <td>1</td>\n",
       "    </tr>\n",
       "  </tbody>\n",
       "</table>\n",
       "<p>5 rows × 109 columns</p>\n",
       "</div>"
      ],
      "text/plain": [
       "  site                   raceeth q6orig q7orig  record  orig_rec   q4   q5  \\\n",
       "0   XX                     White    603    240       1       NaN  2.0    E   \n",
       "1   XX           Hispanic/Latino    503    130       2       NaN  1.0  NaN   \n",
       "2   XX  Multiple Hispanic/Latino    505    142       3       NaN  1.0    A   \n",
       "3   XX           Hispanic/Latino    503    143       4       NaN  1.0  NaN   \n",
       "4   XX                     White    509    145       5       NaN  2.0    E   \n",
       "\n",
       "     q6   q8  ...  weight  stratum    psu  suicide_consider           age  \\\n",
       "0  1.90  4.0  ...  0.5497      101  11170                No  16 years old   \n",
       "1  1.60  5.0  ...  0.3811      101  11170                No   18 or older   \n",
       "2  1.65  5.0  ...  0.4238      101  11170                No  16 years old   \n",
       "3  1.60  4.0  ...  0.4238      101  11170                No  17 years old   \n",
       "4  1.75  5.0  ...  0.5497      101  11170                No   18 or older   \n",
       "\n",
       "        grade  Sex    wght  Gun_carry  oth_weapons  \n",
       "0  11th grade    F  108.86          1            1  \n",
       "1  11th grade    F   58.97          1            1  \n",
       "2  11th grade    M   64.41          1            1  \n",
       "3  11th grade    M   64.86          1            1  \n",
       "4  11th grade    F   65.77          1            1  \n",
       "\n",
       "[5 rows x 109 columns]"
      ]
     },
     "execution_count": 336,
     "metadata": {},
     "output_type": "execute_result"
    }
   ],
   "source": [
    "cdc_data.head()"
   ]
  },
  {
   "cell_type": "code",
   "execution_count": 187,
   "metadata": {},
   "outputs": [
    {
     "data": {
      "text/html": [
       "<div>\n",
       "<style scoped>\n",
       "    .dataframe tbody tr th:only-of-type {\n",
       "        vertical-align: middle;\n",
       "    }\n",
       "\n",
       "    .dataframe tbody tr th {\n",
       "        vertical-align: top;\n",
       "    }\n",
       "\n",
       "    .dataframe thead th {\n",
       "        text-align: right;\n",
       "    }\n",
       "</style>\n",
       "<table border=\"1\" class=\"dataframe\">\n",
       "  <thead>\n",
       "    <tr style=\"text-align: right;\">\n",
       "      <th></th>\n",
       "      <th>Q1</th>\n",
       "      <th>Q2</th>\n",
       "      <th>Q3</th>\n",
       "      <th>Q4</th>\n",
       "      <th>Q5</th>\n",
       "      <th>Q6</th>\n",
       "      <th>Q7</th>\n",
       "      <th>QN8</th>\n",
       "      <th>QN9</th>\n",
       "      <th>QN10</th>\n",
       "      <th>...</th>\n",
       "      <th>BMIPCT</th>\n",
       "      <th>RACEETH</th>\n",
       "      <th>Q6ORIG</th>\n",
       "      <th>Q7ORIG</th>\n",
       "      <th>QNDAYEVP</th>\n",
       "      <th>QNFREVP</th>\n",
       "      <th>QNDAYSKL</th>\n",
       "      <th>QNFRSKL</th>\n",
       "      <th>QNDAYCGR</th>\n",
       "      <th>QNFRCGR</th>\n",
       "    </tr>\n",
       "  </thead>\n",
       "  <tbody>\n",
       "    <tr>\n",
       "      <th>0</th>\n",
       "      <td>5.0</td>\n",
       "      <td>2.0</td>\n",
       "      <td>3.0</td>\n",
       "      <td>2.0</td>\n",
       "      <td>E</td>\n",
       "      <td>1.90</td>\n",
       "      <td>108.86</td>\n",
       "      <td>2.0</td>\n",
       "      <td>2.0</td>\n",
       "      <td>2.0</td>\n",
       "      <td>...</td>\n",
       "      <td>97.44</td>\n",
       "      <td>5.0</td>\n",
       "      <td>603</td>\n",
       "      <td>240</td>\n",
       "      <td>2.0</td>\n",
       "      <td>2.0</td>\n",
       "      <td>2.0</td>\n",
       "      <td>2.0</td>\n",
       "      <td>2.0</td>\n",
       "      <td>2.0</td>\n",
       "    </tr>\n",
       "    <tr>\n",
       "      <th>1</th>\n",
       "      <td>7.0</td>\n",
       "      <td>2.0</td>\n",
       "      <td>3.0</td>\n",
       "      <td>1.0</td>\n",
       "      <td>NaN</td>\n",
       "      <td>1.60</td>\n",
       "      <td>58.97</td>\n",
       "      <td>2.0</td>\n",
       "      <td>2.0</td>\n",
       "      <td>2.0</td>\n",
       "      <td>...</td>\n",
       "      <td>60.88</td>\n",
       "      <td>6.0</td>\n",
       "      <td>503</td>\n",
       "      <td>130</td>\n",
       "      <td>2.0</td>\n",
       "      <td>2.0</td>\n",
       "      <td>2.0</td>\n",
       "      <td>2.0</td>\n",
       "      <td>2.0</td>\n",
       "      <td>2.0</td>\n",
       "    </tr>\n",
       "    <tr>\n",
       "      <th>2</th>\n",
       "      <td>5.0</td>\n",
       "      <td>1.0</td>\n",
       "      <td>3.0</td>\n",
       "      <td>1.0</td>\n",
       "      <td>A</td>\n",
       "      <td>1.65</td>\n",
       "      <td>64.41</td>\n",
       "      <td>2.0</td>\n",
       "      <td>2.0</td>\n",
       "      <td>2.0</td>\n",
       "      <td>...</td>\n",
       "      <td>78.50</td>\n",
       "      <td>7.0</td>\n",
       "      <td>505</td>\n",
       "      <td>142</td>\n",
       "      <td>2.0</td>\n",
       "      <td>2.0</td>\n",
       "      <td>2.0</td>\n",
       "      <td>2.0</td>\n",
       "      <td>2.0</td>\n",
       "      <td>2.0</td>\n",
       "    </tr>\n",
       "    <tr>\n",
       "      <th>3</th>\n",
       "      <td>6.0</td>\n",
       "      <td>1.0</td>\n",
       "      <td>3.0</td>\n",
       "      <td>1.0</td>\n",
       "      <td>NaN</td>\n",
       "      <td>1.60</td>\n",
       "      <td>64.86</td>\n",
       "      <td>2.0</td>\n",
       "      <td>2.0</td>\n",
       "      <td>2.0</td>\n",
       "      <td>...</td>\n",
       "      <td>84.61</td>\n",
       "      <td>6.0</td>\n",
       "      <td>503</td>\n",
       "      <td>143</td>\n",
       "      <td>2.0</td>\n",
       "      <td>2.0</td>\n",
       "      <td>2.0</td>\n",
       "      <td>2.0</td>\n",
       "      <td>2.0</td>\n",
       "      <td>2.0</td>\n",
       "    </tr>\n",
       "    <tr>\n",
       "      <th>4</th>\n",
       "      <td>7.0</td>\n",
       "      <td>2.0</td>\n",
       "      <td>3.0</td>\n",
       "      <td>2.0</td>\n",
       "      <td>E</td>\n",
       "      <td>1.75</td>\n",
       "      <td>65.77</td>\n",
       "      <td>2.0</td>\n",
       "      <td>2.0</td>\n",
       "      <td>2.0</td>\n",
       "      <td>...</td>\n",
       "      <td>40.08</td>\n",
       "      <td>5.0</td>\n",
       "      <td>509</td>\n",
       "      <td>145</td>\n",
       "      <td>2.0</td>\n",
       "      <td>2.0</td>\n",
       "      <td>2.0</td>\n",
       "      <td>2.0</td>\n",
       "      <td>2.0</td>\n",
       "      <td>2.0</td>\n",
       "    </tr>\n",
       "  </tbody>\n",
       "</table>\n",
       "<p>5 rows × 150 columns</p>\n",
       "</div>"
      ],
      "text/plain": [
       "    Q1   Q2   Q3   Q4   Q5    Q6      Q7  QN8  QN9  QN10  ...  BMIPCT  \\\n",
       "0  5.0  2.0  3.0  2.0    E  1.90  108.86  2.0  2.0   2.0  ...   97.44   \n",
       "1  7.0  2.0  3.0  1.0  NaN  1.60   58.97  2.0  2.0   2.0  ...   60.88   \n",
       "2  5.0  1.0  3.0  1.0    A  1.65   64.41  2.0  2.0   2.0  ...   78.50   \n",
       "3  6.0  1.0  3.0  1.0  NaN  1.60   64.86  2.0  2.0   2.0  ...   84.61   \n",
       "4  7.0  2.0  3.0  2.0    E  1.75   65.77  2.0  2.0   2.0  ...   40.08   \n",
       "\n",
       "   RACEETH  Q6ORIG  Q7ORIG  QNDAYEVP  QNFREVP  QNDAYSKL  QNFRSKL  QNDAYCGR  \\\n",
       "0      5.0     603     240       2.0      2.0       2.0      2.0       2.0   \n",
       "1      6.0     503     130       2.0      2.0       2.0      2.0       2.0   \n",
       "2      7.0     505     142       2.0      2.0       2.0      2.0       2.0   \n",
       "3      6.0     503     143       2.0      2.0       2.0      2.0       2.0   \n",
       "4      5.0     509     145       2.0      2.0       2.0      2.0       2.0   \n",
       "\n",
       "   QNFRCGR  \n",
       "0      2.0  \n",
       "1      2.0  \n",
       "2      2.0  \n",
       "3      2.0  \n",
       "4      2.0  \n",
       "\n",
       "[5 rows x 150 columns]"
      ]
     },
     "execution_count": 187,
     "metadata": {},
     "output_type": "execute_result"
    }
   ],
   "source": [
    "weighted.head()"
   ]
  },
  {
   "cell_type": "code",
   "execution_count": 188,
   "metadata": {},
   "outputs": [
    {
     "data": {
      "text/plain": [
       "Index(['site', 'raceeth', 'q6orig', 'q7orig', 'record', 'orig_rec', 'q1', 'q2',\n",
       "       'q3', 'q4',\n",
       "       ...\n",
       "       'q94', 'q95', 'q96', 'q97', 'q98', 'q99', 'BMIPCT', 'weight', 'stratum',\n",
       "       'psu'],\n",
       "      dtype='object', length=109)"
      ]
     },
     "execution_count": 188,
     "metadata": {},
     "output_type": "execute_result"
    }
   ],
   "source": [
    "cdc_data.columns\n"
   ]
  },
  {
   "cell_type": "code",
   "execution_count": 189,
   "metadata": {
    "scrolled": true
   },
   "outputs": [
    {
     "data": {
      "text/plain": [
       "1.0    13903\n",
       "5.0      272\n",
       "2.0      170\n",
       "3.0      119\n",
       "4.0       43\n",
       "Name: q13, dtype: int64"
      ]
     },
     "execution_count": 189,
     "metadata": {},
     "output_type": "execute_result"
    }
   ],
   "source": [
    "cdc_data['q13'].astype('object')\n",
    "cdc_data['q13'].value_counts()"
   ]
  },
  {
   "cell_type": "code",
   "execution_count": 190,
   "metadata": {
    "scrolled": true
   },
   "outputs": [
    {
     "data": {
      "text/plain": [
       "1.0    13467\n",
       "5.0      289\n",
       "2.0      196\n",
       "3.0      174\n",
       "4.0       69\n",
       "Name: q14, dtype: int64"
      ]
     },
     "execution_count": 190,
     "metadata": {},
     "output_type": "execute_result"
    }
   ],
   "source": [
    "cdc_data['q14'].astype('object')\n",
    "cdc_data['q14'].value_counts()"
   ]
  },
  {
   "cell_type": "code",
   "execution_count": 191,
   "metadata": {
    "scrolled": true
   },
   "outputs": [
    {
     "data": {
      "text/plain": [
       "1.0    7526\n",
       "2.0    7112\n",
       "Name: q2, dtype: int64"
      ]
     },
     "execution_count": 191,
     "metadata": {},
     "output_type": "execute_result"
    }
   ],
   "source": [
    "cdc_data['q2'].value_counts()"
   ]
  },
  {
   "cell_type": "code",
   "execution_count": 192,
   "metadata": {
    "scrolled": false
   },
   "outputs": [
    {
     "data": {
      "text/plain": [
       "5.0    6261\n",
       "3.0    2796\n",
       "7.0    2104\n",
       "6.0    1543\n",
       "8.0     823\n",
       "2.0     648\n",
       "1.0     137\n",
       "4.0     116\n",
       "Name: raceeth, dtype: int64"
      ]
     },
     "execution_count": 192,
     "metadata": {},
     "output_type": "execute_result"
    }
   ],
   "source": [
    "cdc_data['raceeth'].value_counts()"
   ]
  },
  {
   "cell_type": "code",
   "execution_count": 193,
   "metadata": {},
   "outputs": [
    {
     "data": {
      "text/plain": [
       "1.0    3921\n",
       "2.0    3715\n",
       "3.0    3602\n",
       "4.0    3383\n",
       "5.0      30\n",
       "Name: q3, dtype: int64"
      ]
     },
     "execution_count": 193,
     "metadata": {},
     "output_type": "execute_result"
    }
   ],
   "source": [
    "cdc_data['q3'].value_counts()"
   ]
  },
  {
   "cell_type": "code",
   "execution_count": 194,
   "metadata": {},
   "outputs": [
    {
     "data": {
      "text/plain": [
       "5.0    3688\n",
       "6.0    3611\n",
       "4.0    3586\n",
       "3.0    1922\n",
       "7.0    1796\n",
       "1.0      59\n",
       "2.0      22\n",
       "Name: q1, dtype: int64"
      ]
     },
     "execution_count": 194,
     "metadata": {},
     "output_type": "execute_result"
    }
   ],
   "source": [
    "cdc_data['q1'].value_counts()"
   ]
  },
  {
   "cell_type": "code",
   "execution_count": 195,
   "metadata": {
    "scrolled": true
   },
   "outputs": [
    {
     "data": {
      "text/plain": [
       "2.0    11982\n",
       "1.0     2571\n",
       "Name: q26, dtype: int64"
      ]
     },
     "execution_count": 195,
     "metadata": {},
     "output_type": "execute_result"
    }
   ],
   "source": [
    "cdc_data['q26'].value_counts()"
   ]
  },
  {
   "cell_type": "markdown",
   "metadata": {},
   "source": [
    "### Sexual Identity"
   ]
  },
  {
   "cell_type": "code",
   "execution_count": 406,
   "metadata": {
    "scrolled": true
   },
   "outputs": [
    {
     "data": {
      "text/plain": [
       "1.0    12012\n",
       "3.0     1137\n",
       "4.0      602\n",
       "2.0      357\n",
       "Name: q67, dtype: int64"
      ]
     },
     "execution_count": 406,
     "metadata": {},
     "output_type": "execute_result"
    }
   ],
   "source": [
    "cdc_data['q67'].value_counts()"
   ]
  },
  {
   "cell_type": "code",
   "execution_count": 4,
   "metadata": {},
   "outputs": [
    {
     "data": {
      "text/plain": [
       "Heterosexual      12012\n",
       "Bisexual           1137\n",
       "Unsure              602\n",
       "Gay or Lesbian      357\n",
       "Name: sex_id, dtype: int64"
      ]
     },
     "execution_count": 4,
     "metadata": {},
     "output_type": "execute_result"
    }
   ],
   "source": [
    "cdc_data['q67'] = cdc_data['q67'].apply(lambda x: \"Heterosexual\" if x == 1.0 else x)\n",
    "cdc_data['q67'] = cdc_data['q67'].apply(lambda x: \"Gay or Lesbian\" if x == 2.0 else x)\n",
    "cdc_data['q67'] = cdc_data['q67'].apply(lambda x: \"Bisexual\" if x == 3.0 else x)                                              \n",
    "cdc_data['q67'] = cdc_data['q67'].apply(lambda x: \"Unsure\" if x == 4.0 else x) \n",
    "\n",
    "cdc_data['sex_id'] = cdc_data['q67']\n",
    "cdc_data['sex_id'].value_counts()\n"
   ]
  },
  {
   "cell_type": "markdown",
   "metadata": {},
   "source": [
    "### NW Suicide attempts last 12 mo to names"
   ]
  },
  {
   "cell_type": "code",
   "execution_count": 5,
   "metadata": {},
   "outputs": [
    {
     "data": {
      "text/plain": [
       "No     12194\n",
       "Yes     2571\n",
       "Name: suicide_consider, dtype: int64"
      ]
     },
     "execution_count": 5,
     "metadata": {},
     "output_type": "execute_result"
    }
   ],
   "source": [
    "cdc_data['suicide_consider'] = cdc_data['q26'].apply(lambda x: \"Yes\" if x == 1.0 else \"No\")\n",
    "\n",
    "#cdc_data['suicide_consider'] = cdc_data['q26']\n",
    "cdc_data['suicide_consider'].value_counts()"
   ]
  },
  {
   "cell_type": "markdown",
   "metadata": {},
   "source": [
    "### Age to names"
   ]
  },
  {
   "cell_type": "code",
   "execution_count": 6,
   "metadata": {},
   "outputs": [
    {
     "data": {
      "text/plain": [
       "16 years old     3688\n",
       "17 years old     3611\n",
       "15 years old     3586\n",
       "14 years old     1922\n",
       "18 or older      1796\n",
       "12 or younger      59\n",
       "13 years old       22\n",
       "Name: age, dtype: int64"
      ]
     },
     "execution_count": 6,
     "metadata": {},
     "output_type": "execute_result"
    }
   ],
   "source": [
    "cdc_data['q1'] = cdc_data['q1'].apply(lambda x: \"12 or younger\" if x == 1.0 else x)\n",
    "cdc_data['q1'] = cdc_data['q1'].apply(lambda x: \"13 years old\" if x == 2.0 else x)\n",
    "cdc_data['q1'] = cdc_data['q1'].apply(lambda x: \"14 years old\" if x == 3.0 else x)                                              \n",
    "cdc_data['q1'] = cdc_data['q1'].apply(lambda x: \"15 years old\" if x == 4.0 else x)  \n",
    "cdc_data['q1'] = cdc_data['q1'].apply(lambda x: \"16 years old\" if x == 5.0 else x)\n",
    "cdc_data['q1'] = cdc_data['q1'].apply(lambda x: \"17 years old\" if x == 6.0 else x)  \n",
    "cdc_data['q1'] = cdc_data['q1'].apply(lambda x: \"18 or older\" if x == 7.0 else x)\n",
    "\n",
    "cdc_data['age'] = cdc_data['q1']\n",
    "cdc_data['age'].value_counts()"
   ]
  },
  {
   "cell_type": "markdown",
   "metadata": {},
   "source": [
    "### Grade values to names"
   ]
  },
  {
   "cell_type": "code",
   "execution_count": 7,
   "metadata": {},
   "outputs": [
    {
     "data": {
      "text/plain": [
       "9th grade            3921\n",
       "10th grade           3715\n",
       "11th grade           3602\n",
       "12th grade           3383\n",
       "Ungraded or other      30\n",
       "Name: grade, dtype: int64"
      ]
     },
     "execution_count": 7,
     "metadata": {},
     "output_type": "execute_result"
    }
   ],
   "source": [
    "cdc_data['q3'] = cdc_data['q3'].apply(lambda x: \"9th grade\" if x == 1.0 else x)\n",
    "cdc_data['q3'] = cdc_data['q3'].apply(lambda x: \"10th grade\" if x == 2.0 else x)\n",
    "cdc_data['q3'] = cdc_data['q3'].apply(lambda x: \"11th grade\" if x == 3.0 else x)                                              \n",
    "cdc_data['q3'] = cdc_data['q3'].apply(lambda x: \"12th grade\" if x == 4.0 else x)  \n",
    "cdc_data['q3'] = cdc_data['q3'].apply(lambda x: \"Ungraded or other\" if x == 5.0 else x)\n",
    "\n",
    "cdc_data['grade'] = cdc_data['q3'].astype('object')\n",
    "cdc_data['grade'].value_counts()\n"
   ]
  },
  {
   "cell_type": "markdown",
   "metadata": {},
   "source": [
    "### Sex to M/F"
   ]
  },
  {
   "cell_type": "code",
   "execution_count": 8,
   "metadata": {
    "scrolled": true
   },
   "outputs": [
    {
     "data": {
      "text/plain": [
       "M    7653\n",
       "F    7112\n",
       "Name: Sex, dtype: int64"
      ]
     },
     "execution_count": 8,
     "metadata": {},
     "output_type": "execute_result"
    }
   ],
   "source": [
    "cdc_data['Sex'] = cdc_data['q2'].apply(lambda x: \"F\" if x == 2.0 else \"M\")\n",
    "cdc_data['Sex'].value_counts()"
   ]
  },
  {
   "cell_type": "markdown",
   "metadata": {},
   "source": [
    "### Race/Eth to Names"
   ]
  },
  {
   "cell_type": "code",
   "execution_count": 9,
   "metadata": {},
   "outputs": [
    {
     "data": {
      "text/plain": [
       "White                                 6261\n",
       "African American                      2796\n",
       "Multiple Hispanic/Latino              2104\n",
       "Hispanic/Latino                       1543\n",
       "Multiple non-Hispanic/Latino           823\n",
       "Asian                                  648\n",
       "American Indian/Alaska Native          137\n",
       "Native Hawaiian/Other Pacific Isld     116\n",
       "Name: raceeth, dtype: int64"
      ]
     },
     "execution_count": 9,
     "metadata": {},
     "output_type": "execute_result"
    }
   ],
   "source": [
    "cdc_data['raceeth'] = cdc_data['raceeth'].apply(lambda x: \"American Indian/Alaska Native\" if x == 1.0 else x)\n",
    "cdc_data['raceeth'] = cdc_data['raceeth'].apply(lambda x: \"Asian\" if x == 2.0 else x)\n",
    "cdc_data['raceeth'] = cdc_data['raceeth'].apply(lambda x: \"African American\" if x == 3.0 else x)\n",
    "cdc_data['raceeth'] = cdc_data['raceeth'].apply(lambda x: \"Native Hawaiian/Other Pacific Isld\" if x == 4.0 else x)                                              \n",
    "cdc_data['raceeth'] = cdc_data['raceeth'].apply(lambda x: \"White\" if x == 5.0 else x)                                             \n",
    "cdc_data['raceeth'] = cdc_data['raceeth'].apply(lambda x: \"Hispanic/Latino\" if x == 6.0 else x)\n",
    "cdc_data['raceeth'] = cdc_data['raceeth'].apply(lambda x: \"Multiple Hispanic/Latino\" if x == 7.0 else x)\n",
    "cdc_data['raceeth'] = cdc_data['raceeth'].apply(lambda x: \"Multiple non-Hispanic/Latino\" if x == 8.0 else x)\n",
    "\n",
    "cdc_data['raceeth'].value_counts()\n"
   ]
  },
  {
   "cell_type": "markdown",
   "metadata": {},
   "source": [
    "### Weight"
   ]
  },
  {
   "cell_type": "code",
   "execution_count": 10,
   "metadata": {},
   "outputs": [
    {
     "data": {
      "text/plain": [
       "count    13146.000000\n",
       "mean        67.687421\n",
       "std         17.456387\n",
       "min         24.950000\n",
       "25%         55.340000\n",
       "50%         63.500000\n",
       "75%         75.300000\n",
       "max        180.990000\n",
       "Name: wght, dtype: float64"
      ]
     },
     "execution_count": 10,
     "metadata": {},
     "output_type": "execute_result"
    }
   ],
   "source": [
    "cdc_data['q7'].describe()\n",
    "\n",
    "cdc_data['wght'] = cdc_data['q7']\n",
    "cdc_data['wght'].describe()"
   ]
  },
  {
   "cell_type": "code",
   "execution_count": 11,
   "metadata": {},
   "outputs": [],
   "source": [
    "cdc_data.drop(['q26', 'q1', 'q3', 'q2', 'q7', 'q67'], axis=1, inplace=True)\n"
   ]
  },
  {
   "cell_type": "code",
   "execution_count": 429,
   "metadata": {
    "scrolled": false
   },
   "outputs": [
    {
     "data": {
      "text/html": [
       "<div>\n",
       "<style scoped>\n",
       "    .dataframe tbody tr th:only-of-type {\n",
       "        vertical-align: middle;\n",
       "    }\n",
       "\n",
       "    .dataframe tbody tr th {\n",
       "        vertical-align: top;\n",
       "    }\n",
       "\n",
       "    .dataframe thead th {\n",
       "        text-align: right;\n",
       "    }\n",
       "</style>\n",
       "<table border=\"1\" class=\"dataframe\">\n",
       "  <thead>\n",
       "    <tr style=\"text-align: right;\">\n",
       "      <th></th>\n",
       "      <th>site</th>\n",
       "      <th>raceeth</th>\n",
       "      <th>q6orig</th>\n",
       "      <th>q7orig</th>\n",
       "      <th>record</th>\n",
       "      <th>orig_rec</th>\n",
       "      <th>q1</th>\n",
       "      <th>q2</th>\n",
       "      <th>q3</th>\n",
       "      <th>q4</th>\n",
       "      <th>...</th>\n",
       "      <th>BMIPCT</th>\n",
       "      <th>weight</th>\n",
       "      <th>stratum</th>\n",
       "      <th>psu</th>\n",
       "      <th>sex_id</th>\n",
       "      <th>suicide_consider</th>\n",
       "      <th>age</th>\n",
       "      <th>grade</th>\n",
       "      <th>Sex</th>\n",
       "      <th>wght</th>\n",
       "    </tr>\n",
       "  </thead>\n",
       "  <tbody>\n",
       "    <tr>\n",
       "      <th>0</th>\n",
       "      <td>XX</td>\n",
       "      <td>White</td>\n",
       "      <td>603</td>\n",
       "      <td>240</td>\n",
       "      <td>1</td>\n",
       "      <td>NaN</td>\n",
       "      <td>16 years old</td>\n",
       "      <td>2.0</td>\n",
       "      <td>11th grade</td>\n",
       "      <td>2.0</td>\n",
       "      <td>...</td>\n",
       "      <td>97.435947</td>\n",
       "      <td>0.5497</td>\n",
       "      <td>101</td>\n",
       "      <td>11170</td>\n",
       "      <td>Heterosexual</td>\n",
       "      <td>No</td>\n",
       "      <td>16 years old</td>\n",
       "      <td>11th grade</td>\n",
       "      <td>F</td>\n",
       "      <td>108.86</td>\n",
       "    </tr>\n",
       "    <tr>\n",
       "      <th>1</th>\n",
       "      <td>XX</td>\n",
       "      <td>Hispanic/Latino</td>\n",
       "      <td>503</td>\n",
       "      <td>130</td>\n",
       "      <td>2</td>\n",
       "      <td>NaN</td>\n",
       "      <td>18 or older</td>\n",
       "      <td>2.0</td>\n",
       "      <td>11th grade</td>\n",
       "      <td>1.0</td>\n",
       "      <td>...</td>\n",
       "      <td>60.882561</td>\n",
       "      <td>0.3811</td>\n",
       "      <td>101</td>\n",
       "      <td>11170</td>\n",
       "      <td>Heterosexual</td>\n",
       "      <td>No</td>\n",
       "      <td>18 or older</td>\n",
       "      <td>11th grade</td>\n",
       "      <td>F</td>\n",
       "      <td>58.97</td>\n",
       "    </tr>\n",
       "    <tr>\n",
       "      <th>2</th>\n",
       "      <td>XX</td>\n",
       "      <td>Multiple Hispanic/Latino</td>\n",
       "      <td>505</td>\n",
       "      <td>142</td>\n",
       "      <td>3</td>\n",
       "      <td>NaN</td>\n",
       "      <td>16 years old</td>\n",
       "      <td>1.0</td>\n",
       "      <td>11th grade</td>\n",
       "      <td>1.0</td>\n",
       "      <td>...</td>\n",
       "      <td>78.495112</td>\n",
       "      <td>0.4238</td>\n",
       "      <td>101</td>\n",
       "      <td>11170</td>\n",
       "      <td>Heterosexual</td>\n",
       "      <td>No</td>\n",
       "      <td>16 years old</td>\n",
       "      <td>11th grade</td>\n",
       "      <td>M</td>\n",
       "      <td>64.41</td>\n",
       "    </tr>\n",
       "    <tr>\n",
       "      <th>3</th>\n",
       "      <td>XX</td>\n",
       "      <td>Hispanic/Latino</td>\n",
       "      <td>503</td>\n",
       "      <td>143</td>\n",
       "      <td>4</td>\n",
       "      <td>NaN</td>\n",
       "      <td>17 years old</td>\n",
       "      <td>1.0</td>\n",
       "      <td>11th grade</td>\n",
       "      <td>1.0</td>\n",
       "      <td>...</td>\n",
       "      <td>84.614440</td>\n",
       "      <td>0.4238</td>\n",
       "      <td>101</td>\n",
       "      <td>11170</td>\n",
       "      <td>Heterosexual</td>\n",
       "      <td>No</td>\n",
       "      <td>17 years old</td>\n",
       "      <td>11th grade</td>\n",
       "      <td>M</td>\n",
       "      <td>64.86</td>\n",
       "    </tr>\n",
       "    <tr>\n",
       "      <th>4</th>\n",
       "      <td>XX</td>\n",
       "      <td>White</td>\n",
       "      <td>509</td>\n",
       "      <td>145</td>\n",
       "      <td>5</td>\n",
       "      <td>NaN</td>\n",
       "      <td>18 or older</td>\n",
       "      <td>2.0</td>\n",
       "      <td>11th grade</td>\n",
       "      <td>2.0</td>\n",
       "      <td>...</td>\n",
       "      <td>40.075252</td>\n",
       "      <td>0.5497</td>\n",
       "      <td>101</td>\n",
       "      <td>11170</td>\n",
       "      <td>Heterosexual</td>\n",
       "      <td>No</td>\n",
       "      <td>18 or older</td>\n",
       "      <td>11th grade</td>\n",
       "      <td>F</td>\n",
       "      <td>65.77</td>\n",
       "    </tr>\n",
       "  </tbody>\n",
       "</table>\n",
       "<p>5 rows × 115 columns</p>\n",
       "</div>"
      ],
      "text/plain": [
       "  site                   raceeth q6orig q7orig  record  orig_rec  \\\n",
       "0   XX                     White    603    240       1       NaN   \n",
       "1   XX           Hispanic/Latino    503    130       2       NaN   \n",
       "2   XX  Multiple Hispanic/Latino    505    142       3       NaN   \n",
       "3   XX           Hispanic/Latino    503    143       4       NaN   \n",
       "4   XX                     White    509    145       5       NaN   \n",
       "\n",
       "             q1   q2          q3   q4  ...     BMIPCT  weight  stratum    psu  \\\n",
       "0  16 years old  2.0  11th grade  2.0  ...  97.435947  0.5497      101  11170   \n",
       "1   18 or older  2.0  11th grade  1.0  ...  60.882561  0.3811      101  11170   \n",
       "2  16 years old  1.0  11th grade  1.0  ...  78.495112  0.4238      101  11170   \n",
       "3  17 years old  1.0  11th grade  1.0  ...  84.614440  0.4238      101  11170   \n",
       "4   18 or older  2.0  11th grade  2.0  ...  40.075252  0.5497      101  11170   \n",
       "\n",
       "         sex_id  suicide_consider           age       grade  Sex    wght  \n",
       "0  Heterosexual                No  16 years old  11th grade    F  108.86  \n",
       "1  Heterosexual                No   18 or older  11th grade    F   58.97  \n",
       "2  Heterosexual                No  16 years old  11th grade    M   64.41  \n",
       "3  Heterosexual                No  17 years old  11th grade    M   64.86  \n",
       "4  Heterosexual                No   18 or older  11th grade    F   65.77  \n",
       "\n",
       "[5 rows x 115 columns]"
      ]
     },
     "execution_count": 429,
     "metadata": {},
     "output_type": "execute_result"
    }
   ],
   "source": [
    "cdc_data.head()"
   ]
  },
  {
   "cell_type": "markdown",
   "metadata": {},
   "source": [
    "## Making Weighted Values"
   ]
  },
  {
   "cell_type": "markdown",
   "metadata": {},
   "source": [
    "# Q13,Q14: Weapon carry and Demographics\n",
    "\n",
    "Question 13:\n",
    "During the past 30 days, on how many days did you carry a weapon such as a gun, knife, or club on school property? \n",
    "\n",
    "* 1.0 = 0 days \n",
    "* 2.0 = 1 day \n",
    "* 3.0 = 2 or 3 days\n",
    "* 4.0 = 4 or 5 days \n",
    "* 5.0 = 6 or more days\n",
    "\n",
    "\n",
    "\n",
    "Question 14:\n",
    "\"During the past 12 months, on how many days did you carry a gun? (Do not count the days when you carried a gun only for hunting or for a sport, such as target shooting.)\"\n",
    "\n",
    "* 1.0 = 0 days (dropped just for viz purposes)\n",
    "* 2.0 = 1 day \n",
    "* 3.0 = 2 or 3 days\n",
    "* 4.0 = 4 or 5 days \n",
    "* 5.0 = 6 or more days"
   ]
  },
  {
   "cell_type": "code",
   "execution_count": 12,
   "metadata": {},
   "outputs": [],
   "source": [
    "### making new DF for gun carry and demographic variables with weights\n",
    "\n",
    "cdc_data['Gun_carry'] = cdc_data[\"q14\"].astype('object')\n",
    "cdc_data['oth_weapons'] = cdc_data[\"q13\"].astype('object')\n",
    "\n",
    "cdc_data.drop(['q14', 'q13'], axis=1, inplace=True)\n",
    "\n",
    "## DF\n",
    "Demo = pd.DataFrame(cdc_data[['Sex', 'raceeth', 'age', 'grade', 'suicide_consider', 'wght', 'weight', 'sex_id']])\n",
    "weapon_carry = pd.DataFrame(cdc_data[['Gun_carry', 'oth_weapons', 'weight']])"
   ]
  },
  {
   "cell_type": "code",
   "execution_count": 13,
   "metadata": {},
   "outputs": [],
   "source": [
    "weapon_carry = pd.merge(weapon_carry, Demo, how='outer', on='weight')"
   ]
  },
  {
   "cell_type": "code",
   "execution_count": 14,
   "metadata": {},
   "outputs": [
    {
     "data": {
      "text/html": [
       "<div>\n",
       "<style scoped>\n",
       "    .dataframe tbody tr th:only-of-type {\n",
       "        vertical-align: middle;\n",
       "    }\n",
       "\n",
       "    .dataframe tbody tr th {\n",
       "        vertical-align: top;\n",
       "    }\n",
       "\n",
       "    .dataframe thead th {\n",
       "        text-align: right;\n",
       "    }\n",
       "</style>\n",
       "<table border=\"1\" class=\"dataframe\">\n",
       "  <thead>\n",
       "    <tr style=\"text-align: right;\">\n",
       "      <th></th>\n",
       "      <th>Gun_carry</th>\n",
       "      <th>oth_weapons</th>\n",
       "      <th>weight</th>\n",
       "      <th>Sex</th>\n",
       "      <th>raceeth</th>\n",
       "      <th>age</th>\n",
       "      <th>grade</th>\n",
       "      <th>suicide_consider</th>\n",
       "      <th>wght</th>\n",
       "      <th>sex_id</th>\n",
       "    </tr>\n",
       "  </thead>\n",
       "  <tbody>\n",
       "    <tr>\n",
       "      <th>0</th>\n",
       "      <td>1</td>\n",
       "      <td>1</td>\n",
       "      <td>0.5497</td>\n",
       "      <td>F</td>\n",
       "      <td>White</td>\n",
       "      <td>16 years old</td>\n",
       "      <td>11th grade</td>\n",
       "      <td>No</td>\n",
       "      <td>108.86</td>\n",
       "      <td>Heterosexual</td>\n",
       "    </tr>\n",
       "    <tr>\n",
       "      <th>1</th>\n",
       "      <td>1</td>\n",
       "      <td>1</td>\n",
       "      <td>0.5497</td>\n",
       "      <td>F</td>\n",
       "      <td>White</td>\n",
       "      <td>18 or older</td>\n",
       "      <td>11th grade</td>\n",
       "      <td>No</td>\n",
       "      <td>65.77</td>\n",
       "      <td>Heterosexual</td>\n",
       "    </tr>\n",
       "    <tr>\n",
       "      <th>2</th>\n",
       "      <td>1</td>\n",
       "      <td>1</td>\n",
       "      <td>0.5497</td>\n",
       "      <td>F</td>\n",
       "      <td>White</td>\n",
       "      <td>16 years old</td>\n",
       "      <td>11th grade</td>\n",
       "      <td>Yes</td>\n",
       "      <td>68.04</td>\n",
       "      <td>Heterosexual</td>\n",
       "    </tr>\n",
       "    <tr>\n",
       "      <th>3</th>\n",
       "      <td>1</td>\n",
       "      <td>1</td>\n",
       "      <td>0.5497</td>\n",
       "      <td>F</td>\n",
       "      <td>White</td>\n",
       "      <td>16 years old</td>\n",
       "      <td>11th grade</td>\n",
       "      <td>No</td>\n",
       "      <td>NaN</td>\n",
       "      <td>Heterosexual</td>\n",
       "    </tr>\n",
       "    <tr>\n",
       "      <th>4</th>\n",
       "      <td>1</td>\n",
       "      <td>1</td>\n",
       "      <td>0.5497</td>\n",
       "      <td>F</td>\n",
       "      <td>White</td>\n",
       "      <td>16 years old</td>\n",
       "      <td>11th grade</td>\n",
       "      <td>No</td>\n",
       "      <td>117.94</td>\n",
       "      <td>Heterosexual</td>\n",
       "    </tr>\n",
       "  </tbody>\n",
       "</table>\n",
       "</div>"
      ],
      "text/plain": [
       "  Gun_carry oth_weapons  weight Sex raceeth           age       grade  \\\n",
       "0         1           1  0.5497   F   White  16 years old  11th grade   \n",
       "1         1           1  0.5497   F   White   18 or older  11th grade   \n",
       "2         1           1  0.5497   F   White  16 years old  11th grade   \n",
       "3         1           1  0.5497   F   White  16 years old  11th grade   \n",
       "4         1           1  0.5497   F   White  16 years old  11th grade   \n",
       "\n",
       "  suicide_consider    wght        sex_id  \n",
       "0               No  108.86  Heterosexual  \n",
       "1               No   65.77  Heterosexual  \n",
       "2              Yes   68.04  Heterosexual  \n",
       "3               No     NaN  Heterosexual  \n",
       "4               No  117.94  Heterosexual  "
      ]
     },
     "execution_count": 14,
     "metadata": {},
     "output_type": "execute_result"
    }
   ],
   "source": [
    "weapon_carry.head()"
   ]
  },
  {
   "cell_type": "markdown",
   "metadata": {},
   "source": [
    "## Missing Gun Carry"
   ]
  },
  {
   "cell_type": "code",
   "execution_count": 15,
   "metadata": {},
   "outputs": [
    {
     "data": {
      "text/html": [
       "<div>\n",
       "<style scoped>\n",
       "    .dataframe tbody tr th:only-of-type {\n",
       "        vertical-align: middle;\n",
       "    }\n",
       "\n",
       "    .dataframe tbody tr th {\n",
       "        vertical-align: top;\n",
       "    }\n",
       "\n",
       "    .dataframe thead th {\n",
       "        text-align: right;\n",
       "    }\n",
       "</style>\n",
       "<table border=\"1\" class=\"dataframe\">\n",
       "  <thead>\n",
       "    <tr style=\"text-align: right;\">\n",
       "      <th></th>\n",
       "      <th>Perc</th>\n",
       "      <th>Sum</th>\n",
       "    </tr>\n",
       "  </thead>\n",
       "  <tbody>\n",
       "    <tr>\n",
       "      <th>wght</th>\n",
       "      <td>0.093809</td>\n",
       "      <td>21472</td>\n",
       "    </tr>\n",
       "    <tr>\n",
       "      <th>sex_id</th>\n",
       "      <td>0.047110</td>\n",
       "      <td>10783</td>\n",
       "    </tr>\n",
       "    <tr>\n",
       "      <th>Gun_carry</th>\n",
       "      <td>0.026436</td>\n",
       "      <td>6051</td>\n",
       "    </tr>\n",
       "    <tr>\n",
       "      <th>raceeth</th>\n",
       "      <td>0.025977</td>\n",
       "      <td>5946</td>\n",
       "    </tr>\n",
       "    <tr>\n",
       "      <th>oth_weapons</th>\n",
       "      <td>0.015483</td>\n",
       "      <td>3544</td>\n",
       "    </tr>\n",
       "    <tr>\n",
       "      <th>grade</th>\n",
       "      <td>0.007257</td>\n",
       "      <td>1661</td>\n",
       "    </tr>\n",
       "    <tr>\n",
       "      <th>age</th>\n",
       "      <td>0.004854</td>\n",
       "      <td>1111</td>\n",
       "    </tr>\n",
       "  </tbody>\n",
       "</table>\n",
       "</div>"
      ],
      "text/plain": [
       "                 Perc    Sum\n",
       "wght         0.093809  21472\n",
       "sex_id       0.047110  10783\n",
       "Gun_carry    0.026436   6051\n",
       "raceeth      0.025977   5946\n",
       "oth_weapons  0.015483   3544\n",
       "grade        0.007257   1661\n",
       "age          0.004854   1111"
      ]
     },
     "execution_count": 15,
     "metadata": {},
     "output_type": "execute_result"
    }
   ],
   "source": [
    "################################################################################\n",
    "\n",
    "\n",
    "total = weapon_carry.isna().sum()/weapon_carry.isna().count()\n",
    "sum=weapon_carry.isna().sum()\n",
    "\n",
    "missing=pd.concat([total,sum],axis=1,keys=['Perc','Sum']).sort_values(by='Perc',ascending=False)\n",
    "\n",
    "colstodrop = missing[missing['Sum']>0].index\n",
    "\n",
    "missing[missing['Sum']>0]"
   ]
  },
  {
   "cell_type": "markdown",
   "metadata": {},
   "source": [
    "## Impute"
   ]
  },
  {
   "cell_type": "markdown",
   "metadata": {},
   "source": [
    "#### Demographics"
   ]
  },
  {
   "cell_type": "code",
   "execution_count": 43,
   "metadata": {
    "scrolled": true
   },
   "outputs": [
    {
     "data": {
      "text/plain": [
       "Sex                    0\n",
       "raceeth              337\n",
       "age                   81\n",
       "grade                114\n",
       "suicide_consider       0\n",
       "wght                1619\n",
       "weight                 0\n",
       "sex_id               657\n",
       "dtype: int64"
      ]
     },
     "execution_count": 43,
     "metadata": {},
     "output_type": "execute_result"
    }
   ],
   "source": [
    "##### DEMOGraphic SET\n",
    "\n",
    "Demo.isna().sum()"
   ]
  },
  {
   "cell_type": "code",
   "execution_count": 48,
   "metadata": {},
   "outputs": [
    {
     "name": "stdout",
     "output_type": "stream",
     "text": [
      "Raceeth unique Values:  ['White' 'Hispanic/Latino' 'Multiple Hispanic/Latino' 'African American'\n",
      " 'Asian' 'American Indian/Alaska Native' 'Multiple non-Hispanic/Latino'\n",
      " 'Native Hawaiian/Other Pacific Isld']\n",
      "Age unique Values:  ['16 years old' '18 or older' '17 years old' '14 years old' '15 years old'\n",
      " '12 or younger' '13 years old']\n",
      "Grade unique Values:  ['11th grade' '12th grade' '9th grade' '10th grade' 'Ungraded or other']\n",
      "Wght missing: 0\n",
      "Sex id unique Values:  ['Heterosexual' 'Unsure' 'Bisexual' 'Gay or Lesbian']\n"
     ]
    }
   ],
   "source": [
    "Demo['raceeth']=Demo['raceeth'].fillna('White')\n",
    "print('Raceeth unique Values: ', Demo['raceeth'].unique())\n",
    "\n",
    "Demo['age']=Demo['age'].fillna('16 years old')\n",
    "print('Age unique Values: ', Demo['age'].unique())\n",
    "\n",
    "Demo['grade']=Demo['grade'].fillna('9th grade')\n",
    "print('Grade unique Values: ', Demo['grade'].unique())\n",
    "\n",
    "Demo['wght'] = Demo['wght'].apply(lambda x: np.random.choice(Demo['wght'].dropna().values) if np.isnan(x) else x)\n",
    "print('Wght missing:', Demo['wght'].isna().sum())\n",
    "\n",
    "Demo['sex_id']=Demo['sex_id'].fillna('Heterosexual')\n",
    "print('Sex id unique Values: ', Demo['sex_id'].unique())"
   ]
  },
  {
   "cell_type": "markdown",
   "metadata": {},
   "source": [
    "#### Weapon Carry"
   ]
  },
  {
   "cell_type": "code",
   "execution_count": 21,
   "metadata": {},
   "outputs": [
    {
     "name": "stdout",
     "output_type": "stream",
     "text": [
      "Wght missing: 0\n"
     ]
    },
    {
     "data": {
      "text/plain": [
       "1.0    215018\n",
       "5.0      4087\n",
       "2.0      3544\n",
       "3.0      1910\n",
       "4.0       788\n",
       "Name: oth_weapons, dtype: int64"
      ]
     },
     "execution_count": 21,
     "metadata": {},
     "output_type": "execute_result"
    }
   ],
   "source": [
    "#### wght with random \n",
    "\n",
    "weapon_carry['wght'] = weapon_carry['wght'].apply(lambda x: np.random.choice(weapon_carry['wght'].dropna().values) if np.isnan(x) else x)\n",
    "#.fillna(housing_merge['LotFrontage'].mean(), inplace=True)\n",
    "print('Wght missing:', weapon_carry['wght'].isna().sum())\n",
    "\n",
    "weapon_carry.oth_weapons.value_counts()\n"
   ]
  },
  {
   "cell_type": "code",
   "execution_count": 23,
   "metadata": {
    "scrolled": true
   },
   "outputs": [
    {
     "name": "stdout",
     "output_type": "stream",
     "text": [
      "Oth_weapons unique Values:  [1. 5. 3. 4. 2.]\n",
      "Gun_carry unique Values:  [1. 3. 5. 4. 2.]\n",
      "Raceeth unique Values:  ['White' 'Hispanic/Latino' 'Multiple Hispanic/Latino' 'African American'\n",
      " 'Asian' 'Multiple non-Hispanic/Latino' 'American Indian/Alaska Native'\n",
      " 'Native Hawaiian/Other Pacific Isld']\n",
      "Age unique Values:  ['16 years old' '18 or older' '17 years old' '14 years old' '15 years old'\n",
      " '12 or younger' '13 years old']\n",
      "Grade unique Values:  ['11th grade' '12th grade' '9th grade' '10th grade' 'Ungraded or other']\n",
      "Sex id unique Values:  ['Heterosexual' 'Unsure' 'Bisexual' 'Gay or Lesbian']\n"
     ]
    }
   ],
   "source": [
    "#### oth_weapon, Gun_carry, raceeth, grade, age with mode\n",
    "weapon_carry['oth_weapons']=weapon_carry['oth_weapons'].fillna(1.0)\n",
    "print('Oth_weapons unique Values: ', weapon_carry['oth_weapons'].unique())\n",
    "\n",
    "weapon_carry['Gun_carry']=weapon_carry['Gun_carry'].fillna(1.0)\n",
    "print('Gun_carry unique Values: ', weapon_carry['Gun_carry'].unique())\n",
    "\n",
    "weapon_carry['raceeth']=weapon_carry['raceeth'].fillna('White')\n",
    "print('Raceeth unique Values: ', weapon_carry['raceeth'].unique())\n",
    "\n",
    "weapon_carry['age']=weapon_carry['age'].fillna('16 years old')\n",
    "print('Age unique Values: ', weapon_carry['age'].unique())\n",
    "\n",
    "weapon_carry['grade']=weapon_carry['grade'].fillna('9th grade')\n",
    "print('Grade unique Values: ', weapon_carry['grade'].unique())\n",
    "\n",
    "weapon_carry['sex_id']=weapon_carry['sex_id'].fillna('Heterosexual')\n",
    "print('Sex id unique Values: ', weapon_carry['sex_id'].unique())"
   ]
  },
  {
   "cell_type": "code",
   "execution_count": 24,
   "metadata": {},
   "outputs": [
    {
     "data": {
      "text/plain": [
       "Gun_carry           0\n",
       "oth_weapons         0\n",
       "weight              0\n",
       "Sex                 0\n",
       "raceeth             0\n",
       "age                 0\n",
       "grade               0\n",
       "suicide_consider    0\n",
       "wght                0\n",
       "sex_id              0\n",
       "dtype: int64"
      ]
     },
     "execution_count": 24,
     "metadata": {},
     "output_type": "execute_result"
    }
   ],
   "source": [
    "weapon_carry.isnull().sum()"
   ]
  },
  {
   "cell_type": "code",
   "execution_count": 27,
   "metadata": {},
   "outputs": [],
   "source": [
    "weapon_carry[['Gun_carry', 'oth_weapons']] = weapon_carry[['Gun_carry', 'oth_weapons']].astype('object')"
   ]
  },
  {
   "cell_type": "markdown",
   "metadata": {},
   "source": [
    "## Normality"
   ]
  },
  {
   "cell_type": "code",
   "execution_count": 29,
   "metadata": {
    "scrolled": true
   },
   "outputs": [
    {
     "data": {
      "text/html": [
       "<div>\n",
       "<style scoped>\n",
       "    .dataframe tbody tr th:only-of-type {\n",
       "        vertical-align: middle;\n",
       "    }\n",
       "\n",
       "    .dataframe tbody tr th {\n",
       "        vertical-align: top;\n",
       "    }\n",
       "\n",
       "    .dataframe thead th {\n",
       "        text-align: right;\n",
       "    }\n",
       "</style>\n",
       "<table border=\"1\" class=\"dataframe\">\n",
       "  <thead>\n",
       "    <tr style=\"text-align: right;\">\n",
       "      <th></th>\n",
       "      <th>Skewness</th>\n",
       "    </tr>\n",
       "  </thead>\n",
       "  <tbody>\n",
       "    <tr>\n",
       "      <th>weight</th>\n",
       "      <td>2.812862</td>\n",
       "    </tr>\n",
       "    <tr>\n",
       "      <th>wght</th>\n",
       "      <td>1.506670</td>\n",
       "    </tr>\n",
       "  </tbody>\n",
       "</table>\n",
       "</div>"
      ],
      "text/plain": [
       "        Skewness\n",
       "weight  2.812862\n",
       "wght    1.506670"
      ]
     },
     "execution_count": 29,
     "metadata": {},
     "output_type": "execute_result"
    }
   ],
   "source": [
    "skew_wep_carry = pd.DataFrame(data = weapon_carry.select_dtypes(include = ['int64', 'float64'\n",
    "]).skew(), columns=['Skewness'])\n",
    "\n",
    "skew_gun_sort = skew_wep_carry.sort_values(ascending = False, by ='Skewness')\n",
    "skew_gun_sort"
   ]
  },
  {
   "cell_type": "code",
   "execution_count": 31,
   "metadata": {},
   "outputs": [
    {
     "data": {
      "text/plain": [
       "<matplotlib.axes._subplots.AxesSubplot at 0x1100ef7b8>"
      ]
     },
     "execution_count": 31,
     "metadata": {},
     "output_type": "execute_result"
    },
    {
     "data": {
      "image/png": "[encoded data removed]",
      "text/plain": [
       "<Figure size 432x288 with 1 Axes>"
      ]
     },
     "metadata": {
      "needs_background": "light"
     },
     "output_type": "display_data"
    }
   ],
   "source": [
    "sns.distplot(weapon_carry['wght'])"
   ]
  },
  {
   "cell_type": "code",
   "execution_count": 32,
   "metadata": {},
   "outputs": [],
   "source": [
    "weapon_carry['wght'] = np.log1p(weapon_carry['wght'])"
   ]
  },
  {
   "cell_type": "code",
   "execution_count": 33,
   "metadata": {},
   "outputs": [
    {
     "data": {
      "text/plain": [
       "<matplotlib.axes._subplots.AxesSubplot at 0x1a25360390>"
      ]
     },
     "execution_count": 33,
     "metadata": {},
     "output_type": "execute_result"
    },
    {
     "data": {
      "image/png": "[encoded data removed]",
      "text/plain": [
       "<Figure size 432x288 with 1 Axes>"
      ]
     },
     "metadata": {
      "needs_background": "light"
     },
     "output_type": "display_data"
    }
   ],
   "source": [
    "sns.distplot(weapon_carry['wght'])"
   ]
  },
  {
   "cell_type": "code",
   "execution_count": 34,
   "metadata": {},
   "outputs": [
    {
     "data": {
      "text/plain": [
       "Gun_carry           0\n",
       "oth_weapons         0\n",
       "weight              0\n",
       "Sex                 0\n",
       "raceeth             0\n",
       "age                 0\n",
       "grade               0\n",
       "suicide_consider    0\n",
       "wght                0\n",
       "sex_id              0\n",
       "dtype: int64"
      ]
     },
     "execution_count": 34,
     "metadata": {},
     "output_type": "execute_result"
    }
   ],
   "source": [
    "weapon_carry.isnull().sum()"
   ]
  },
  {
   "cell_type": "code",
   "execution_count": 35,
   "metadata": {},
   "outputs": [],
   "source": [
    "### to csv\n",
    "weapon_carry.to_csv('weapon_carry.csv', index = False)"
   ]
  },
  {
   "cell_type": "markdown",
   "metadata": {},
   "source": [
    "# Q15:22 Other Violence and Demographics \n",
    "\n",
    "* Q15: During the past 30 days, on how many days did you not go to school because you felt you would be unsafe at school or on your way to or from school?\n",
    "\n",
    "* Q16: During the past 12 months, how many times has someone threatened or injured you with a weapon such as a gun, knife, or club on school property?\n",
    "\n",
    "* Q17: During the past 12 months, how many times were you in a physical fight?\n",
    "\n",
    "* Q18: During the past 12 months, how many times were you in a physical fight on school property?\n",
    "\n",
    "* Q19: Have you ever been physically forced to have sexual intercourse when you did not want to?\n",
    "\n",
    "* Q20: During the past 12 months, how many times did anyone force you to do sexual things that you did not want to do? (Count such things as kissing, touching, or being physically forced to have sexual intercourse.)\n",
    "\n",
    "* Q21: During the past 12 months, how many times did someone you were dating or going out with force you to do sexual things that you did not want to do? (Count such things as kissing, touching, or being physically forced to have sexual intercourse.)\n",
    "\n",
    "* Q22: During the past 12 months, how many times did someone you were dating or going out with physically hurt you on purpose? (Count such things as being hit, slammed into something, or injured with an object"
   ]
  },
  {
   "cell_type": "code",
   "execution_count": 49,
   "metadata": {},
   "outputs": [
    {
     "data": {
      "text/plain": [
       "1.0    11324\n",
       "2.0      461\n",
       "3.0      233\n",
       "5.0      100\n",
       "4.0       53\n",
       "Name: q15, dtype: int64"
      ]
     },
     "execution_count": 49,
     "metadata": {},
     "output_type": "execute_result"
    }
   ],
   "source": [
    "cdc_data['q15'].value_counts()"
   ]
  },
  {
   "cell_type": "code",
   "execution_count": 50,
   "metadata": {
    "scrolled": true
   },
   "outputs": [
    {
     "data": {
      "text/html": [
       "<div>\n",
       "<style scoped>\n",
       "    .dataframe tbody tr th:only-of-type {\n",
       "        vertical-align: middle;\n",
       "    }\n",
       "\n",
       "    .dataframe tbody tr th {\n",
       "        vertical-align: top;\n",
       "    }\n",
       "\n",
       "    .dataframe thead th {\n",
       "        text-align: right;\n",
       "    }\n",
       "</style>\n",
       "<table border=\"1\" class=\"dataframe\">\n",
       "  <thead>\n",
       "    <tr style=\"text-align: right;\">\n",
       "      <th></th>\n",
       "      <th>q15</th>\n",
       "      <th>q16</th>\n",
       "      <th>q17</th>\n",
       "      <th>q18</th>\n",
       "      <th>q19</th>\n",
       "      <th>q20</th>\n",
       "      <th>q21</th>\n",
       "      <th>q22</th>\n",
       "      <th>weight</th>\n",
       "    </tr>\n",
       "  </thead>\n",
       "  <tbody>\n",
       "    <tr>\n",
       "      <th>0</th>\n",
       "      <td>1.0</td>\n",
       "      <td>1.0</td>\n",
       "      <td>1.0</td>\n",
       "      <td>1.0</td>\n",
       "      <td>2.0</td>\n",
       "      <td>1.0</td>\n",
       "      <td>1.0</td>\n",
       "      <td>1.0</td>\n",
       "      <td>0.5497</td>\n",
       "    </tr>\n",
       "    <tr>\n",
       "      <th>1</th>\n",
       "      <td>1.0</td>\n",
       "      <td>1.0</td>\n",
       "      <td>1.0</td>\n",
       "      <td>1.0</td>\n",
       "      <td>2.0</td>\n",
       "      <td>1.0</td>\n",
       "      <td>2.0</td>\n",
       "      <td>2.0</td>\n",
       "      <td>0.3811</td>\n",
       "    </tr>\n",
       "    <tr>\n",
       "      <th>2</th>\n",
       "      <td>1.0</td>\n",
       "      <td>1.0</td>\n",
       "      <td>1.0</td>\n",
       "      <td>1.0</td>\n",
       "      <td>2.0</td>\n",
       "      <td>1.0</td>\n",
       "      <td>1.0</td>\n",
       "      <td>1.0</td>\n",
       "      <td>0.4238</td>\n",
       "    </tr>\n",
       "    <tr>\n",
       "      <th>3</th>\n",
       "      <td>1.0</td>\n",
       "      <td>1.0</td>\n",
       "      <td>3.0</td>\n",
       "      <td>1.0</td>\n",
       "      <td>2.0</td>\n",
       "      <td>1.0</td>\n",
       "      <td>2.0</td>\n",
       "      <td>2.0</td>\n",
       "      <td>0.4238</td>\n",
       "    </tr>\n",
       "    <tr>\n",
       "      <th>4</th>\n",
       "      <td>1.0</td>\n",
       "      <td>1.0</td>\n",
       "      <td>3.0</td>\n",
       "      <td>3.0</td>\n",
       "      <td>2.0</td>\n",
       "      <td>1.0</td>\n",
       "      <td>2.0</td>\n",
       "      <td>2.0</td>\n",
       "      <td>0.5497</td>\n",
       "    </tr>\n",
       "  </tbody>\n",
       "</table>\n",
       "</div>"
      ],
      "text/plain": [
       "   q15  q16  q17  q18  q19  q20  q21  q22  weight\n",
       "0  1.0  1.0  1.0  1.0  2.0  1.0  1.0  1.0  0.5497\n",
       "1  1.0  1.0  1.0  1.0  2.0  1.0  2.0  2.0  0.3811\n",
       "2  1.0  1.0  1.0  1.0  2.0  1.0  1.0  1.0  0.4238\n",
       "3  1.0  1.0  3.0  1.0  2.0  1.0  2.0  2.0  0.4238\n",
       "4  1.0  1.0  3.0  3.0  2.0  1.0  2.0  2.0  0.5497"
      ]
     },
     "execution_count": 50,
     "metadata": {},
     "output_type": "execute_result"
    }
   ],
   "source": [
    "violence = pd.DataFrame(cdc_data[['q15', 'q16', 'q17', 'q18', 'q19', 'q20', 'q21', 'q22', 'weight']])\n",
    "violence.head()"
   ]
  },
  {
   "cell_type": "code",
   "execution_count": 51,
   "metadata": {},
   "outputs": [
    {
     "data": {
      "text/html": [
       "<div>\n",
       "<style scoped>\n",
       "    .dataframe tbody tr th:only-of-type {\n",
       "        vertical-align: middle;\n",
       "    }\n",
       "\n",
       "    .dataframe tbody tr th {\n",
       "        vertical-align: top;\n",
       "    }\n",
       "\n",
       "    .dataframe thead th {\n",
       "        text-align: right;\n",
       "    }\n",
       "</style>\n",
       "<table border=\"1\" class=\"dataframe\">\n",
       "  <thead>\n",
       "    <tr style=\"text-align: right;\">\n",
       "      <th></th>\n",
       "      <th>q15</th>\n",
       "      <th>q16</th>\n",
       "      <th>q17</th>\n",
       "      <th>q18</th>\n",
       "      <th>q19</th>\n",
       "      <th>q20</th>\n",
       "      <th>q21</th>\n",
       "      <th>q22</th>\n",
       "      <th>weight</th>\n",
       "      <th>Sex</th>\n",
       "      <th>raceeth</th>\n",
       "      <th>age</th>\n",
       "      <th>grade</th>\n",
       "      <th>suicide_consider</th>\n",
       "      <th>wght</th>\n",
       "      <th>sex_id</th>\n",
       "    </tr>\n",
       "  </thead>\n",
       "  <tbody>\n",
       "    <tr>\n",
       "      <th>0</th>\n",
       "      <td>1.0</td>\n",
       "      <td>1.0</td>\n",
       "      <td>1.0</td>\n",
       "      <td>1.0</td>\n",
       "      <td>2.0</td>\n",
       "      <td>1.0</td>\n",
       "      <td>1.0</td>\n",
       "      <td>1.0</td>\n",
       "      <td>0.5497</td>\n",
       "      <td>F</td>\n",
       "      <td>White</td>\n",
       "      <td>16 years old</td>\n",
       "      <td>11th grade</td>\n",
       "      <td>No</td>\n",
       "      <td>108.86</td>\n",
       "      <td>Heterosexual</td>\n",
       "    </tr>\n",
       "    <tr>\n",
       "      <th>1</th>\n",
       "      <td>1.0</td>\n",
       "      <td>1.0</td>\n",
       "      <td>1.0</td>\n",
       "      <td>1.0</td>\n",
       "      <td>2.0</td>\n",
       "      <td>1.0</td>\n",
       "      <td>1.0</td>\n",
       "      <td>1.0</td>\n",
       "      <td>0.5497</td>\n",
       "      <td>F</td>\n",
       "      <td>White</td>\n",
       "      <td>18 or older</td>\n",
       "      <td>11th grade</td>\n",
       "      <td>No</td>\n",
       "      <td>65.77</td>\n",
       "      <td>Heterosexual</td>\n",
       "    </tr>\n",
       "    <tr>\n",
       "      <th>2</th>\n",
       "      <td>1.0</td>\n",
       "      <td>1.0</td>\n",
       "      <td>1.0</td>\n",
       "      <td>1.0</td>\n",
       "      <td>2.0</td>\n",
       "      <td>1.0</td>\n",
       "      <td>1.0</td>\n",
       "      <td>1.0</td>\n",
       "      <td>0.5497</td>\n",
       "      <td>F</td>\n",
       "      <td>White</td>\n",
       "      <td>16 years old</td>\n",
       "      <td>11th grade</td>\n",
       "      <td>Yes</td>\n",
       "      <td>68.04</td>\n",
       "      <td>Heterosexual</td>\n",
       "    </tr>\n",
       "    <tr>\n",
       "      <th>3</th>\n",
       "      <td>1.0</td>\n",
       "      <td>1.0</td>\n",
       "      <td>1.0</td>\n",
       "      <td>1.0</td>\n",
       "      <td>2.0</td>\n",
       "      <td>1.0</td>\n",
       "      <td>1.0</td>\n",
       "      <td>1.0</td>\n",
       "      <td>0.5497</td>\n",
       "      <td>F</td>\n",
       "      <td>White</td>\n",
       "      <td>16 years old</td>\n",
       "      <td>11th grade</td>\n",
       "      <td>No</td>\n",
       "      <td>81.65</td>\n",
       "      <td>Heterosexual</td>\n",
       "    </tr>\n",
       "    <tr>\n",
       "      <th>4</th>\n",
       "      <td>1.0</td>\n",
       "      <td>1.0</td>\n",
       "      <td>1.0</td>\n",
       "      <td>1.0</td>\n",
       "      <td>2.0</td>\n",
       "      <td>1.0</td>\n",
       "      <td>1.0</td>\n",
       "      <td>1.0</td>\n",
       "      <td>0.5497</td>\n",
       "      <td>F</td>\n",
       "      <td>White</td>\n",
       "      <td>16 years old</td>\n",
       "      <td>11th grade</td>\n",
       "      <td>No</td>\n",
       "      <td>117.94</td>\n",
       "      <td>Heterosexual</td>\n",
       "    </tr>\n",
       "  </tbody>\n",
       "</table>\n",
       "</div>"
      ],
      "text/plain": [
       "   q15  q16  q17  q18  q19  q20  q21  q22  weight Sex raceeth           age  \\\n",
       "0  1.0  1.0  1.0  1.0  2.0  1.0  1.0  1.0  0.5497   F   White  16 years old   \n",
       "1  1.0  1.0  1.0  1.0  2.0  1.0  1.0  1.0  0.5497   F   White   18 or older   \n",
       "2  1.0  1.0  1.0  1.0  2.0  1.0  1.0  1.0  0.5497   F   White  16 years old   \n",
       "3  1.0  1.0  1.0  1.0  2.0  1.0  1.0  1.0  0.5497   F   White  16 years old   \n",
       "4  1.0  1.0  1.0  1.0  2.0  1.0  1.0  1.0  0.5497   F   White  16 years old   \n",
       "\n",
       "        grade suicide_consider    wght        sex_id  \n",
       "0  11th grade               No  108.86  Heterosexual  \n",
       "1  11th grade               No   65.77  Heterosexual  \n",
       "2  11th grade              Yes   68.04  Heterosexual  \n",
       "3  11th grade               No   81.65  Heterosexual  \n",
       "4  11th grade               No  117.94  Heterosexual  "
      ]
     },
     "execution_count": 51,
     "metadata": {},
     "output_type": "execute_result"
    }
   ],
   "source": [
    "violence = pd.merge(violence, Demo, how='outer', on='weight')\n",
    "violence.head()"
   ]
  },
  {
   "cell_type": "code",
   "execution_count": 52,
   "metadata": {},
   "outputs": [],
   "source": [
    "violence['unsafe'] = violence['q15']\n",
    "violence['inj_weapon_school'] = violence['q16']\n",
    "violence['phys_fight'] = violence['q17']\n",
    "violence['phys_fight_school'] = violence['q18']\n",
    "violence['forced_sex'] = violence['q19']\n",
    "violence['forced_sex_2'] = violence['q20']\n",
    "violence['dating_viol'] = violence['q21']\n",
    "violence['dating_viol_2'] = violence['q22']\n",
    "\n",
    "violence.head()\n",
    "violence.drop(['q15','q16','q17', 'q18', 'q19', 'q20', 'q21', 'q22'], axis = 1, inplace = True)"
   ]
  },
  {
   "cell_type": "code",
   "execution_count": 53,
   "metadata": {},
   "outputs": [
    {
     "data": {
      "text/html": [
       "<div>\n",
       "<style scoped>\n",
       "    .dataframe tbody tr th:only-of-type {\n",
       "        vertical-align: middle;\n",
       "    }\n",
       "\n",
       "    .dataframe tbody tr th {\n",
       "        vertical-align: top;\n",
       "    }\n",
       "\n",
       "    .dataframe thead th {\n",
       "        text-align: right;\n",
       "    }\n",
       "</style>\n",
       "<table border=\"1\" class=\"dataframe\">\n",
       "  <thead>\n",
       "    <tr style=\"text-align: right;\">\n",
       "      <th></th>\n",
       "      <th>weight</th>\n",
       "      <th>Sex</th>\n",
       "      <th>raceeth</th>\n",
       "      <th>age</th>\n",
       "      <th>grade</th>\n",
       "      <th>suicide_consider</th>\n",
       "      <th>wght</th>\n",
       "      <th>sex_id</th>\n",
       "      <th>unsafe</th>\n",
       "      <th>inj_weapon_school</th>\n",
       "      <th>phys_fight</th>\n",
       "      <th>phys_fight_school</th>\n",
       "      <th>forced_sex</th>\n",
       "      <th>forced_sex_2</th>\n",
       "      <th>dating_viol</th>\n",
       "      <th>dating_viol_2</th>\n",
       "    </tr>\n",
       "  </thead>\n",
       "  <tbody>\n",
       "    <tr>\n",
       "      <th>0</th>\n",
       "      <td>0.5497</td>\n",
       "      <td>F</td>\n",
       "      <td>White</td>\n",
       "      <td>16 years old</td>\n",
       "      <td>11th grade</td>\n",
       "      <td>No</td>\n",
       "      <td>108.86</td>\n",
       "      <td>Heterosexual</td>\n",
       "      <td>1.0</td>\n",
       "      <td>1.0</td>\n",
       "      <td>1.0</td>\n",
       "      <td>1.0</td>\n",
       "      <td>2.0</td>\n",
       "      <td>1.0</td>\n",
       "      <td>1.0</td>\n",
       "      <td>1.0</td>\n",
       "    </tr>\n",
       "    <tr>\n",
       "      <th>1</th>\n",
       "      <td>0.5497</td>\n",
       "      <td>F</td>\n",
       "      <td>White</td>\n",
       "      <td>18 or older</td>\n",
       "      <td>11th grade</td>\n",
       "      <td>No</td>\n",
       "      <td>65.77</td>\n",
       "      <td>Heterosexual</td>\n",
       "      <td>1.0</td>\n",
       "      <td>1.0</td>\n",
       "      <td>1.0</td>\n",
       "      <td>1.0</td>\n",
       "      <td>2.0</td>\n",
       "      <td>1.0</td>\n",
       "      <td>1.0</td>\n",
       "      <td>1.0</td>\n",
       "    </tr>\n",
       "    <tr>\n",
       "      <th>2</th>\n",
       "      <td>0.5497</td>\n",
       "      <td>F</td>\n",
       "      <td>White</td>\n",
       "      <td>16 years old</td>\n",
       "      <td>11th grade</td>\n",
       "      <td>Yes</td>\n",
       "      <td>68.04</td>\n",
       "      <td>Heterosexual</td>\n",
       "      <td>1.0</td>\n",
       "      <td>1.0</td>\n",
       "      <td>1.0</td>\n",
       "      <td>1.0</td>\n",
       "      <td>2.0</td>\n",
       "      <td>1.0</td>\n",
       "      <td>1.0</td>\n",
       "      <td>1.0</td>\n",
       "    </tr>\n",
       "    <tr>\n",
       "      <th>3</th>\n",
       "      <td>0.5497</td>\n",
       "      <td>F</td>\n",
       "      <td>White</td>\n",
       "      <td>16 years old</td>\n",
       "      <td>11th grade</td>\n",
       "      <td>No</td>\n",
       "      <td>81.65</td>\n",
       "      <td>Heterosexual</td>\n",
       "      <td>1.0</td>\n",
       "      <td>1.0</td>\n",
       "      <td>1.0</td>\n",
       "      <td>1.0</td>\n",
       "      <td>2.0</td>\n",
       "      <td>1.0</td>\n",
       "      <td>1.0</td>\n",
       "      <td>1.0</td>\n",
       "    </tr>\n",
       "    <tr>\n",
       "      <th>4</th>\n",
       "      <td>0.5497</td>\n",
       "      <td>F</td>\n",
       "      <td>White</td>\n",
       "      <td>16 years old</td>\n",
       "      <td>11th grade</td>\n",
       "      <td>No</td>\n",
       "      <td>117.94</td>\n",
       "      <td>Heterosexual</td>\n",
       "      <td>1.0</td>\n",
       "      <td>1.0</td>\n",
       "      <td>1.0</td>\n",
       "      <td>1.0</td>\n",
       "      <td>2.0</td>\n",
       "      <td>1.0</td>\n",
       "      <td>1.0</td>\n",
       "      <td>1.0</td>\n",
       "    </tr>\n",
       "  </tbody>\n",
       "</table>\n",
       "</div>"
      ],
      "text/plain": [
       "   weight Sex raceeth           age       grade suicide_consider    wght  \\\n",
       "0  0.5497   F   White  16 years old  11th grade               No  108.86   \n",
       "1  0.5497   F   White   18 or older  11th grade               No   65.77   \n",
       "2  0.5497   F   White  16 years old  11th grade              Yes   68.04   \n",
       "3  0.5497   F   White  16 years old  11th grade               No   81.65   \n",
       "4  0.5497   F   White  16 years old  11th grade               No  117.94   \n",
       "\n",
       "         sex_id  unsafe  inj_weapon_school  phys_fight  phys_fight_school  \\\n",
       "0  Heterosexual     1.0                1.0         1.0                1.0   \n",
       "1  Heterosexual     1.0                1.0         1.0                1.0   \n",
       "2  Heterosexual     1.0                1.0         1.0                1.0   \n",
       "3  Heterosexual     1.0                1.0         1.0                1.0   \n",
       "4  Heterosexual     1.0                1.0         1.0                1.0   \n",
       "\n",
       "   forced_sex  forced_sex_2  dating_viol  dating_viol_2  \n",
       "0         2.0           1.0          1.0            1.0  \n",
       "1         2.0           1.0          1.0            1.0  \n",
       "2         2.0           1.0          1.0            1.0  \n",
       "3         2.0           1.0          1.0            1.0  \n",
       "4         2.0           1.0          1.0            1.0  "
      ]
     },
     "execution_count": 53,
     "metadata": {},
     "output_type": "execute_result"
    }
   ],
   "source": [
    "violence.head()"
   ]
  },
  {
   "cell_type": "markdown",
   "metadata": {},
   "source": [
    "## Missing"
   ]
  },
  {
   "cell_type": "code",
   "execution_count": 54,
   "metadata": {},
   "outputs": [
    {
     "data": {
      "text/html": [
       "<div>\n",
       "<style scoped>\n",
       "    .dataframe tbody tr th:only-of-type {\n",
       "        vertical-align: middle;\n",
       "    }\n",
       "\n",
       "    .dataframe tbody tr th {\n",
       "        vertical-align: top;\n",
       "    }\n",
       "\n",
       "    .dataframe thead th {\n",
       "        text-align: right;\n",
       "    }\n",
       "</style>\n",
       "<table border=\"1\" class=\"dataframe\">\n",
       "  <thead>\n",
       "    <tr style=\"text-align: right;\">\n",
       "      <th></th>\n",
       "      <th>Perc</th>\n",
       "      <th>Sum</th>\n",
       "    </tr>\n",
       "  </thead>\n",
       "  <tbody>\n",
       "    <tr>\n",
       "      <th>phys_fight</th>\n",
       "      <td>0.444102</td>\n",
       "      <td>101651</td>\n",
       "    </tr>\n",
       "    <tr>\n",
       "      <th>unsafe</th>\n",
       "      <td>0.439471</td>\n",
       "      <td>100591</td>\n",
       "    </tr>\n",
       "    <tr>\n",
       "      <th>dating_viol</th>\n",
       "      <td>0.068089</td>\n",
       "      <td>15585</td>\n",
       "    </tr>\n",
       "    <tr>\n",
       "      <th>dating_viol_2</th>\n",
       "      <td>0.044930</td>\n",
       "      <td>10284</td>\n",
       "    </tr>\n",
       "    <tr>\n",
       "      <th>forced_sex_2</th>\n",
       "      <td>0.039984</td>\n",
       "      <td>9152</td>\n",
       "    </tr>\n",
       "    <tr>\n",
       "      <th>forced_sex</th>\n",
       "      <td>0.024475</td>\n",
       "      <td>5602</td>\n",
       "    </tr>\n",
       "    <tr>\n",
       "      <th>phys_fight_school</th>\n",
       "      <td>0.014155</td>\n",
       "      <td>3240</td>\n",
       "    </tr>\n",
       "    <tr>\n",
       "      <th>inj_weapon_school</th>\n",
       "      <td>0.004443</td>\n",
       "      <td>1017</td>\n",
       "    </tr>\n",
       "  </tbody>\n",
       "</table>\n",
       "</div>"
      ],
      "text/plain": [
       "                       Perc     Sum\n",
       "phys_fight         0.444102  101651\n",
       "unsafe             0.439471  100591\n",
       "dating_viol        0.068089   15585\n",
       "dating_viol_2      0.044930   10284\n",
       "forced_sex_2       0.039984    9152\n",
       "forced_sex         0.024475    5602\n",
       "phys_fight_school  0.014155    3240\n",
       "inj_weapon_school  0.004443    1017"
      ]
     },
     "execution_count": 54,
     "metadata": {},
     "output_type": "execute_result"
    }
   ],
   "source": [
    "total = violence.isna().sum()/violence.isna().count()\n",
    "sum=violence.isna().sum()\n",
    "\n",
    "missing=pd.concat([total,sum],axis=1,keys=['Perc','Sum']).sort_values(by='Perc',ascending=False)\n",
    "\n",
    "colstodrop = missing[missing['Sum']>0].index\n",
    "\n",
    "missing[missing['Sum']>0]"
   ]
  },
  {
   "cell_type": "code",
   "execution_count": 67,
   "metadata": {},
   "outputs": [
    {
     "data": {
      "text/plain": [
       "1.0    214425\n",
       "2.0      6736\n",
       "3.0      3181\n",
       "8.0      1841\n",
       "4.0      1452\n",
       "5.0       923\n",
       "6.0       195\n",
       "7.0       138\n",
       "Name: inj_weapon_school, dtype: int64"
      ]
     },
     "execution_count": 67,
     "metadata": {},
     "output_type": "execute_result"
    }
   ],
   "source": [
    "violence.inj_weapon_school.value_counts()"
   ]
  },
  {
   "cell_type": "markdown",
   "metadata": {},
   "source": [
    "## Imputaion"
   ]
  },
  {
   "cell_type": "code",
   "execution_count": 66,
   "metadata": {
    "scrolled": false
   },
   "outputs": [
    {
     "name": "stdout",
     "output_type": "stream",
     "text": [
      "Dating Violence unique Values:  [1. 2. 6. 4. 3. 5.]\n",
      "Dating Violence 2 unique Values:  [1. 2. 4. 3. 6. 5.]\n",
      "Forced sex unique Values:  [1. 5. 3. 4. 2.]\n",
      "Forced sex unique Values:  [2. 1.]\n",
      "Phys fight unique Values:  [1. 3. 2. 4. 7. 5. 6. 8.]\n",
      "INj with wep unique Values:  [1. 2. 5. 3. 4. 7. 8. 6.]\n"
     ]
    }
   ],
   "source": [
    "violence['dating_viol']=violence['dating_viol'].fillna(1.0)\n",
    "print('Dating Violence unique Values: ', violence['dating_viol'].unique())\n",
    "\n",
    "violence['dating_viol_2']=violence['dating_viol_2'].fillna(2.0)\n",
    "print('Dating Violence 2 unique Values: ', violence['dating_viol_2'].unique())\n",
    "\n",
    "violence['forced_sex_2']=violence['forced_sex_2'].fillna(1.0)\n",
    "print('Forced sex unique Values: ', violence['forced_sex_2'].unique())\n",
    "\n",
    "violence['forced_sex']=violence['forced_sex'].fillna(2.0)\n",
    "print('Forced sex unique Values: ', violence['forced_sex'].unique())\n",
    "\n",
    "violence['phys_fight_school']=violence['phys_fight_school'].fillna(1.0)\n",
    "print('Phys fight unique Values: ', violence['phys_fight_school'].unique())\n",
    "\n",
    "violence['inj_weapon_school']=violence['inj_weapon_school'].fillna(1.0)\n",
    "print('INj with wep unique Values: ', violence['inj_weapon_school'].unique())\n"
   ]
  },
  {
   "cell_type": "code",
   "execution_count": 68,
   "metadata": {},
   "outputs": [
    {
     "data": {
      "text/plain": [
       "weight                    0\n",
       "Sex                       0\n",
       "raceeth                   0\n",
       "age                       0\n",
       "grade                     0\n",
       "suicide_consider          0\n",
       "wght                      0\n",
       "sex_id                    0\n",
       "unsafe               100591\n",
       "inj_weapon_school         0\n",
       "phys_fight           101651\n",
       "phys_fight_school         0\n",
       "forced_sex                0\n",
       "forced_sex_2              0\n",
       "dating_viol               0\n",
       "dating_viol_2             0\n",
       "dtype: int64"
      ]
     },
     "execution_count": 68,
     "metadata": {},
     "output_type": "execute_result"
    }
   ],
   "source": [
    "violence.isna().sum()"
   ]
  },
  {
   "cell_type": "markdown",
   "metadata": {},
   "source": [
    "## Normality"
   ]
  },
  {
   "cell_type": "code",
   "execution_count": 69,
   "metadata": {},
   "outputs": [
    {
     "data": {
      "text/plain": [
       "<matplotlib.axes._subplots.AxesSubplot at 0x1a256d0dd8>"
      ]
     },
     "execution_count": 69,
     "metadata": {},
     "output_type": "execute_result"
    },
    {
     "data": {
      "image/png": "[encoded data removed]",
      "text/plain": [
       "<Figure size 432x288 with 1 Axes>"
      ]
     },
     "metadata": {
      "needs_background": "light"
     },
     "output_type": "display_data"
    }
   ],
   "source": [
    "sns.distplot(violence['wght'])"
   ]
  },
  {
   "cell_type": "code",
   "execution_count": 70,
   "metadata": {},
   "outputs": [],
   "source": [
    "violence['wght'] = np.log1p(violence['wght'])"
   ]
  },
  {
   "cell_type": "code",
   "execution_count": 71,
   "metadata": {},
   "outputs": [],
   "source": [
    "violence.drop(['unsafe', 'phys_fight'], axis = 1, inplace = True)"
   ]
  },
  {
   "cell_type": "code",
   "execution_count": 73,
   "metadata": {},
   "outputs": [
    {
     "data": {
      "text/plain": [
       "weight               0\n",
       "Sex                  0\n",
       "raceeth              0\n",
       "age                  0\n",
       "grade                0\n",
       "suicide_consider     0\n",
       "wght                 0\n",
       "sex_id               0\n",
       "inj_weapon_school    0\n",
       "phys_fight_school    0\n",
       "forced_sex           0\n",
       "forced_sex_2         0\n",
       "dating_viol          0\n",
       "dating_viol_2        0\n",
       "dtype: int64"
      ]
     },
     "execution_count": 73,
     "metadata": {},
     "output_type": "execute_result"
    }
   ],
   "source": [
    "violence.head()\n",
    "violence.isna().sum()"
   ]
  },
  {
   "cell_type": "code",
   "execution_count": 74,
   "metadata": {},
   "outputs": [],
   "source": [
    "violence.to_csv('violence.csv', index = False)"
   ]
  },
  {
   "cell_type": "markdown",
   "metadata": {},
   "source": [
    "# Q23, Q24 : Bullying\n",
    "\n",
    "* Q23: During the past 12 months, have you ever been bullied on school property? 1.0 = Yes, 2.0 = No\n",
    "\n",
    "* Q24: During the past 12 months, have you ever been electronically bullied? (Count being bullied through texting, Instagram, Facebook, or other social media.) 1.0 = Yes, 2.0 = No"
   ]
  },
  {
   "cell_type": "code",
   "execution_count": 77,
   "metadata": {},
   "outputs": [],
   "source": [
    "bullied = pd.DataFrame(cdc_data[['q23', 'q24', 'weight']]) \n",
    "\n",
    "bullied = pd.merge(bullied, Demo, how='outer', on='weight')"
   ]
  },
  {
   "cell_type": "code",
   "execution_count": 78,
   "metadata": {},
   "outputs": [
    {
     "data": {
      "text/html": [
       "<div>\n",
       "<style scoped>\n",
       "    .dataframe tbody tr th:only-of-type {\n",
       "        vertical-align: middle;\n",
       "    }\n",
       "\n",
       "    .dataframe tbody tr th {\n",
       "        vertical-align: top;\n",
       "    }\n",
       "\n",
       "    .dataframe thead th {\n",
       "        text-align: right;\n",
       "    }\n",
       "</style>\n",
       "<table border=\"1\" class=\"dataframe\">\n",
       "  <thead>\n",
       "    <tr style=\"text-align: right;\">\n",
       "      <th></th>\n",
       "      <th>q23</th>\n",
       "      <th>q24</th>\n",
       "      <th>weight</th>\n",
       "      <th>Sex</th>\n",
       "      <th>raceeth</th>\n",
       "      <th>age</th>\n",
       "      <th>grade</th>\n",
       "      <th>suicide_consider</th>\n",
       "      <th>wght</th>\n",
       "      <th>sex_id</th>\n",
       "    </tr>\n",
       "  </thead>\n",
       "  <tbody>\n",
       "    <tr>\n",
       "      <th>0</th>\n",
       "      <td>2.0</td>\n",
       "      <td>2.0</td>\n",
       "      <td>0.5497</td>\n",
       "      <td>F</td>\n",
       "      <td>White</td>\n",
       "      <td>16 years old</td>\n",
       "      <td>11th grade</td>\n",
       "      <td>No</td>\n",
       "      <td>108.86</td>\n",
       "      <td>Heterosexual</td>\n",
       "    </tr>\n",
       "    <tr>\n",
       "      <th>1</th>\n",
       "      <td>2.0</td>\n",
       "      <td>2.0</td>\n",
       "      <td>0.5497</td>\n",
       "      <td>F</td>\n",
       "      <td>White</td>\n",
       "      <td>18 or older</td>\n",
       "      <td>11th grade</td>\n",
       "      <td>No</td>\n",
       "      <td>65.77</td>\n",
       "      <td>Heterosexual</td>\n",
       "    </tr>\n",
       "    <tr>\n",
       "      <th>2</th>\n",
       "      <td>2.0</td>\n",
       "      <td>2.0</td>\n",
       "      <td>0.5497</td>\n",
       "      <td>F</td>\n",
       "      <td>White</td>\n",
       "      <td>16 years old</td>\n",
       "      <td>11th grade</td>\n",
       "      <td>Yes</td>\n",
       "      <td>68.04</td>\n",
       "      <td>Heterosexual</td>\n",
       "    </tr>\n",
       "    <tr>\n",
       "      <th>3</th>\n",
       "      <td>2.0</td>\n",
       "      <td>2.0</td>\n",
       "      <td>0.5497</td>\n",
       "      <td>F</td>\n",
       "      <td>White</td>\n",
       "      <td>16 years old</td>\n",
       "      <td>11th grade</td>\n",
       "      <td>No</td>\n",
       "      <td>81.65</td>\n",
       "      <td>Heterosexual</td>\n",
       "    </tr>\n",
       "    <tr>\n",
       "      <th>4</th>\n",
       "      <td>2.0</td>\n",
       "      <td>2.0</td>\n",
       "      <td>0.5497</td>\n",
       "      <td>F</td>\n",
       "      <td>White</td>\n",
       "      <td>16 years old</td>\n",
       "      <td>11th grade</td>\n",
       "      <td>No</td>\n",
       "      <td>117.94</td>\n",
       "      <td>Heterosexual</td>\n",
       "    </tr>\n",
       "  </tbody>\n",
       "</table>\n",
       "</div>"
      ],
      "text/plain": [
       "   q23  q24  weight Sex raceeth           age       grade suicide_consider  \\\n",
       "0  2.0  2.0  0.5497   F   White  16 years old  11th grade               No   \n",
       "1  2.0  2.0  0.5497   F   White   18 or older  11th grade               No   \n",
       "2  2.0  2.0  0.5497   F   White  16 years old  11th grade              Yes   \n",
       "3  2.0  2.0  0.5497   F   White  16 years old  11th grade               No   \n",
       "4  2.0  2.0  0.5497   F   White  16 years old  11th grade               No   \n",
       "\n",
       "     wght        sex_id  \n",
       "0  108.86  Heterosexual  \n",
       "1   65.77  Heterosexual  \n",
       "2   68.04  Heterosexual  \n",
       "3   81.65  Heterosexual  \n",
       "4  117.94  Heterosexual  "
      ]
     },
     "execution_count": 78,
     "metadata": {},
     "output_type": "execute_result"
    }
   ],
   "source": [
    "bullied.head()"
   ]
  },
  {
   "cell_type": "code",
   "execution_count": 80,
   "metadata": {},
   "outputs": [],
   "source": [
    "bullied['bullied_school'] = bullied['q23']\n",
    "bullied['bullied_electronic'] = bullied['q24']"
   ]
  },
  {
   "cell_type": "code",
   "execution_count": 81,
   "metadata": {},
   "outputs": [
    {
     "data": {
      "text/plain": [
       "Index(['q23', 'q24', 'weight', 'Sex', 'raceeth', 'age', 'grade',\n",
       "       'suicide_consider', 'wght', 'sex_id', 'bullied_school',\n",
       "       'bullied_electronic'],\n",
       "      dtype='object')"
      ]
     },
     "execution_count": 81,
     "metadata": {},
     "output_type": "execute_result"
    }
   ],
   "source": [
    "bullied.columns"
   ]
  },
  {
   "cell_type": "code",
   "execution_count": 82,
   "metadata": {},
   "outputs": [],
   "source": [
    "bullied.drop(['q23', 'q24'], axis = 1, inplace = True)"
   ]
  },
  {
   "cell_type": "markdown",
   "metadata": {},
   "source": [
    "## Missing"
   ]
  },
  {
   "cell_type": "code",
   "execution_count": 84,
   "metadata": {},
   "outputs": [
    {
     "data": {
      "text/html": [
       "<div>\n",
       "<style scoped>\n",
       "    .dataframe tbody tr th:only-of-type {\n",
       "        vertical-align: middle;\n",
       "    }\n",
       "\n",
       "    .dataframe tbody tr th {\n",
       "        vertical-align: top;\n",
       "    }\n",
       "\n",
       "    .dataframe thead th {\n",
       "        text-align: right;\n",
       "    }\n",
       "</style>\n",
       "<table border=\"1\" class=\"dataframe\">\n",
       "  <thead>\n",
       "    <tr style=\"text-align: right;\">\n",
       "      <th></th>\n",
       "      <th>Perc</th>\n",
       "      <th>Sum</th>\n",
       "    </tr>\n",
       "  </thead>\n",
       "  <tbody>\n",
       "    <tr>\n",
       "      <th>bullied_electronic</th>\n",
       "      <td>0.010857</td>\n",
       "      <td>2485</td>\n",
       "    </tr>\n",
       "    <tr>\n",
       "      <th>bullied_school</th>\n",
       "      <td>0.009917</td>\n",
       "      <td>2270</td>\n",
       "    </tr>\n",
       "  </tbody>\n",
       "</table>\n",
       "</div>"
      ],
      "text/plain": [
       "                        Perc   Sum\n",
       "bullied_electronic  0.010857  2485\n",
       "bullied_school      0.009917  2270"
      ]
     },
     "execution_count": 84,
     "metadata": {},
     "output_type": "execute_result"
    }
   ],
   "source": [
    "total = bullied.isna().sum()/bullied.isna().count()\n",
    "sum=bullied.isna().sum()\n",
    "\n",
    "missing=pd.concat([total,sum],axis=1,keys=['Perc','Sum']).sort_values(by='Perc',ascending=False)\n",
    "\n",
    "colstodrop = missing[missing['Sum']>0].index\n",
    "\n",
    "missing[missing['Sum']>0]"
   ]
  },
  {
   "cell_type": "code",
   "execution_count": 87,
   "metadata": {},
   "outputs": [
    {
     "data": {
      "text/plain": [
       "2.0    182746\n",
       "1.0     43875\n",
       "Name: bullied_school, dtype: int64"
      ]
     },
     "execution_count": 87,
     "metadata": {},
     "output_type": "execute_result"
    }
   ],
   "source": [
    "bullied.bullied_school.value_counts()"
   ]
  },
  {
   "cell_type": "code",
   "execution_count": 88,
   "metadata": {},
   "outputs": [
    {
     "name": "stdout",
     "output_type": "stream",
     "text": [
      "Elec Bully unique Values:  [2. 1.]\n",
      "bullied_school unique Values:  [2. 1.]\n"
     ]
    }
   ],
   "source": [
    "bullied['bullied_electronic']=bullied['bullied_electronic'].fillna(2.0)\n",
    "print('Elec Bully unique Values: ', bullied['bullied_electronic'].unique())\n",
    "\n",
    "bullied['bullied_school']=bullied['bullied_school'].fillna(2.0)\n",
    "print('bullied_school unique Values: ', bullied['bullied_school'].unique())\n"
   ]
  },
  {
   "cell_type": "code",
   "execution_count": 89,
   "metadata": {},
   "outputs": [
    {
     "data": {
      "text/plain": [
       "weight                0\n",
       "Sex                   0\n",
       "raceeth               0\n",
       "age                   0\n",
       "grade                 0\n",
       "suicide_consider      0\n",
       "wght                  0\n",
       "sex_id                0\n",
       "bullied_school        0\n",
       "bullied_electronic    0\n",
       "dtype: int64"
      ]
     },
     "execution_count": 89,
     "metadata": {},
     "output_type": "execute_result"
    }
   ],
   "source": [
    "bullied.isna().sum()"
   ]
  },
  {
   "cell_type": "code",
   "execution_count": 90,
   "metadata": {},
   "outputs": [
    {
     "data": {
      "text/plain": [
       "<matplotlib.axes._subplots.AxesSubplot at 0x1a253602e8>"
      ]
     },
     "execution_count": 90,
     "metadata": {},
     "output_type": "execute_result"
    },
    {
     "data": {
      "image/png": "[encoded data removed]",
      "text/plain": [
       "<Figure size 432x288 with 1 Axes>"
      ]
     },
     "metadata": {
      "needs_background": "light"
     },
     "output_type": "display_data"
    }
   ],
   "source": [
    "sns.distplot(bullied['wght'])"
   ]
  },
  {
   "cell_type": "code",
   "execution_count": 91,
   "metadata": {},
   "outputs": [],
   "source": [
    "bullied['wght'] = np.log1p(bullied['wght'])"
   ]
  },
  {
   "cell_type": "code",
   "execution_count": 92,
   "metadata": {},
   "outputs": [],
   "source": [
    "bullied.to_csv('bullied.csv', index = False)"
   ]
  }
 ],
 "metadata": {
  "kernelspec": {
   "display_name": "Python 3",
   "language": "python",
   "name": "python3"
  },
  "language_info": {
   "codemirror_mode": {
    "name": "ipython",
    "version": 3
   },
   "file_extension": ".py",
   "mimetype": "text/x-python",
   "name": "python",
   "nbconvert_exporter": "python",
   "pygments_lexer": "ipython3",
   "version": "3.7.3"
  }
 },
 "nbformat": 4,
 "nbformat_minor": 2
}
